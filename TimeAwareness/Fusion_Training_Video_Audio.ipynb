{
 "cells": [
  {
   "cell_type": "markdown",
   "metadata": {},
   "source": [
    "# Fusion of Video and Audio features\n",
    "## Without Doing Time Shifting\n",
    "## Training on Synchronized Video and Audio Data"
   ]
  },
  {
   "cell_type": "markdown",
   "metadata": {},
   "source": [
    "## Video and Audio data is concatenated at an intermediate layer and then prediction is made"
   ]
  },
  {
   "cell_type": "code",
   "execution_count": 1,
   "metadata": {},
   "outputs": [],
   "source": [
    "import numpy as np\n",
    "import scipy.io\n",
    "\n",
    "# random seed.\n",
    "rand_seed = 1\n",
    "\n",
    "from numpy.random import seed\n",
    "seed(rand_seed)\n",
    "from tqdm.keras import TqdmCallback\n",
    "import tensorflow\n",
    "tensorflow.random.set_seed(rand_seed)\n",
    "\n",
    "import keras\n",
    "from keras.models import Sequential\n",
    "from keras.layers import Conv3D, MaxPooling3D, LSTM, Dense, Dropout, Flatten, Activation, BatchNormalization, GlobalAveragePooling3D, TimeDistributed, ConvLSTM2D\n",
    "from keras.layers.core import Permute, Reshape\n",
    "from keras import backend as K\n"
   ]
  },
  {
   "cell_type": "code",
   "execution_count": 2,
   "metadata": {},
   "outputs": [],
   "source": [
    "def one_hot_encoding(y_data):\n",
    "    Mapping=dict()\n",
    "    sub_dirs=['downstair','upstair','run','jump','walk','handwashing','exercise']\n",
    "\n",
    "    categories=10\n",
    "\n",
    "\n",
    "    count=0\n",
    "    for i in sub_dirs:\n",
    "        Mapping[i]=count\n",
    "        count=count+1\n",
    "\n",
    "    y_features2=[]\n",
    "    for i in range(len(y_data)):\n",
    "        Type=y_data[i]\n",
    "        lab=Mapping[Type]\n",
    "        y_features2.append(lab)\n",
    "\n",
    "    y_features=np.array(y_features2)\n",
    "    y_features=y_features.reshape(y_features.shape[0],1)\n",
    "    from keras.utils import to_categorical\n",
    "    y_features = to_categorical(y_features)\n",
    "\n",
    "    return y_features"
   ]
  },
  {
   "cell_type": "code",
   "execution_count": 3,
   "metadata": {},
   "outputs": [],
   "source": [
    "path='C:/Users/macro/Desktop/UCLA Class/ECE 209AS ML/TimeAwareness/data/'\n",
    "\n",
    "def get_train_and_validate_data(path=path):\n",
    "    Train_data = np.load(path+'Data_train_all.npz')\n",
    "    Labels = Train_data['arr_1']\n",
    "    Features_audio = Train_data['arr_2']\n",
    "    Features_video = Train_data['arr_3']\n",
    "\n",
    "    Labels = one_hot_encoding(Labels)\n",
    "    \n",
    "    randomize = np.arange(len(Labels))\n",
    "    np.random.shuffle(randomize)\n",
    "    \n",
    "    Labels = Labels[randomize]\n",
    "    Features_audio = Features_audio[randomize]\n",
    "    Features_video = Features_video[randomize]\n",
    "    \n",
    "    #Features_video = Features_video.astype('float32')\n",
    "    #Features_video /= 255\n",
    "    \n",
    "    new_Labels = np.split(Labels,[Labels.shape[0] - 2000])\n",
    "    new_Features_audio = np.split(Features_audio,[Features_audio.shape[0] - 2000])\n",
    "    new_Features_video = np.split(Features_video,[Features_video.shape[0] - 2000])\n",
    "    \n",
    "    return new_Labels[0],new_Features_audio[0],new_Features_video[0],new_Labels[1],new_Features_audio[1],new_Features_video[1]\n",
    "\n",
    "\n",
    "def get_test_data(path=path):\n",
    "    Train_data = np.load(path+'Data_test_71.pkl',allow_pickle=True)\n",
    "    Labels = Train_data[1]\n",
    "    Features_audio = Train_data[2]\n",
    "    Features_video = Train_data[3]\n",
    "\n",
    "    Labels = one_hot_encoding(Labels)\n",
    "    \n",
    "    #new_Features_video = Features_video.astype('float32')\n",
    "    #new_Features_video /= 255\n",
    "\n",
    "    return Labels,Features_audio,Features_video"
   ]
  },
  {
   "cell_type": "code",
   "execution_count": 4,
   "metadata": {},
   "outputs": [
    {
     "name": "stdout",
     "output_type": "stream",
     "text": [
      "(9976, 7) (9976, 193) (9976, 45, 64, 64, 3)\n",
      "Train Classes distribution:  [1535. 1970. 1105. 1533. 1057. 1490. 1286.]\n",
      "(2000, 7) (2000, 193) (2000, 45, 64, 64, 3)\n",
      "Validate Classes distribution:  [298. 390. 203. 315. 215. 289. 290.]\n",
      "(1377, 7) (1377, 193) (1377, 45, 64, 64, 3)\n",
      "Test Classes distribution:  [219. 268. 124. 146. 143. 234. 243.]\n"
     ]
    }
   ],
   "source": [
    "Labels,Features_audio,Features_video,Labels2,Features_audio2,Features_video2 = get_train_and_validate_data()\n",
    "print(Labels.shape,Features_audio.shape,Features_video.shape)\n",
    "print('Train Classes distribution: ',np.sum(Labels, axis = 0))\n",
    "\n",
    "print(Labels2.shape,Features_audio2.shape,Features_video2.shape)\n",
    "print('Validate Classes distribution: ',np.sum(Labels2, axis = 0))\n",
    "\n",
    "Labels3,Features_audio3,Features_video3 = get_test_data()\n",
    "print(Labels3.shape,Features_audio3.shape,Features_video3.shape)\n",
    "print('Test Classes distribution: ',np.sum(Labels3, axis = 0))"
   ]
  },
  {
   "cell_type": "markdown",
   "metadata": {},
   "source": [
    "# Combined Model: Video + Audio"
   ]
  },
  {
   "cell_type": "code",
   "execution_count": 5,
   "metadata": {},
   "outputs": [],
   "source": [
    "num_classes = 7\n",
    "\n",
    "def combined_video_audio_model():\n",
    "    input_audio = keras.layers.Input(shape=(193,))\n",
    "    A1 = keras.layers.Dense(256, activation='relu')(input_audio)\n",
    "    A2 = keras.layers.Dense(256, activation='relu')(A1)\n",
    "    A3 = keras.layers.Dropout(0.3)(A2)\n",
    "\n",
    "\n",
    "    input_video = keras.layers.Input(shape=(45, 64, 64, 3))\n",
    "    V1 = keras.layers.Conv3D(32, kernel_size=(3,3,3), strides=(1,1,1), activation='relu', padding='same', name='conv1', input_shape=(45, 64, 64, 3))(input_video)\n",
    "    V2 = keras.layers.MaxPooling3D(pool_size=(1,2,2), strides=(1,2,2), padding='valid', name='pool1')(V1)\n",
    "\n",
    "    V3 = keras.layers.Conv3D(64, kernel_size=(3,3,3), strides=(1,1,1), activation='relu', padding='same', name='conv2', input_shape=(45, 64, 64, 3))(V2)\n",
    "    V4 = keras.layers.MaxPooling3D(pool_size=(2,2,2), strides=(2,2,2), padding='valid', name='pool2')(V3)\n",
    "\n",
    "    V5 = keras.layers.Conv3D(64, kernel_size=(3,3,3), strides=(1,1,1), activation='relu', padding='same', name='conv3a')(V4)\n",
    "    V6 = keras.layers.Conv3D(64, kernel_size=(3,3,3), strides=(1,1,1), activation='relu', padding='same', name='conv3b')(V5)\n",
    "    V7 = keras.layers.MaxPooling3D(pool_size=(2,2,2), strides=(2,2,2), padding='valid', name='pool3')(V6)\n",
    "\n",
    "    V8 = keras.layers.Conv3D(128, kernel_size=(3,3,3), strides=(1,1,1), activation='relu', padding='same', name='conv4a')(V7)\n",
    "    V9 = keras.layers.Conv3D(128, kernel_size=(3,3,3), strides=(1,1,1), activation='relu', padding='same', name='conv4b')(V8)\n",
    "    V10 = keras.layers.MaxPooling3D(pool_size=(2,2,2), strides=(2,2,2), padding='valid', name='pool4')(V9)\n",
    "\n",
    "    V11 = keras.layers.Flatten()(V10)\n",
    "    V12 = keras.layers.Dense(1024, activation='relu', name='fc1')(V11)\n",
    "    V13 = keras.layers.Dropout(0.5)(V12)\n",
    "\n",
    "    V14 = keras.layers.Dense(1024, activation='relu', name='fc2')(V13)\n",
    "    V15 = keras.layers.Dropout(0.5)(V14)\n",
    "\n",
    "\n",
    "    # equivalent to added = keras.layers.add([x1, x2])\n",
    "    C1 = keras.layers.concatenate([A3, V15], axis=-1)\n",
    "    C2 = keras.layers.Dense(128, activation='relu', name='combined_fc')(C1)\n",
    "\n",
    "    out = keras.layers.Dense(num_classes, activation='softmax')(C2)\n",
    "\n",
    "    model = keras.models.Model(inputs=[input_audio, input_video], outputs=out)\n",
    "    \n",
    "    return model\n"
   ]
  },
  {
   "cell_type": "code",
   "execution_count": 6,
   "metadata": {},
   "outputs": [],
   "source": [
    "combined_model = combined_video_audio_model()"
   ]
  },
  {
   "cell_type": "code",
   "execution_count": 7,
   "metadata": {},
   "outputs": [
    {
     "name": "stdout",
     "output_type": "stream",
     "text": [
      "Model: \"functional_1\"\n",
      "__________________________________________________________________________________________________\n",
      "Layer (type)                    Output Shape         Param #     Connected to                     \n",
      "==================================================================================================\n",
      "input_2 (InputLayer)            [(None, 45, 64, 64,  0                                            \n",
      "__________________________________________________________________________________________________\n",
      "conv1 (Conv3D)                  (None, 45, 64, 64, 3 2624        input_2[0][0]                    \n",
      "__________________________________________________________________________________________________\n",
      "pool1 (MaxPooling3D)            (None, 45, 32, 32, 3 0           conv1[0][0]                      \n",
      "__________________________________________________________________________________________________\n",
      "conv2 (Conv3D)                  (None, 45, 32, 32, 6 55360       pool1[0][0]                      \n",
      "__________________________________________________________________________________________________\n",
      "pool2 (MaxPooling3D)            (None, 22, 16, 16, 6 0           conv2[0][0]                      \n",
      "__________________________________________________________________________________________________\n",
      "conv3a (Conv3D)                 (None, 22, 16, 16, 6 110656      pool2[0][0]                      \n",
      "__________________________________________________________________________________________________\n",
      "conv3b (Conv3D)                 (None, 22, 16, 16, 6 110656      conv3a[0][0]                     \n",
      "__________________________________________________________________________________________________\n",
      "pool3 (MaxPooling3D)            (None, 11, 8, 8, 64) 0           conv3b[0][0]                     \n",
      "__________________________________________________________________________________________________\n",
      "conv4a (Conv3D)                 (None, 11, 8, 8, 128 221312      pool3[0][0]                      \n",
      "__________________________________________________________________________________________________\n",
      "conv4b (Conv3D)                 (None, 11, 8, 8, 128 442496      conv4a[0][0]                     \n",
      "__________________________________________________________________________________________________\n",
      "pool4 (MaxPooling3D)            (None, 5, 4, 4, 128) 0           conv4b[0][0]                     \n",
      "__________________________________________________________________________________________________\n",
      "flatten (Flatten)               (None, 10240)        0           pool4[0][0]                      \n",
      "__________________________________________________________________________________________________\n",
      "input_1 (InputLayer)            [(None, 193)]        0                                            \n",
      "__________________________________________________________________________________________________\n",
      "fc1 (Dense)                     (None, 1024)         10486784    flatten[0][0]                    \n",
      "__________________________________________________________________________________________________\n",
      "dense (Dense)                   (None, 256)          49664       input_1[0][0]                    \n",
      "__________________________________________________________________________________________________\n",
      "dropout_1 (Dropout)             (None, 1024)         0           fc1[0][0]                        \n",
      "__________________________________________________________________________________________________\n",
      "dense_1 (Dense)                 (None, 256)          65792       dense[0][0]                      \n",
      "__________________________________________________________________________________________________\n",
      "fc2 (Dense)                     (None, 1024)         1049600     dropout_1[0][0]                  \n",
      "__________________________________________________________________________________________________\n",
      "dropout (Dropout)               (None, 256)          0           dense_1[0][0]                    \n",
      "__________________________________________________________________________________________________\n",
      "dropout_2 (Dropout)             (None, 1024)         0           fc2[0][0]                        \n",
      "__________________________________________________________________________________________________\n",
      "concatenate (Concatenate)       (None, 1280)         0           dropout[0][0]                    \n",
      "                                                                 dropout_2[0][0]                  \n",
      "__________________________________________________________________________________________________\n",
      "combined_fc (Dense)             (None, 128)          163968      concatenate[0][0]                \n",
      "__________________________________________________________________________________________________\n",
      "dense_2 (Dense)                 (None, 7)            903         combined_fc[0][0]                \n",
      "==================================================================================================\n",
      "Total params: 12,759,815\n",
      "Trainable params: 12,759,815\n",
      "Non-trainable params: 0\n",
      "__________________________________________________________________________________________________\n"
     ]
    }
   ],
   "source": [
    "combined_model.summary()"
   ]
  },
  {
   "cell_type": "code",
   "execution_count": 8,
   "metadata": {},
   "outputs": [],
   "source": [
    "model_path = 'C:/Users/macro/Desktop/UCLA Class/ECE 209AS ML/TimeAwareness/Baseline Models/audio_video_combined_model_checkpoint'\n",
    "\n",
    "from keras.callbacks import ReduceLROnPlateau\n",
    "from keras.callbacks import Callback\n",
    "from keras.callbacks import ModelCheckpoint\n",
    "from keras.callbacks import EarlyStopping\n",
    "\n",
    "checkpointer = ModelCheckpoint(filepath=model_path, verbose=1,monitor='val_accuracy' ,save_best_only=True, save_weights_only=False)\n",
    "earlystopper = EarlyStopping(monitor='val_accuracy',patience=5)"
   ]
  },
  {
   "cell_type": "code",
   "execution_count": 9,
   "metadata": {
    "scrolled": true
   },
   "outputs": [
    {
     "data": {
      "application/vnd.jupyter.widget-view+json": {
       "model_id": "df7095557702476aa1311e10ee3094e5",
       "version_major": 2,
       "version_minor": 0
      },
      "text/plain": [
       "0epoch [00:00, ?epoch/s]"
      ]
     },
     "metadata": {},
     "output_type": "display_data"
    },
    {
     "data": {
      "application/vnd.jupyter.widget-view+json": {
       "model_id": "d922138a113a4cd5856eef60d51fbcd8",
       "version_major": 2,
       "version_minor": 0
      },
      "text/plain": [
       "  0%|          | 0.00/156 [00:00<?, ?batch/s]"
      ]
     },
     "metadata": {},
     "output_type": "display_data"
    },
    {
     "name": "stdout",
     "output_type": "stream",
     "text": [
      "WARNING:tensorflow:Callbacks method `on_train_batch_end` is slow compared to the batch time (batch time: 0.2055s vs `on_train_batch_end` time: 0.3287s). Check your callbacks.\n",
      "\n",
      "Epoch 00001: val_accuracy improved from -inf to 0.73150, saving model to C:/Users/macro/Desktop/UCLA Class/ECE 209AS ML/TimeAwareness/Baseline Models\\audio_video_combined_model_checkpoint\n",
      "WARNING:tensorflow:From E:\\Anaconda\\envs\\GPUEnv\\lib\\site-packages\\tensorflow\\python\\training\\tracking\\tracking.py:111: Model.state_updates (from tensorflow.python.keras.engine.training) is deprecated and will be removed in a future version.\n",
      "Instructions for updating:\n",
      "This property should not be used in TensorFlow 2.0, as updates are applied automatically.\n",
      "WARNING:tensorflow:From E:\\Anaconda\\envs\\GPUEnv\\lib\\site-packages\\tensorflow\\python\\training\\tracking\\tracking.py:111: Layer.updates (from tensorflow.python.keras.engine.base_layer) is deprecated and will be removed in a future version.\n",
      "Instructions for updating:\n",
      "This property should not be used in TensorFlow 2.0, as updates are applied automatically.\n",
      "INFO:tensorflow:Assets written to: C:/Users/macro/Desktop/UCLA Class/ECE 209AS ML/TimeAwareness/Baseline Models\\audio_video_combined_model_checkpoint\\assets\n"
     ]
    },
    {
     "data": {
      "application/vnd.jupyter.widget-view+json": {
       "model_id": "6d46e1d727a242239aeabadd1fdc2940",
       "version_major": 2,
       "version_minor": 0
      },
      "text/plain": [
       "  0%|          | 0.00/156 [00:00<?, ?batch/s]"
      ]
     },
     "metadata": {},
     "output_type": "display_data"
    },
    {
     "name": "stdout",
     "output_type": "stream",
     "text": [
      "\n",
      "Epoch 00002: val_accuracy improved from 0.73150 to 0.90750, saving model to C:/Users/macro/Desktop/UCLA Class/ECE 209AS ML/TimeAwareness/Baseline Models\\audio_video_combined_model_checkpoint\n",
      "INFO:tensorflow:Assets written to: C:/Users/macro/Desktop/UCLA Class/ECE 209AS ML/TimeAwareness/Baseline Models\\audio_video_combined_model_checkpoint\\assets\n"
     ]
    },
    {
     "data": {
      "application/vnd.jupyter.widget-view+json": {
       "model_id": "6b9fd283e8e84e68bba7239b690659e6",
       "version_major": 2,
       "version_minor": 0
      },
      "text/plain": [
       "  0%|          | 0.00/156 [00:00<?, ?batch/s]"
      ]
     },
     "metadata": {},
     "output_type": "display_data"
    },
    {
     "name": "stdout",
     "output_type": "stream",
     "text": [
      "\n",
      "Epoch 00003: val_accuracy improved from 0.90750 to 0.97000, saving model to C:/Users/macro/Desktop/UCLA Class/ECE 209AS ML/TimeAwareness/Baseline Models\\audio_video_combined_model_checkpoint\n",
      "INFO:tensorflow:Assets written to: C:/Users/macro/Desktop/UCLA Class/ECE 209AS ML/TimeAwareness/Baseline Models\\audio_video_combined_model_checkpoint\\assets\n"
     ]
    },
    {
     "data": {
      "application/vnd.jupyter.widget-view+json": {
       "model_id": "89aaf54030494af0b129594efcde3ffb",
       "version_major": 2,
       "version_minor": 0
      },
      "text/plain": [
       "  0%|          | 0.00/156 [00:00<?, ?batch/s]"
      ]
     },
     "metadata": {},
     "output_type": "display_data"
    },
    {
     "name": "stdout",
     "output_type": "stream",
     "text": [
      "\n",
      "Epoch 00004: val_accuracy improved from 0.97000 to 0.98000, saving model to C:/Users/macro/Desktop/UCLA Class/ECE 209AS ML/TimeAwareness/Baseline Models\\audio_video_combined_model_checkpoint\n",
      "INFO:tensorflow:Assets written to: C:/Users/macro/Desktop/UCLA Class/ECE 209AS ML/TimeAwareness/Baseline Models\\audio_video_combined_model_checkpoint\\assets\n"
     ]
    },
    {
     "data": {
      "application/vnd.jupyter.widget-view+json": {
       "model_id": "65dfdd60d1a146c3923e9c6c8bbf0007",
       "version_major": 2,
       "version_minor": 0
      },
      "text/plain": [
       "  0%|          | 0.00/156 [00:00<?, ?batch/s]"
      ]
     },
     "metadata": {},
     "output_type": "display_data"
    },
    {
     "name": "stdout",
     "output_type": "stream",
     "text": [
      "\n",
      "Epoch 00005: val_accuracy did not improve from 0.98000\n"
     ]
    },
    {
     "data": {
      "application/vnd.jupyter.widget-view+json": {
       "model_id": "2ecbf441049543018ab0573ad827fa82",
       "version_major": 2,
       "version_minor": 0
      },
      "text/plain": [
       "  0%|          | 0.00/156 [00:00<?, ?batch/s]"
      ]
     },
     "metadata": {},
     "output_type": "display_data"
    },
    {
     "name": "stdout",
     "output_type": "stream",
     "text": [
      "\n",
      "Epoch 00006: val_accuracy improved from 0.98000 to 0.98300, saving model to C:/Users/macro/Desktop/UCLA Class/ECE 209AS ML/TimeAwareness/Baseline Models\\audio_video_combined_model_checkpoint\n",
      "INFO:tensorflow:Assets written to: C:/Users/macro/Desktop/UCLA Class/ECE 209AS ML/TimeAwareness/Baseline Models\\audio_video_combined_model_checkpoint\\assets\n"
     ]
    },
    {
     "data": {
      "application/vnd.jupyter.widget-view+json": {
       "model_id": "6d7ece7edab04c5a898940802a7ecd86",
       "version_major": 2,
       "version_minor": 0
      },
      "text/plain": [
       "  0%|          | 0.00/156 [00:00<?, ?batch/s]"
      ]
     },
     "metadata": {},
     "output_type": "display_data"
    },
    {
     "name": "stdout",
     "output_type": "stream",
     "text": [
      "\n",
      "Epoch 00007: val_accuracy did not improve from 0.98300\n"
     ]
    },
    {
     "data": {
      "application/vnd.jupyter.widget-view+json": {
       "model_id": "06f0ae52e3494e6384fbc9bde11ad705",
       "version_major": 2,
       "version_minor": 0
      },
      "text/plain": [
       "  0%|          | 0.00/156 [00:00<?, ?batch/s]"
      ]
     },
     "metadata": {},
     "output_type": "display_data"
    },
    {
     "name": "stdout",
     "output_type": "stream",
     "text": [
      "\n",
      "Epoch 00008: val_accuracy improved from 0.98300 to 0.98800, saving model to C:/Users/macro/Desktop/UCLA Class/ECE 209AS ML/TimeAwareness/Baseline Models\\audio_video_combined_model_checkpoint\n",
      "INFO:tensorflow:Assets written to: C:/Users/macro/Desktop/UCLA Class/ECE 209AS ML/TimeAwareness/Baseline Models\\audio_video_combined_model_checkpoint\\assets\n"
     ]
    },
    {
     "data": {
      "application/vnd.jupyter.widget-view+json": {
       "model_id": "eb5a058c093d49458ffe7511018c1dbd",
       "version_major": 2,
       "version_minor": 0
      },
      "text/plain": [
       "  0%|          | 0.00/156 [00:00<?, ?batch/s]"
      ]
     },
     "metadata": {},
     "output_type": "display_data"
    },
    {
     "name": "stdout",
     "output_type": "stream",
     "text": [
      "\n",
      "Epoch 00009: val_accuracy did not improve from 0.98800\n"
     ]
    },
    {
     "data": {
      "application/vnd.jupyter.widget-view+json": {
       "model_id": "5ca5caac6ad5431c8fc41efc15e1d615",
       "version_major": 2,
       "version_minor": 0
      },
      "text/plain": [
       "  0%|          | 0.00/156 [00:00<?, ?batch/s]"
      ]
     },
     "metadata": {},
     "output_type": "display_data"
    },
    {
     "name": "stdout",
     "output_type": "stream",
     "text": [
      "\n",
      "Epoch 00010: val_accuracy improved from 0.98800 to 0.99500, saving model to C:/Users/macro/Desktop/UCLA Class/ECE 209AS ML/TimeAwareness/Baseline Models\\audio_video_combined_model_checkpoint\n",
      "INFO:tensorflow:Assets written to: C:/Users/macro/Desktop/UCLA Class/ECE 209AS ML/TimeAwareness/Baseline Models\\audio_video_combined_model_checkpoint\\assets\n"
     ]
    },
    {
     "data": {
      "application/vnd.jupyter.widget-view+json": {
       "model_id": "af70bd9f49cc4414b87fe189dd43bc17",
       "version_major": 2,
       "version_minor": 0
      },
      "text/plain": [
       "  0%|          | 0.00/156 [00:00<?, ?batch/s]"
      ]
     },
     "metadata": {},
     "output_type": "display_data"
    },
    {
     "name": "stdout",
     "output_type": "stream",
     "text": [
      "\n",
      "Epoch 00011: val_accuracy did not improve from 0.99500\n"
     ]
    },
    {
     "data": {
      "application/vnd.jupyter.widget-view+json": {
       "model_id": "a3bfe7edc5504ac8bbf01bf2bfe20531",
       "version_major": 2,
       "version_minor": 0
      },
      "text/plain": [
       "  0%|          | 0.00/156 [00:00<?, ?batch/s]"
      ]
     },
     "metadata": {},
     "output_type": "display_data"
    },
    {
     "name": "stdout",
     "output_type": "stream",
     "text": [
      "\n",
      "Epoch 00012: val_accuracy did not improve from 0.99500\n"
     ]
    },
    {
     "data": {
      "application/vnd.jupyter.widget-view+json": {
       "model_id": "023338baca21487592f42f8a5ef1e480",
       "version_major": 2,
       "version_minor": 0
      },
      "text/plain": [
       "  0%|          | 0.00/156 [00:00<?, ?batch/s]"
      ]
     },
     "metadata": {},
     "output_type": "display_data"
    },
    {
     "name": "stdout",
     "output_type": "stream",
     "text": [
      "\n",
      "Epoch 00013: val_accuracy did not improve from 0.99500\n"
     ]
    },
    {
     "data": {
      "application/vnd.jupyter.widget-view+json": {
       "model_id": "14d5091b7f314607aaf4f74338940fb3",
       "version_major": 2,
       "version_minor": 0
      },
      "text/plain": [
       "  0%|          | 0.00/156 [00:00<?, ?batch/s]"
      ]
     },
     "metadata": {},
     "output_type": "display_data"
    },
    {
     "name": "stdout",
     "output_type": "stream",
     "text": [
      "\n",
      "Epoch 00014: val_accuracy did not improve from 0.99500\n"
     ]
    },
    {
     "data": {
      "application/vnd.jupyter.widget-view+json": {
       "model_id": "1663947c668d4ff9b0faf40d6e5d49eb",
       "version_major": 2,
       "version_minor": 0
      },
      "text/plain": [
       "  0%|          | 0.00/156 [00:00<?, ?batch/s]"
      ]
     },
     "metadata": {},
     "output_type": "display_data"
    },
    {
     "name": "stdout",
     "output_type": "stream",
     "text": [
      "\n",
      "Epoch 00015: val_accuracy did not improve from 0.99500\n",
      "---Time 1322.862883090973 seconds ---\n"
     ]
    }
   ],
   "source": [
    "batch_size = 64\n",
    "epochs = 100\n",
    "from keras import optimizers\n",
    "from keras.optimizers import Adam\n",
    "\n",
    "adam = optimizers.Adam(lr=0.001, beta_1=0.9, beta_2=0.999, epsilon=None, decay=0.0, amsgrad=False)\n",
    "combined_model.compile(loss=keras.losses.categorical_crossentropy,\n",
    "              optimizer= adam,\n",
    "              metrics=['accuracy'])\n",
    "\n",
    "import time\n",
    "start_time = time.time()\n",
    "\n",
    "learning_hist = combined_model.fit([Features_audio,Features_video], Labels,\n",
    "                    verbose=0,\n",
    "                    epochs=epochs,\n",
    "                    shuffle=True,\n",
    "                    batch_size=batch_size,\n",
    "                    callbacks=[checkpointer,earlystopper,TqdmCallback(verbose=2)],\n",
    "                    validation_data=([Features_audio2,Features_video2], Labels2))\n",
    "\n",
    "end_time = time.time()\n",
    "\n",
    "print(\"---Time %s seconds ---\" % (end_time - start_time))"
   ]
  },
  {
   "cell_type": "markdown",
   "metadata": {},
   "source": [
    "# Accuracies"
   ]
  },
  {
   "cell_type": "code",
   "execution_count": 10,
   "metadata": {},
   "outputs": [],
   "source": [
    "from keras.models import load_model\n",
    "\n",
    "model = load_model(model_path)"
   ]
  },
  {
   "cell_type": "code",
   "execution_count": 11,
   "metadata": {},
   "outputs": [
    {
     "name": "stdout",
     "output_type": "stream",
     "text": [
      "312/312 [==============================] - 34s 108ms/step - loss: 0.0079 - accuracy: 0.9979\n"
     ]
    },
    {
     "data": {
      "text/plain": [
       "[0.00787885021418333, 0.9978949427604675]"
      ]
     },
     "execution_count": 11,
     "metadata": {},
     "output_type": "execute_result"
    }
   ],
   "source": [
    "#Train Accuracy\n",
    "model.evaluate([Features_audio,Features_video],Labels)"
   ]
  },
  {
   "cell_type": "code",
   "execution_count": 12,
   "metadata": {
    "scrolled": true
   },
   "outputs": [
    {
     "name": "stdout",
     "output_type": "stream",
     "text": [
      "63/63 [==============================] - 7s 103ms/step - loss: 0.0213 - accuracy: 0.9950\n"
     ]
    },
    {
     "data": {
      "text/plain": [
       "[0.02127939462661743, 0.9950000047683716]"
      ]
     },
     "execution_count": 12,
     "metadata": {},
     "output_type": "execute_result"
    }
   ],
   "source": [
    "## Valid Accuracy\n",
    "model.evaluate([Features_audio2,Features_video2],Labels2)"
   ]
  },
  {
   "cell_type": "code",
   "execution_count": 13,
   "metadata": {},
   "outputs": [
    {
     "name": "stdout",
     "output_type": "stream",
     "text": [
      "44/44 [==============================] - 4s 100ms/step - loss: 0.2047 - accuracy: 0.9405\n"
     ]
    },
    {
     "data": {
      "text/plain": [
       "[0.20468120276927948, 0.9404502511024475]"
      ]
     },
     "execution_count": 13,
     "metadata": {},
     "output_type": "execute_result"
    }
   ],
   "source": [
    "## Test Accuracy\n",
    "model.evaluate([Features_audio3,Features_video3],Labels3)"
   ]
  },
  {
   "cell_type": "markdown",
   "metadata": {},
   "source": [
    "# Plotting"
   ]
  },
  {
   "cell_type": "code",
   "execution_count": 14,
   "metadata": {},
   "outputs": [
    {
     "name": "stdout",
     "output_type": "stream",
     "text": [
      "dict_keys(['loss', 'accuracy', 'val_loss', 'val_accuracy'])\n"
     ]
    },
    {
     "data": {
      "image/png": "[encoded data removed]",
      "text/plain": [
       "<Figure size 720x360 with 1 Axes>"
      ]
     },
     "metadata": {
      "needs_background": "light"
     },
     "output_type": "display_data"
    }
   ],
   "source": [
    "from matplotlib import pyplot as plt\n",
    "\n",
    "print(learning_hist.history.keys())\n",
    "plt.rcParams.update({'font.size': 18})\n",
    "\n",
    "plt.figure(figsize=(10,5))\n",
    "\n",
    "plt.plot(learning_hist.history['accuracy'])\n",
    "plt.plot(learning_hist.history['val_accuracy'])\n",
    "plt.title('model accuracy')\n",
    "plt.ylabel('accuracy')\n",
    "plt.xlabel('epoch')\n",
    "plt.legend(['train', 'Valid'], loc='upper right')\n",
    "plt.show()"
   ]
  },
  {
   "cell_type": "code",
   "execution_count": 15,
   "metadata": {},
   "outputs": [
    {
     "data": {
      "image/png": "[encoded data removed]",
      "text/plain": [
       "<Figure size 720x360 with 1 Axes>"
      ]
     },
     "metadata": {
      "needs_background": "light"
     },
     "output_type": "display_data"
    }
   ],
   "source": [
    "# summarize history for loss\n",
    "\n",
    "from matplotlib import pyplot as plt\n",
    "\n",
    "plt.figure(figsize=(10,5))\n",
    "plt.rcParams.update({'font.size': 18})\n",
    "\n",
    "\n",
    "plt.plot(learning_hist.history['loss'])\n",
    "plt.plot(learning_hist.history['val_loss'])\n",
    "plt.title('model loss')\n",
    "plt.ylabel('loss')\n",
    "plt.xlabel('epoch')\n",
    "plt.legend(['train', 'Valid'], loc='upper right')\n",
    "plt.show()"
   ]
  },
  {
   "cell_type": "code",
   "execution_count": null,
   "metadata": {},
   "outputs": [],
   "source": []
  }
 ],
 "metadata": {
  "kernelspec": {
   "display_name": "Python 3",
   "language": "python",
   "name": "python3"
  },
  "language_info": {
   "codemirror_mode": {
    "name": "ipython",
    "version": 3
   },
   "file_extension": ".py",
   "mimetype": "text/x-python",
   "name": "python",
   "nbconvert_exporter": "python",
   "pygments_lexer": "ipython3",
   "version": "3.7.9"
  }
 },
 "nbformat": 4,
 "nbformat_minor": 2
}
