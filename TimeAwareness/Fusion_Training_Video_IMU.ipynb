{
 "cells": [
  {
   "cell_type": "markdown",
   "metadata": {},
   "source": [
    "# Fusion of Video and Audio features\n",
    "## Without Doing Time Shifting\n",
    "## Training on Synchronized Video and IMU Data"
   ]
  },
  {
   "cell_type": "markdown",
   "metadata": {},
   "source": [
    "## Video and IMU data is concatenated at an intermediate layer and then prediction is made"
   ]
  },
  {
   "cell_type": "code",
   "execution_count": 1,
   "metadata": {},
   "outputs": [],
   "source": [
    "import numpy as np\n",
    "import scipy.io\n",
    "\n",
    "# random seed.\n",
    "rand_seed = 1\n",
    "\n",
    "from numpy.random import seed\n",
    "seed(rand_seed)\n",
    "from tqdm.keras import TqdmCallback\n",
    "import tensorflow\n",
    "tensorflow.random.set_seed(rand_seed)\n",
    "\n",
    "import keras\n",
    "from keras.models import Sequential\n",
    "from keras.layers import Conv3D, MaxPooling3D, LSTM, Dense, Dropout, Flatten, Activation, BatchNormalization, GlobalAveragePooling3D, TimeDistributed, ConvLSTM2D\n",
    "from keras.layers.core import Permute, Reshape\n",
    "from keras import backend as K\n"
   ]
  },
  {
   "cell_type": "code",
   "execution_count": 2,
   "metadata": {},
   "outputs": [],
   "source": [
    "def one_hot_encoding(y_data):\n",
    "    Mapping=dict()\n",
    "    sub_dirs=['downstair','upstair','run','jump','walk','handwashing','exercise']\n",
    "\n",
    "    categories=10\n",
    "\n",
    "\n",
    "    count=0\n",
    "    for i in sub_dirs:\n",
    "        Mapping[i]=count\n",
    "        count=count+1\n",
    "\n",
    "    y_features2=[]\n",
    "    for i in range(len(y_data)):\n",
    "        Type=y_data[i]\n",
    "        lab=Mapping[Type]\n",
    "        y_features2.append(lab)\n",
    "\n",
    "    y_features=np.array(y_features2)\n",
    "    y_features=y_features.reshape(y_features.shape[0],1)\n",
    "    from keras.utils import to_categorical\n",
    "    y_features = to_categorical(y_features)\n",
    "\n",
    "    return y_features"
   ]
  },
  {
   "cell_type": "code",
   "execution_count": 3,
   "metadata": {},
   "outputs": [],
   "source": [
    "path='C:/Users/macro/Desktop/UCLA Class/ECE 209AS ML/TimeAwareness/data/'\n",
    "\n",
    "def get_train_and_validate_data(path=path):\n",
    "    Train_data = np.load(path+'Data_train_all.npz')\n",
    "    Labels = Train_data['arr_1']\n",
    "    Features_imu = np.asarray(Train_data['arr_0'],dtype=np.float64)\n",
    "    Features_video = Train_data['arr_3']\n",
    "\n",
    "    Labels = one_hot_encoding(Labels)\n",
    "    \n",
    "    randomize = np.arange(len(Labels))\n",
    "    np.random.shuffle(randomize)\n",
    "    \n",
    "    Labels = Labels[randomize]\n",
    "    Features_imu = Features_imu[randomize]\n",
    "    Features_video = Features_video[randomize]\n",
    "    \n",
    "    Features_imu = Features_imu.reshape(Features_imu.shape[0],1, Features_imu.shape[1], Features_imu.shape[2]) \n",
    "    \n",
    "    new_Labels = np.split(Labels,[Labels.shape[0] - 2000])\n",
    "    new_Features_imu = np.split(Features_imu,[Features_imu.shape[0] - 2000])\n",
    "    new_Features_video = np.split(Features_video,[Features_video.shape[0] - 2000])\n",
    "    \n",
    "    return new_Labels[0],new_Features_imu[0],new_Features_video[0],new_Labels[1],new_Features_imu[1],new_Features_video[1]\n",
    "\n",
    "\n",
    "def get_test_data(path=path):\n",
    "    Train_data = np.load(path+'Data_test_71.pkl',allow_pickle=True)\n",
    "    Labels = Train_data[1]\n",
    "    Features_imu = np.asarray(Train_data[0],dtype=np.float64)\n",
    "    Features_video = Train_data[3]\n",
    "    \n",
    "    Features_imu = Features_imu.reshape(Features_imu.shape[0],1, Features_imu.shape[1], Features_imu.shape[2]) \n",
    "    Labels = one_hot_encoding(Labels)\n",
    "\n",
    "    return Labels,Features_imu,Features_video"
   ]
  },
  {
   "cell_type": "code",
   "execution_count": 4,
   "metadata": {},
   "outputs": [
    {
     "name": "stdout",
     "output_type": "stream",
     "text": [
      "(9976, 7) (9976, 1, 40, 12) (9976, 45, 64, 64, 3)\n",
      "Train Classes distribution:  [1535. 1970. 1105. 1533. 1057. 1490. 1286.]\n",
      "(2000, 7) (2000, 1, 40, 12) (2000, 45, 64, 64, 3)\n",
      "Validate Classes distribution:  [298. 390. 203. 315. 215. 289. 290.]\n",
      "(1377, 7) (1377, 1, 40, 12) (1377, 45, 64, 64, 3)\n",
      "Test Classes distribution:  [219. 268. 124. 146. 143. 234. 243.]\n"
     ]
    }
   ],
   "source": [
    "Labels,Features_imu,Features_video,Labels2,Features_imu2,Features_video2 = get_train_and_validate_data()\n",
    "print(Labels.shape,Features_imu.shape,Features_video.shape)\n",
    "print('Train Classes distribution: ',np.sum(Labels, axis = 0))\n",
    "\n",
    "print(Labels2.shape,Features_imu2.shape,Features_video2.shape)\n",
    "print('Validate Classes distribution: ',np.sum(Labels2, axis = 0))\n",
    "\n",
    "Labels3,Features_imu3,Features_video3 = get_test_data()\n",
    "print(Labels3.shape,Features_imu3.shape,Features_video3.shape)\n",
    "print('Test Classes distribution: ',np.sum(Labels3, axis = 0))"
   ]
  },
  {
   "cell_type": "markdown",
   "metadata": {},
   "source": [
    "# Combined Model: Video + IMU"
   ]
  },
  {
   "cell_type": "code",
   "execution_count": 5,
   "metadata": {},
   "outputs": [],
   "source": [
    "def combined_video_imu_model():\n",
    "    num_classes = 7\n",
    "    num_feat_map=32\n",
    "    _, dim, win_len, _, = Features_imu.shape\n",
    "    input_imu = keras.layers.Input(shape=(dim, win_len, 12))\n",
    "\n",
    "    I1 = keras.layers.Conv2D(num_feat_map, kernel_size=(1, 5), activation='relu', padding='same')(input_imu)\n",
    "    I2 = keras.layers.MaxPooling2D(pool_size=(1, 2))(I1)\n",
    "\n",
    "    I3 = keras.layers.Conv2D(num_feat_map, kernel_size=(1, 5), activation='relu', padding='same')(I2)\n",
    "    I4 = keras.layers.MaxPooling2D(pool_size=(1, 2))(I3)\n",
    "    I5 = keras.layers.Flatten()(I4)\n",
    "\n",
    "    I6 = keras.layers.Dense(256, activation='relu')(I5)\n",
    "    I7 = keras.layers.Dropout(0.3)(I6)\n",
    "\n",
    "    input_video = keras.layers.Input(shape=(45, 64, 64, 3))\n",
    "    V1 = keras.layers.Conv3D(32, kernel_size=(3,3,3), strides=(1,1,1), activation='relu', padding='same', name='conv1', input_shape=(45, 64, 64, 3))(input_video)\n",
    "    V2 = keras.layers.MaxPooling3D(pool_size=(1,2,2), strides=(1,2,2), padding='valid', name='pool1')(V1)\n",
    "\n",
    "    V3 = keras.layers.Conv3D(64, kernel_size=(3,3,3), strides=(1,1,1), activation='relu', padding='same', name='conv2', input_shape=(45, 64, 64, 3))(V2)\n",
    "    V4 = keras.layers.MaxPooling3D(pool_size=(2,2,2), strides=(2,2,2), padding='valid', name='pool2')(V3)\n",
    "\n",
    "    V5 = keras.layers.Conv3D(64, kernel_size=(3,3,3), strides=(1,1,1), activation='relu', padding='same', name='conv3a')(V4)\n",
    "    V6 = keras.layers.Conv3D(64, kernel_size=(3,3,3), strides=(1,1,1), activation='relu', padding='same', name='conv3b')(V5)\n",
    "    V7 = keras.layers.MaxPooling3D(pool_size=(2,2,2), strides=(2,2,2), padding='valid', name='pool3')(V6)\n",
    "\n",
    "    V8 = keras.layers.Conv3D(128, kernel_size=(3,3,3), strides=(1,1,1), activation='relu', padding='same', name='conv4a')(V7)\n",
    "    V9 = keras.layers.Conv3D(128, kernel_size=(3,3,3), strides=(1,1,1), activation='relu', padding='same', name='conv4b')(V8)\n",
    "    V10 = keras.layers.MaxPooling3D(pool_size=(2,2,2), strides=(2,2,2), padding='valid', name='pool4')(V9)\n",
    "\n",
    "    V11 = keras.layers.Flatten()(V10)\n",
    "    V12 = keras.layers.Dense(1024, activation='relu', name='fc1')(V11)\n",
    "    V13 = keras.layers.Dropout(0.5)(V12)\n",
    "\n",
    "    V14 = keras.layers.Dense(1024, activation='relu', name='fc2')(V13)\n",
    "    V15 = keras.layers.Dropout(0.5)(V14)\n",
    "\n",
    "\n",
    "    # equivalent to added = keras.layers.add([x1, x2])\n",
    "    C1 = keras.layers.concatenate([I6, V15], axis=-1)\n",
    "    C2 = keras.layers.Dense(128, activation='relu', name='combined_fc')(C1)\n",
    "\n",
    "    out = keras.layers.Dense(num_classes, activation='softmax')(C2)\n",
    "\n",
    "    model = keras.models.Model(inputs=[input_imu, input_video], outputs=out)\n",
    "    \n",
    "    return model\n"
   ]
  },
  {
   "cell_type": "code",
   "execution_count": 6,
   "metadata": {},
   "outputs": [],
   "source": [
    "combined_model = combined_video_imu_model()"
   ]
  },
  {
   "cell_type": "code",
   "execution_count": 7,
   "metadata": {},
   "outputs": [
    {
     "name": "stdout",
     "output_type": "stream",
     "text": [
      "Model: \"functional_1\"\n",
      "__________________________________________________________________________________________________\n",
      "Layer (type)                    Output Shape         Param #     Connected to                     \n",
      "==================================================================================================\n",
      "input_2 (InputLayer)            [(None, 45, 64, 64,  0                                            \n",
      "__________________________________________________________________________________________________\n",
      "conv1 (Conv3D)                  (None, 45, 64, 64, 3 2624        input_2[0][0]                    \n",
      "__________________________________________________________________________________________________\n",
      "pool1 (MaxPooling3D)            (None, 45, 32, 32, 3 0           conv1[0][0]                      \n",
      "__________________________________________________________________________________________________\n",
      "conv2 (Conv3D)                  (None, 45, 32, 32, 6 55360       pool1[0][0]                      \n",
      "__________________________________________________________________________________________________\n",
      "pool2 (MaxPooling3D)            (None, 22, 16, 16, 6 0           conv2[0][0]                      \n",
      "__________________________________________________________________________________________________\n",
      "conv3a (Conv3D)                 (None, 22, 16, 16, 6 110656      pool2[0][0]                      \n",
      "__________________________________________________________________________________________________\n",
      "conv3b (Conv3D)                 (None, 22, 16, 16, 6 110656      conv3a[0][0]                     \n",
      "__________________________________________________________________________________________________\n",
      "pool3 (MaxPooling3D)            (None, 11, 8, 8, 64) 0           conv3b[0][0]                     \n",
      "__________________________________________________________________________________________________\n",
      "conv4a (Conv3D)                 (None, 11, 8, 8, 128 221312      pool3[0][0]                      \n",
      "__________________________________________________________________________________________________\n",
      "input_1 (InputLayer)            [(None, 1, 40, 12)]  0                                            \n",
      "__________________________________________________________________________________________________\n",
      "conv4b (Conv3D)                 (None, 11, 8, 8, 128 442496      conv4a[0][0]                     \n",
      "__________________________________________________________________________________________________\n",
      "conv2d (Conv2D)                 (None, 1, 40, 32)    1952        input_1[0][0]                    \n",
      "__________________________________________________________________________________________________\n",
      "pool4 (MaxPooling3D)            (None, 5, 4, 4, 128) 0           conv4b[0][0]                     \n",
      "__________________________________________________________________________________________________\n",
      "max_pooling2d (MaxPooling2D)    (None, 1, 20, 32)    0           conv2d[0][0]                     \n",
      "__________________________________________________________________________________________________\n",
      "flatten_1 (Flatten)             (None, 10240)        0           pool4[0][0]                      \n",
      "__________________________________________________________________________________________________\n",
      "conv2d_1 (Conv2D)               (None, 1, 20, 32)    5152        max_pooling2d[0][0]              \n",
      "__________________________________________________________________________________________________\n",
      "fc1 (Dense)                     (None, 1024)         10486784    flatten_1[0][0]                  \n",
      "__________________________________________________________________________________________________\n",
      "max_pooling2d_1 (MaxPooling2D)  (None, 1, 10, 32)    0           conv2d_1[0][0]                   \n",
      "__________________________________________________________________________________________________\n",
      "dropout_1 (Dropout)             (None, 1024)         0           fc1[0][0]                        \n",
      "__________________________________________________________________________________________________\n",
      "flatten (Flatten)               (None, 320)          0           max_pooling2d_1[0][0]            \n",
      "__________________________________________________________________________________________________\n",
      "fc2 (Dense)                     (None, 1024)         1049600     dropout_1[0][0]                  \n",
      "__________________________________________________________________________________________________\n",
      "dense (Dense)                   (None, 256)          82176       flatten[0][0]                    \n",
      "__________________________________________________________________________________________________\n",
      "dropout_2 (Dropout)             (None, 1024)         0           fc2[0][0]                        \n",
      "__________________________________________________________________________________________________\n",
      "concatenate (Concatenate)       (None, 1280)         0           dense[0][0]                      \n",
      "                                                                 dropout_2[0][0]                  \n",
      "__________________________________________________________________________________________________\n",
      "combined_fc (Dense)             (None, 128)          163968      concatenate[0][0]                \n",
      "__________________________________________________________________________________________________\n",
      "dense_1 (Dense)                 (None, 7)            903         combined_fc[0][0]                \n",
      "==================================================================================================\n",
      "Total params: 12,733,639\n",
      "Trainable params: 12,733,639\n",
      "Non-trainable params: 0\n",
      "__________________________________________________________________________________________________\n"
     ]
    }
   ],
   "source": [
    "combined_model.summary()"
   ]
  },
  {
   "cell_type": "code",
   "execution_count": 8,
   "metadata": {},
   "outputs": [],
   "source": [
    "model_path = 'C:/Users/macro/Desktop/UCLA Class/ECE 209AS ML/TimeAwareness/Baseline Models/imu_video_combined_model_checkpoint'\n",
    "\n",
    "from keras.callbacks import ReduceLROnPlateau\n",
    "from keras.callbacks import Callback\n",
    "from keras.callbacks import ModelCheckpoint\n",
    "from keras.callbacks import EarlyStopping\n",
    "\n",
    "checkpointer = ModelCheckpoint(filepath=model_path, verbose=1,monitor='val_accuracy' ,save_best_only=True, save_weights_only=False)\n",
    "earlystopper = EarlyStopping(monitor='val_accuracy',patience=5)"
   ]
  },
  {
   "cell_type": "code",
   "execution_count": 9,
   "metadata": {
    "scrolled": true
   },
   "outputs": [
    {
     "data": {
      "application/vnd.jupyter.widget-view+json": {
       "model_id": "b15e3e3d030b4e2889cac2e6b7dd6c2e",
       "version_major": 2,
       "version_minor": 0
      },
      "text/plain": [
       "0epoch [00:00, ?epoch/s]"
      ]
     },
     "metadata": {},
     "output_type": "display_data"
    },
    {
     "data": {
      "application/vnd.jupyter.widget-view+json": {
       "model_id": "a9cec58c217a451eac90eaaf09620a9c",
       "version_major": 2,
       "version_minor": 0
      },
      "text/plain": [
       "  0%|          | 0.00/156 [00:00<?, ?batch/s]"
      ]
     },
     "metadata": {},
     "output_type": "display_data"
    },
    {
     "name": "stdout",
     "output_type": "stream",
     "text": [
      "WARNING:tensorflow:Callbacks method `on_train_batch_end` is slow compared to the batch time (batch time: 0.2042s vs `on_train_batch_end` time: 0.3280s). Check your callbacks.\n",
      "\n",
      "Epoch 00001: val_accuracy improved from -inf to 0.86850, saving model to C:/Users/macro/Desktop/UCLA Class/ECE 209AS ML/TimeAwareness/Baseline Models\\imu_video_combined_model_checkpoint\n",
      "WARNING:tensorflow:From E:\\Anaconda\\envs\\GPUEnv\\lib\\site-packages\\tensorflow\\python\\training\\tracking\\tracking.py:111: Model.state_updates (from tensorflow.python.keras.engine.training) is deprecated and will be removed in a future version.\n",
      "Instructions for updating:\n",
      "This property should not be used in TensorFlow 2.0, as updates are applied automatically.\n",
      "WARNING:tensorflow:From E:\\Anaconda\\envs\\GPUEnv\\lib\\site-packages\\tensorflow\\python\\training\\tracking\\tracking.py:111: Layer.updates (from tensorflow.python.keras.engine.base_layer) is deprecated and will be removed in a future version.\n",
      "Instructions for updating:\n",
      "This property should not be used in TensorFlow 2.0, as updates are applied automatically.\n",
      "INFO:tensorflow:Assets written to: C:/Users/macro/Desktop/UCLA Class/ECE 209AS ML/TimeAwareness/Baseline Models\\imu_video_combined_model_checkpoint\\assets\n"
     ]
    },
    {
     "data": {
      "application/vnd.jupyter.widget-view+json": {
       "model_id": "3bbb4b05c8cf4b908cefff0387d22405",
       "version_major": 2,
       "version_minor": 0
      },
      "text/plain": [
       "  0%|          | 0.00/156 [00:00<?, ?batch/s]"
      ]
     },
     "metadata": {},
     "output_type": "display_data"
    },
    {
     "name": "stdout",
     "output_type": "stream",
     "text": [
      "\n",
      "Epoch 00002: val_accuracy improved from 0.86850 to 0.95100, saving model to C:/Users/macro/Desktop/UCLA Class/ECE 209AS ML/TimeAwareness/Baseline Models\\imu_video_combined_model_checkpoint\n",
      "INFO:tensorflow:Assets written to: C:/Users/macro/Desktop/UCLA Class/ECE 209AS ML/TimeAwareness/Baseline Models\\imu_video_combined_model_checkpoint\\assets\n"
     ]
    },
    {
     "data": {
      "application/vnd.jupyter.widget-view+json": {
       "model_id": "7cede7d9134341a4ba00019ce09d0d68",
       "version_major": 2,
       "version_minor": 0
      },
      "text/plain": [
       "  0%|          | 0.00/156 [00:00<?, ?batch/s]"
      ]
     },
     "metadata": {},
     "output_type": "display_data"
    },
    {
     "name": "stdout",
     "output_type": "stream",
     "text": [
      "\n",
      "Epoch 00003: val_accuracy improved from 0.95100 to 0.96200, saving model to C:/Users/macro/Desktop/UCLA Class/ECE 209AS ML/TimeAwareness/Baseline Models\\imu_video_combined_model_checkpoint\n",
      "INFO:tensorflow:Assets written to: C:/Users/macro/Desktop/UCLA Class/ECE 209AS ML/TimeAwareness/Baseline Models\\imu_video_combined_model_checkpoint\\assets\n"
     ]
    },
    {
     "data": {
      "application/vnd.jupyter.widget-view+json": {
       "model_id": "f6127ee02fbe4592aceeb979ca3a0507",
       "version_major": 2,
       "version_minor": 0
      },
      "text/plain": [
       "  0%|          | 0.00/156 [00:00<?, ?batch/s]"
      ]
     },
     "metadata": {},
     "output_type": "display_data"
    },
    {
     "name": "stdout",
     "output_type": "stream",
     "text": [
      "\n",
      "Epoch 00004: val_accuracy improved from 0.96200 to 0.96800, saving model to C:/Users/macro/Desktop/UCLA Class/ECE 209AS ML/TimeAwareness/Baseline Models\\imu_video_combined_model_checkpoint\n",
      "INFO:tensorflow:Assets written to: C:/Users/macro/Desktop/UCLA Class/ECE 209AS ML/TimeAwareness/Baseline Models\\imu_video_combined_model_checkpoint\\assets\n"
     ]
    },
    {
     "data": {
      "application/vnd.jupyter.widget-view+json": {
       "model_id": "b16c0ebbb3fe43af817db7ff188fd293",
       "version_major": 2,
       "version_minor": 0
      },
      "text/plain": [
       "  0%|          | 0.00/156 [00:00<?, ?batch/s]"
      ]
     },
     "metadata": {},
     "output_type": "display_data"
    },
    {
     "name": "stdout",
     "output_type": "stream",
     "text": [
      "\n",
      "Epoch 00005: val_accuracy improved from 0.96800 to 0.98100, saving model to C:/Users/macro/Desktop/UCLA Class/ECE 209AS ML/TimeAwareness/Baseline Models\\imu_video_combined_model_checkpoint\n",
      "INFO:tensorflow:Assets written to: C:/Users/macro/Desktop/UCLA Class/ECE 209AS ML/TimeAwareness/Baseline Models\\imu_video_combined_model_checkpoint\\assets\n"
     ]
    },
    {
     "data": {
      "application/vnd.jupyter.widget-view+json": {
       "model_id": "2db10d61e06f4c4cabba01ebe31e8661",
       "version_major": 2,
       "version_minor": 0
      },
      "text/plain": [
       "  0%|          | 0.00/156 [00:00<?, ?batch/s]"
      ]
     },
     "metadata": {},
     "output_type": "display_data"
    },
    {
     "name": "stdout",
     "output_type": "stream",
     "text": [
      "\n",
      "Epoch 00006: val_accuracy did not improve from 0.98100\n"
     ]
    },
    {
     "data": {
      "application/vnd.jupyter.widget-view+json": {
       "model_id": "2cd87c0e3f0f448eb299258204124fd5",
       "version_major": 2,
       "version_minor": 0
      },
      "text/plain": [
       "  0%|          | 0.00/156 [00:00<?, ?batch/s]"
      ]
     },
     "metadata": {},
     "output_type": "display_data"
    },
    {
     "name": "stdout",
     "output_type": "stream",
     "text": [
      "\n",
      "Epoch 00007: val_accuracy did not improve from 0.98100\n"
     ]
    },
    {
     "data": {
      "application/vnd.jupyter.widget-view+json": {
       "model_id": "bb9b460119a44fad9e133486df786561",
       "version_major": 2,
       "version_minor": 0
      },
      "text/plain": [
       "  0%|          | 0.00/156 [00:00<?, ?batch/s]"
      ]
     },
     "metadata": {},
     "output_type": "display_data"
    },
    {
     "name": "stdout",
     "output_type": "stream",
     "text": [
      "\n",
      "Epoch 00008: val_accuracy did not improve from 0.98100\n"
     ]
    },
    {
     "data": {
      "application/vnd.jupyter.widget-view+json": {
       "model_id": "4caf34d6c3ee4eda8d483be7287c39c6",
       "version_major": 2,
       "version_minor": 0
      },
      "text/plain": [
       "  0%|          | 0.00/156 [00:00<?, ?batch/s]"
      ]
     },
     "metadata": {},
     "output_type": "display_data"
    },
    {
     "name": "stdout",
     "output_type": "stream",
     "text": [
      "\n",
      "Epoch 00009: val_accuracy did not improve from 0.98100\n"
     ]
    },
    {
     "data": {
      "application/vnd.jupyter.widget-view+json": {
       "model_id": "75e37d48618540f0825d47dcd19cf6c2",
       "version_major": 2,
       "version_minor": 0
      },
      "text/plain": [
       "  0%|          | 0.00/156 [00:00<?, ?batch/s]"
      ]
     },
     "metadata": {},
     "output_type": "display_data"
    },
    {
     "name": "stdout",
     "output_type": "stream",
     "text": [
      "\n",
      "Epoch 00010: val_accuracy did not improve from 0.98100\n",
      "---Time 911.2318925857544 seconds ---\n"
     ]
    }
   ],
   "source": [
    "batch_size = 64\n",
    "epochs = 100\n",
    "from keras import optimizers\n",
    "from keras.optimizers import Adam\n",
    "\n",
    "adam = optimizers.Adam(lr=0.001, beta_1=0.9, beta_2=0.999, epsilon=None, decay=0.0, amsgrad=False)\n",
    "combined_model.compile(loss=keras.losses.categorical_crossentropy,\n",
    "              optimizer= adam,\n",
    "              metrics=['accuracy'])\n",
    "\n",
    "import time\n",
    "start_time = time.time()\n",
    "\n",
    "learning_hist = combined_model.fit([Features_imu,Features_video], Labels,\n",
    "                    verbose=0,\n",
    "                    epochs=epochs,\n",
    "                    shuffle=True,\n",
    "                    batch_size=batch_size,\n",
    "                    callbacks=[checkpointer,earlystopper,TqdmCallback(verbose=2)],\n",
    "                    validation_data=([Features_imu2,Features_video2], Labels2))\n",
    "\n",
    "end_time = time.time()\n",
    "\n",
    "print(\"---Time %s seconds ---\" % (end_time - start_time))"
   ]
  },
  {
   "cell_type": "markdown",
   "metadata": {},
   "source": [
    "# Accuracies"
   ]
  },
  {
   "cell_type": "code",
   "execution_count": 10,
   "metadata": {},
   "outputs": [],
   "source": [
    "from keras.models import load_model\n",
    "\n",
    "model = load_model(model_path)"
   ]
  },
  {
   "cell_type": "code",
   "execution_count": 11,
   "metadata": {},
   "outputs": [
    {
     "name": "stdout",
     "output_type": "stream",
     "text": [
      "312/312 [==============================] - 33s 105ms/step - loss: 0.0198 - accuracy: 0.9946\n"
     ]
    },
    {
     "data": {
      "text/plain": [
       "[0.019811464473605156, 0.9945870041847229]"
      ]
     },
     "execution_count": 11,
     "metadata": {},
     "output_type": "execute_result"
    }
   ],
   "source": [
    "#Train Accuracy\n",
    "model.evaluate([Features_imu,Features_video],Labels)"
   ]
  },
  {
   "cell_type": "code",
   "execution_count": 12,
   "metadata": {
    "scrolled": true
   },
   "outputs": [
    {
     "name": "stdout",
     "output_type": "stream",
     "text": [
      "63/63 [==============================] - 6s 102ms/step - loss: 0.0857 - accuracy: 0.9810\n"
     ]
    },
    {
     "data": {
      "text/plain": [
       "[0.08567823469638824, 0.9810000061988831]"
      ]
     },
     "execution_count": 12,
     "metadata": {},
     "output_type": "execute_result"
    }
   ],
   "source": [
    "## Valid Accuracy\n",
    "model.evaluate([Features_imu2,Features_video2],Labels2)"
   ]
  },
  {
   "cell_type": "code",
   "execution_count": 13,
   "metadata": {},
   "outputs": [
    {
     "name": "stdout",
     "output_type": "stream",
     "text": [
      "44/44 [==============================] - 4s 101ms/step - loss: 0.2310 - accuracy: 0.9528\n"
     ]
    },
    {
     "data": {
      "text/plain": [
       "[0.23102380335330963, 0.9527959227561951]"
      ]
     },
     "execution_count": 13,
     "metadata": {},
     "output_type": "execute_result"
    }
   ],
   "source": [
    "## Test Accuracy\n",
    "model.evaluate([Features_imu3,Features_video3],Labels3)"
   ]
  },
  {
   "cell_type": "markdown",
   "metadata": {},
   "source": [
    "# Plotting"
   ]
  },
  {
   "cell_type": "code",
   "execution_count": 14,
   "metadata": {},
   "outputs": [
    {
     "name": "stdout",
     "output_type": "stream",
     "text": [
      "dict_keys(['loss', 'accuracy', 'val_loss', 'val_accuracy'])\n"
     ]
    },
    {
     "data": {
      "image/png": "[encoded data removed]",
      "text/plain": [
       "<Figure size 720x360 with 1 Axes>"
      ]
     },
     "metadata": {
      "needs_background": "light"
     },
     "output_type": "display_data"
    }
   ],
   "source": [
    "from matplotlib import pyplot as plt\n",
    "\n",
    "print(learning_hist.history.keys())\n",
    "plt.rcParams.update({'font.size': 18})\n",
    "\n",
    "plt.figure(figsize=(10,5))\n",
    "\n",
    "plt.plot(learning_hist.history['accuracy'])\n",
    "plt.plot(learning_hist.history['val_accuracy'])\n",
    "plt.title('model accuracy')\n",
    "plt.ylabel('accuracy')\n",
    "plt.xlabel('epoch')\n",
    "plt.legend(['train', 'Valid'], loc='upper right')\n",
    "plt.show()"
   ]
  },
  {
   "cell_type": "code",
   "execution_count": 15,
   "metadata": {},
   "outputs": [
    {
     "data": {
      "image/png": "[encoded data removed]",
      "text/plain": [
       "<Figure size 720x360 with 1 Axes>"
      ]
     },
     "metadata": {
      "needs_background": "light"
     },
     "output_type": "display_data"
    }
   ],
   "source": [
    "# summarize history for loss\n",
    "\n",
    "from matplotlib import pyplot as plt\n",
    "\n",
    "plt.figure(figsize=(10,5))\n",
    "plt.rcParams.update({'font.size': 18})\n",
    "\n",
    "\n",
    "plt.plot(learning_hist.history['loss'])\n",
    "plt.plot(learning_hist.history['val_loss'])\n",
    "plt.title('model loss')\n",
    "plt.ylabel('loss')\n",
    "plt.xlabel('epoch')\n",
    "plt.legend(['train', 'Valid'], loc='upper right')\n",
    "plt.show()"
   ]
  },
  {
   "cell_type": "code",
   "execution_count": null,
   "metadata": {},
   "outputs": [],
   "source": []
  }
 ],
 "metadata": {
  "kernelspec": {
   "display_name": "Python 3",
   "language": "python",
   "name": "python3"
  },
  "language_info": {
   "codemirror_mode": {
    "name": "ipython",
    "version": 3
   },
   "file_extension": ".py",
   "mimetype": "text/x-python",
   "name": "python",
   "nbconvert_exporter": "python",
   "pygments_lexer": "ipython3",
   "version": "3.7.9"
  }
 },
 "nbformat": 4,
 "nbformat_minor": 2
}
