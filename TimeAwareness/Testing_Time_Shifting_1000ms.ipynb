{
 "cells": [
  {
   "cell_type": "markdown",
   "metadata": {},
   "source": [
    "# We will test the Time-shift 1000\n",
    "- We will use the vanilla model-Baseline (No augmentation)\n",
    "- We will use the 1000ms augmentation model here"
   ]
  },
  {
   "cell_type": "code",
   "execution_count": 1,
   "metadata": {},
   "outputs": [],
   "source": [
    "import numpy as np\n",
    "import scipy.io\n",
    "\n",
    "from keras import optimizers\n",
    "from keras.optimizers import SGD\n",
    "from keras.optimizers import Adam\n",
    "from keras.metrics import categorical_crossentropy\n",
    "from keras.layers.normalization import BatchNormalization\n",
    "from keras.layers.convolutional import *\n",
    "from keras.callbacks import Callback\n",
    "from keras.callbacks import ModelCheckpoint\n",
    "\n",
    "\n",
    "import keras\n",
    "from keras.models import Sequential\n",
    "from keras.layers import Conv2D, MaxPooling2D, LSTM, Dense, Dropout, Flatten, Activation\n",
    "from keras.layers.core import Permute, Reshape\n",
    "from keras import backend as K\n",
    "\n",
    "from matplotlib import pyplot as plt\n",
    "from PIL import Image as img_PIL\n",
    "\n",
    "\n",
    "# random seed.\n",
    "rand_seed = 2\n",
    "\n",
    "from numpy.random import seed\n",
    "seed(rand_seed)\n",
    "from tqdm.keras import TqdmCallback\n",
    "import tensorflow\n",
    "tensorflow.random.set_seed(rand_seed)"
   ]
  },
  {
   "cell_type": "markdown",
   "metadata": {},
   "source": [
    "## 1. Loading the data"
   ]
  },
  {
   "cell_type": "code",
   "execution_count": 2,
   "metadata": {},
   "outputs": [],
   "source": [
    "def one_hot_encoding(y_data):\n",
    "    Mapping=dict()\n",
    "    sub_dirs=['downstair','upstair','run','jump','walk','handwashing','exercise']\n",
    "\n",
    "    categories=7\n",
    "\n",
    "    count=0\n",
    "    for i in sub_dirs:\n",
    "        Mapping[i]=count\n",
    "        count=count+1\n",
    "\n",
    "    y_features2=[]\n",
    "    for i in range(len(y_data)):\n",
    "        Type=y_data[i]\n",
    "        lab=Mapping[Type]\n",
    "        y_features2.append(lab)\n",
    "\n",
    "    y_features=np.array(y_features2)\n",
    "    y_features=y_features.reshape(y_features.shape[0],1)\n",
    "    from keras.utils import to_categorical\n",
    "    y_features = to_categorical(y_features)\n",
    "\n",
    "    return y_features"
   ]
  },
  {
   "cell_type": "code",
   "execution_count": 3,
   "metadata": {},
   "outputs": [],
   "source": [
    "path='C:/Users/macro/Desktop/UCLA Class/ECE 209AS ML/TimeAwareness/data/'\n",
    "\n",
    "def get_train_and_validate_data(path=path):\n",
    "    Train_data = np.load(path+'Data_train_all.npz')\n",
    "    Train_data=np.load(path+'train_5000.npz')\n",
    "    Features_imu=np.asarray(Train_data['arr_0'],dtype=np.float64)\n",
    "    Labels=Train_data['arr_1']\n",
    "    Features_audio=Train_data['arr_2']\n",
    "\n",
    "    Labels = one_hot_encoding(Labels)\n",
    "    \n",
    "    randomize = np.arange(len(Labels))\n",
    "    np.random.shuffle(randomize)\n",
    "    \n",
    "    Labels = Labels[randomize]\n",
    "    Features_audio = Features_audio[randomize]\n",
    "    Features_imu = Features_imu[randomize]\n",
    "    \n",
    "    Features_imu = Features_imu.reshape(Features_imu.shape[0],1, Features_imu.shape[1], Features_imu.shape[2]) \n",
    "\n",
    "    new_Labels = np.split(Labels,[Labels.shape[0] - 2000])\n",
    "    new_Features_audio = np.split(Features_audio,[Features_audio.shape[0] - 2000])\n",
    "    Features_imu = np.split(Features_imu,[Features_imu.shape[0] - 2000])\n",
    "    \n",
    "    return new_Labels[0],new_Features_audio[0],Features_imu[0],new_Labels[1],new_Features_audio[1],Features_imu[1]\n",
    "\n",
    "\n",
    "def get_test_data(path=path):\n",
    "    Train_data = np.load(path+'Data_test_71.pkl',allow_pickle=True)\n",
    "    Labels = Train_data[1]\n",
    "    Features_audio = Train_data[2]\n",
    "    Features_imu = np.asarray(Train_data[0],dtype=np.float64)\n",
    "\n",
    "    Labels = one_hot_encoding(Labels)\n",
    "    Features_imu = Features_imu.reshape(Features_imu.shape[0],1, Features_imu.shape[1], Features_imu.shape[2]) \n",
    "    \n",
    "    return Labels,Features_audio,Features_imu"
   ]
  },
  {
   "cell_type": "code",
   "execution_count": 4,
   "metadata": {},
   "outputs": [
    {
     "name": "stdout",
     "output_type": "stream",
     "text": [
      "(3000, 7) (3000, 193) (3000, 1, 40, 12)\n",
      "Train Classes distribution:  [440. 626. 324. 458. 326. 434. 392.]\n",
      "(2000, 7) (2000, 193) (2000, 1, 40, 12)\n",
      "Validate Classes distribution:  [320. 368. 222. 322. 206. 298. 264.]\n",
      "(1377, 7) (1377, 193) (1377, 1, 40, 12)\n",
      "Test Classes distribution:  [219. 268. 124. 146. 143. 234. 243.]\n"
     ]
    }
   ],
   "source": [
    "Labels,Features_audio,Features_imu,Labels2,Features_audio2,Features_imu2 = get_train_and_validate_data()\n",
    "print(Labels.shape,Features_audio.shape,Features_imu.shape)\n",
    "print('Train Classes distribution: ',np.sum(Labels, axis = 0))\n",
    "\n",
    "print(Labels2.shape,Features_audio2.shape,Features_imu2.shape)\n",
    "print('Validate Classes distribution: ',np.sum(Labels2, axis = 0))\n",
    "\n",
    "Labels3,Features_audio3,Features_imu3 = get_test_data()\n",
    "print(Labels3.shape,Features_audio3.shape,Features_imu3.shape)\n",
    "print('Test Classes distribution: ',np.sum(Labels3, axis = 0))"
   ]
  },
  {
   "cell_type": "code",
   "execution_count": 5,
   "metadata": {},
   "outputs": [],
   "source": [
    "model_path = 'C:/Users/macro/Desktop/UCLA Class/ECE 209AS ML/TimeAwareness/Baseline Models/imu_audio_combined_model_shift_checkpoint'\n",
    "\n",
    "from keras.models import load_model\n",
    "\n",
    "model = load_model(model_path)"
   ]
  },
  {
   "cell_type": "code",
   "execution_count": 6,
   "metadata": {},
   "outputs": [
    {
     "name": "stdout",
     "output_type": "stream",
     "text": [
      "44/44 [==============================] - 0s 2ms/step - loss: 0.2865 - accuracy: 0.9288\n"
     ]
    },
    {
     "data": {
      "text/plain": [
       "[0.2864573001861572, 0.9288308024406433]"
      ]
     },
     "execution_count": 6,
     "metadata": {},
     "output_type": "execute_result"
    }
   ],
   "source": [
    "## Test Accuracy\n",
    "model.evaluate([Features_audio3,Features_imu3],Labels3)"
   ]
  },
  {
   "cell_type": "markdown",
   "metadata": {},
   "source": [
    "## Observation: All of these test labels are continuous.\n",
    "### Time window used to create a sample: 2 Second."
   ]
  },
  {
   "cell_type": "markdown",
   "metadata": {},
   "source": [
    "# Time shifting, our goal is to randomly insert the samples of different continuous windows in between which is to simulate the real-time deployment setting"
   ]
  },
  {
   "cell_type": "markdown",
   "metadata": {},
   "source": [
    "# First preprocess the data to get the continuous acc and gyro windows\n",
    "- data ordering: 12 sensors each with 40 samples.\n",
    "- 12 sensors are: acc_right, gyro_right, acc_left, gyro_left"
   ]
  },
  {
   "cell_type": "code",
   "execution_count": 7,
   "metadata": {},
   "outputs": [],
   "source": [
    "def get_test_data2(path=path):\n",
    "    Train_data=np.load(path+'Data_test_71.pkl',allow_pickle=True)\n",
    "    Features_imu=np.asarray(Train_data[0],dtype=np.float64)\n",
    "    Labels=Train_data[1]\n",
    "    Features_sound=Train_data[2]\n",
    "    \n",
    "    Features_imu = Features_imu.reshape(Features_imu.shape[0],1, Features_imu.shape[1], Features_imu.shape[2]) \n",
    "\n",
    "    return Features_imu,Labels,Features_sound"
   ]
  },
  {
   "cell_type": "code",
   "execution_count": 8,
   "metadata": {},
   "outputs": [],
   "source": [
    "Features_imu_t1,Labels_t1,Features_sound_t1 = get_test_data2()\n",
    "#print(Features_imu_t1.shape, Labels_t1.shape, Features_sound_t1.shape)"
   ]
  },
  {
   "cell_type": "code",
   "execution_count": 9,
   "metadata": {},
   "outputs": [],
   "source": [
    "# We see all of the labels are continuous\n",
    "Labels_t1 = np.array(Labels_t1)"
   ]
  },
  {
   "cell_type": "code",
   "execution_count": 10,
   "metadata": {},
   "outputs": [
    {
     "data": {
      "text/plain": [
       "array(['downstair', 'downstair', 'downstair', 'downstair', 'downstair',\n",
       "       'downstair', 'downstair', 'downstair', 'downstair', 'downstair',\n",
       "       'downstair', 'downstair', 'downstair', 'downstair', 'downstair',\n",
       "       'downstair', 'downstair', 'downstair', 'downstair', 'downstair',\n",
       "       'downstair', 'downstair', 'downstair', 'downstair', 'downstair',\n",
       "       'downstair', 'downstair', 'downstair', 'downstair', 'downstair',\n",
       "       'downstair', 'downstair', 'downstair', 'downstair', 'downstair',\n",
       "       'downstair', 'downstair', 'downstair', 'downstair', 'downstair',\n",
       "       'downstair', 'downstair', 'downstair', 'downstair', 'downstair',\n",
       "       'downstair', 'downstair', 'downstair', 'downstair', 'downstair',\n",
       "       'downstair', 'downstair', 'downstair', 'downstair', 'downstair',\n",
       "       'downstair', 'downstair', 'downstair', 'downstair', 'downstair',\n",
       "       'downstair', 'downstair', 'downstair', 'downstair', 'downstair',\n",
       "       'downstair', 'downstair', 'downstair', 'downstair', 'downstair',\n",
       "       'downstair', 'downstair', 'downstair', 'downstair', 'downstair',\n",
       "       'downstair', 'downstair', 'downstair', 'downstair', 'downstair',\n",
       "       'downstair', 'downstair', 'downstair', 'downstair', 'downstair',\n",
       "       'downstair', 'downstair', 'downstair', 'downstair', 'downstair',\n",
       "       'downstair', 'downstair', 'downstair', 'downstair', 'downstair',\n",
       "       'downstair', 'downstair', 'downstair', 'downstair', 'downstair'],\n",
       "      dtype='<U11')"
      ]
     },
     "execution_count": 10,
     "metadata": {},
     "output_type": "execute_result"
    }
   ],
   "source": [
    "Labels_t1[:100]"
   ]
  },
  {
   "cell_type": "markdown",
   "metadata": {},
   "source": [
    "# Getting windows of data together with num_windows_together in each"
   ]
  },
  {
   "cell_type": "code",
   "execution_count": 11,
   "metadata": {},
   "outputs": [],
   "source": [
    "# For 10 second together\n",
    "num_windows_together = 5\n",
    "\n",
    "curr_indx = 0\n",
    "final_indx = Features_imu_t1.shape[0]\n",
    "\n",
    "data_together = []\n",
    "\n",
    "while curr_indx <= final_indx:\n",
    "    IMU_together   = Features_imu_t1[curr_indx:curr_indx+num_windows_together]\n",
    "    sound_together = Features_sound_t1[curr_indx:curr_indx+num_windows_together]\n",
    "    labels_together = Labels_t1[curr_indx:curr_indx+num_windows_together]\n",
    "    \n",
    "    data_together.append([IMU_together,sound_together,labels_together])\n",
    "    \n",
    "    curr_indx = curr_indx+num_windows_together\n",
    "    "
   ]
  },
  {
   "cell_type": "markdown",
   "metadata": {},
   "source": [
    "# Now we randomly distribute the windows"
   ]
  },
  {
   "cell_type": "code",
   "execution_count": 12,
   "metadata": {},
   "outputs": [],
   "source": [
    "rand_seed = 4\n",
    "from numpy.random import seed\n",
    "seed(rand_seed)\n",
    "\n",
    "ordering = np.arange(len(data_together))\n",
    "np.random.shuffle(ordering)"
   ]
  },
  {
   "cell_type": "code",
   "execution_count": 13,
   "metadata": {},
   "outputs": [
    {
     "data": {
      "text/plain": [
       "array([166, 225, 146, 215,  82,  46,  18, 113, 253,  47, 171, 275,   6,\n",
       "       123, 250, 232, 203, 124,  45, 133, 111,  24,   1, 159, 212, 101,\n",
       "       137, 128, 139, 256,  33,  11, 106,  68,  39,  69, 110,  43,  83,\n",
       "       108, 169,  64, 223, 189, 134,  88, 235,  93, 191, 260, 249, 271,\n",
       "       254, 100,  92,  71, 103,  63, 267, 144,  13,  42,  14, 268, 182,\n",
       "       140,  84,  48, 130,  55, 184, 152, 251, 178,  20, 175, 129, 266,\n",
       "       269, 218, 227, 193, 261,  91, 216, 162, 229, 116, 121,  34, 233,\n",
       "       112, 247, 231, 239, 153,  57,  81,  70,  26])"
      ]
     },
     "execution_count": 13,
     "metadata": {},
     "output_type": "execute_result"
    }
   ],
   "source": [
    "ordering[:100]"
   ]
  },
  {
   "cell_type": "markdown",
   "metadata": {},
   "source": [
    "## Now we again recreate the test data"
   ]
  },
  {
   "cell_type": "code",
   "execution_count": 14,
   "metadata": {},
   "outputs": [],
   "source": [
    "indx = ordering[0]\n",
    "\n",
    "Features_imu_t1  = data_together[indx][0]\n",
    "Features_sound_t1 = data_together[indx][1]\n",
    "Labels_t1 = data_together[indx][2]\n",
    "\n",
    "\n",
    "#print(Features_imu_t1.shape,Labels_t1.shape,Features_sound_t1.shape)\n",
    "\n",
    "for i in range(1, len(data_together)):\n",
    "    indx = ordering[i]\n",
    "    IMU_together  = data_together[indx][0]\n",
    "    sound_together= data_together[indx][1]\n",
    "    labels_together=data_together[indx][2]\n",
    "    #print(indx, IMU_together.shape,sound_together.shape,labels_together.shape)\n",
    "    Features_imu_t1 = np.concatenate((Features_imu_t1,IMU_together),axis=0)\n",
    "    Labels_t1 = np.concatenate((Labels_t1,labels_together),axis=0)\n",
    "    Features_sound_t1 = np.concatenate((Features_sound_t1,sound_together),axis=0)\n",
    "    #print(indx, IMU_together.shape,sound_together.shape,labels_together.shape)"
   ]
  },
  {
   "cell_type": "code",
   "execution_count": 15,
   "metadata": {},
   "outputs": [
    {
     "name": "stdout",
     "output_type": "stream",
     "text": [
      "(1377, 1, 40, 12) (1377,) (1377, 193)\n"
     ]
    }
   ],
   "source": [
    "print(Features_imu_t1.shape, Labels_t1.shape, Features_sound_t1.shape)"
   ]
  },
  {
   "cell_type": "code",
   "execution_count": 16,
   "metadata": {},
   "outputs": [
    {
     "data": {
      "text/plain": [
       "array(['walk', 'walk', 'walk', 'walk', 'walk', 'handwashing',\n",
       "       'handwashing', 'handwashing', 'handwashing', 'handwashing', 'jump',\n",
       "       'jump', 'jump', 'jump', 'jump', 'handwashing', 'handwashing',\n",
       "       'handwashing', 'handwashing', 'handwashing', 'upstair', 'upstair',\n",
       "       'upstair', 'upstair', 'upstair', 'upstair', 'upstair', 'upstair',\n",
       "       'upstair', 'upstair', 'downstair', 'downstair', 'downstair',\n",
       "       'downstair', 'downstair', 'run', 'run', 'run', 'run', 'run',\n",
       "       'exercise', 'exercise', 'exercise', 'exercise', 'exercise',\n",
       "       'upstair', 'upstair', 'upstair', 'upstair', 'upstair', 'walk',\n",
       "       'walk', 'walk', 'walk', 'walk', 'exercise', 'exercise',\n",
       "       'downstair', 'downstair', 'downstair', 'downstair', 'downstair',\n",
       "       'jump', 'jump', 'jump', 'jump', 'jump', 'exercise', 'exercise',\n",
       "       'exercise', 'exercise', 'exercise', 'exercise', 'exercise',\n",
       "       'exercise', 'exercise', 'exercise', 'handwashing', 'handwashing',\n",
       "       'handwashing', 'handwashing', 'handwashing', 'jump', 'jump',\n",
       "       'jump', 'jump', 'jump', 'upstair', 'upstair', 'upstair', 'upstair',\n",
       "       'upstair', 'jump', 'jump', 'jump', 'jump', 'jump', 'run', 'run',\n",
       "       'run'], dtype='<U11')"
      ]
     },
     "execution_count": 16,
     "metadata": {},
     "output_type": "execute_result"
    }
   ],
   "source": [
    "Labels_t1[:100]"
   ]
  },
  {
   "cell_type": "code",
   "execution_count": 17,
   "metadata": {},
   "outputs": [],
   "source": [
    "Labels_t1 = one_hot_encoding(Labels_t1)"
   ]
  },
  {
   "cell_type": "markdown",
   "metadata": {},
   "source": [
    "# Testing accuracy on Reshuffled data.\n",
    "## Note: not time errors are introduced so Accuracy should be same as the fusion model on original continuous test data"
   ]
  },
  {
   "cell_type": "code",
   "execution_count": 18,
   "metadata": {},
   "outputs": [
    {
     "name": "stdout",
     "output_type": "stream",
     "text": [
      "44/44 [==============================] - 0s 2ms/step - loss: 0.2865 - accuracy: 0.9288\n"
     ]
    },
    {
     "data": {
      "text/plain": [
       "[0.286457359790802, 0.9288308024406433]"
      ]
     },
     "execution_count": 18,
     "metadata": {},
     "output_type": "execute_result"
    }
   ],
   "source": [
    "model.evaluate([Features_sound_t1,Features_imu_t1],Labels_t1)"
   ]
  },
  {
   "cell_type": "markdown",
   "metadata": {},
   "source": [
    "# Now aggregating the data and doing the timing errors"
   ]
  },
  {
   "cell_type": "code",
   "execution_count": 19,
   "metadata": {},
   "outputs": [],
   "source": [
    "acc_right=[]\n",
    "gyro_right=[]\n",
    "acc_left=[]\n",
    "gyro_left=[]\n",
    "\n",
    "for i in range(Features_imu_t1.shape[0]):\n",
    "    acc_right.append([Features_imu_t1[i,0,:,0],Features_imu_t1[i,0,:,1],Features_imu_t1[i,0,:,2]])\n",
    "    gyro_right.append([Features_imu_t1[i,0,:,3],Features_imu_t1[i,0,:,4],Features_imu_t1[i,0,:,5]])\n",
    "    acc_left.append([Features_imu_t1[i,0,:,6],Features_imu_t1[i,0,:,7],Features_imu_t1[i,0,:,8]])\n",
    "    gyro_left.append([Features_imu_t1[i,0,:,9],Features_imu_t1[i,0,:,10],Features_imu_t1[i,0,:,11]])\n",
    "        "
   ]
  },
  {
   "cell_type": "code",
   "execution_count": 20,
   "metadata": {},
   "outputs": [],
   "source": [
    "acc_right=np.array(acc_right)\n",
    "gyro_right=np.array(gyro_right)\n",
    "acc_left=np.array(acc_left)\n",
    "gyro_left=np.array(gyro_left)"
   ]
  },
  {
   "cell_type": "code",
   "execution_count": 21,
   "metadata": {},
   "outputs": [
    {
     "name": "stdout",
     "output_type": "stream",
     "text": [
      "(1377, 3, 40)\n",
      "(1377, 3, 40)\n",
      "(1377, 3, 40)\n",
      "(1377, 3, 40)\n"
     ]
    }
   ],
   "source": [
    "print(acc_right.shape)\n",
    "print(gyro_right.shape)\n",
    "print(acc_left.shape)\n",
    "print(gyro_left.shape)"
   ]
  },
  {
   "cell_type": "code",
   "execution_count": 22,
   "metadata": {},
   "outputs": [],
   "source": [
    "acc_right_cont= acc_right[0,]\n",
    "gyro_right_cont= gyro_right[0,]\n",
    "\n",
    "acc_left_cont= acc_left[0,]\n",
    "gyro_left_cont= gyro_left[0,]\n",
    "\n",
    "\n",
    "for i in range(1, Features_imu_t1.shape[0]):\n",
    "    #print(i)\n",
    "    acc_right_cont=np.hstack((acc_right_cont,acc_right[i,]))\n",
    "    gyro_right_cont=np.hstack((gyro_right_cont,gyro_right[i,]))\n",
    "    acc_left_cont=np.hstack((acc_left_cont,acc_left[i,]))\n",
    "    gyro_left_cont=np.hstack((gyro_left_cont,gyro_left[i,]))"
   ]
  },
  {
   "cell_type": "code",
   "execution_count": 23,
   "metadata": {},
   "outputs": [
    {
     "name": "stdout",
     "output_type": "stream",
     "text": [
      "(3, 55080)\n",
      "(3, 55080)\n",
      "(3, 55080)\n",
      "(3, 55080)\n"
     ]
    }
   ],
   "source": [
    "print(acc_right_cont.shape)\n",
    "print(gyro_right_cont.shape)\n",
    "print(acc_left_cont.shape)\n",
    "print(gyro_left_cont.shape)\n"
   ]
  },
  {
   "cell_type": "markdown",
   "metadata": {},
   "source": [
    "# Now shifting the samples"
   ]
  },
  {
   "cell_type": "markdown",
   "metadata": {},
   "source": [
    "# Defining function to do the evaluation"
   ]
  },
  {
   "cell_type": "code",
   "execution_count": 24,
   "metadata": {},
   "outputs": [],
   "source": [
    "def get_data_sample_shift(shift_samples = 1):\n",
    "    sample_size = 40 #need to be 40, as decided during training\n",
    "    total_samples = acc_right_cont.shape[1]\n",
    "    \n",
    "    #print(total_samples)\n",
    "    \n",
    "    current_cursor = shift_samples\n",
    "\n",
    "    i = 0\n",
    "\n",
    "    acc_right_pro= np.array(acc_right_cont[np.newaxis,:,current_cursor:current_cursor+sample_size])\n",
    "\n",
    "    #print(acc_right_pro.shape)\n",
    "\n",
    "    gyro_right_pro= np.array(gyro_right_cont[np.newaxis,:,current_cursor:current_cursor+sample_size])\n",
    "\n",
    "    acc_left_pro= np.array(acc_left_cont[np.newaxis,:,current_cursor:current_cursor+sample_size])\n",
    "\n",
    "    gyro_left_pro= np.array(gyro_left_cont[np.newaxis,:,current_cursor:current_cursor+sample_size])\n",
    "\n",
    "    #print(np.array(acc_right_cont[np.newaxis,:,current_cursor:current_cursor+sample_size]).shape)\n",
    "\n",
    "    while current_cursor<=(total_samples-2*sample_size):\n",
    "        current_cursor = current_cursor + sample_size\n",
    "        #print(current_cursor,\" : \", i)\n",
    "        a=acc_right_pro\n",
    "        b=np.array(acc_right_cont[np.newaxis,:,current_cursor:current_cursor+sample_size])\n",
    "        acc_right_pro = np.concatenate((a,b),axis=0)\n",
    "\n",
    "\n",
    "        a=gyro_right_pro\n",
    "        b=np.array(gyro_right_cont[np.newaxis,:,current_cursor:current_cursor+sample_size])\n",
    "        gyro_right_pro = np.concatenate((a,b),axis=0)\n",
    "\n",
    "\n",
    "        a=acc_left_pro\n",
    "        b=np.array(acc_left_cont[np.newaxis,:,current_cursor:current_cursor+sample_size])\n",
    "        #print(a.shape,b.shape)\n",
    "        acc_left_pro = np.concatenate((a,b),axis=0)\n",
    "\n",
    "        a=gyro_left_pro\n",
    "        b=np.array(gyro_left_cont[np.newaxis,:,current_cursor:current_cursor+sample_size])\n",
    "        gyro_left_pro = np.concatenate((a,b),axis=0)\n",
    "        i = i+1\n",
    "        \n",
    "    IMU_processed = np.concatenate((acc_right_pro,gyro_right_pro,acc_left_pro,gyro_left_pro),axis=1)\n",
    "    IMU_processed = IMU_processed[:,np.newaxis,:,:]\n",
    "    IMU_processed = np.swapaxes(IMU_processed,2,3)\n",
    "        \n",
    "    size = IMU_processed.shape[0]\n",
    "        \n",
    "    return Features_sound_t1[:size], IMU_processed ,Labels_t1[:size]\n",
    "        \n"
   ]
  },
  {
   "cell_type": "code",
   "execution_count": 25,
   "metadata": {},
   "outputs": [],
   "source": [
    "Accuracy_vanilla = []\n",
    "Accuracy_1000ms = []"
   ]
  },
  {
   "cell_type": "code",
   "execution_count": 26,
   "metadata": {},
   "outputs": [],
   "source": [
    "model_path1 = 'C:/Users/macro/Desktop/UCLA Class/ECE 209AS ML/TimeAwareness/Baseline Models/imu_audio_combined_model_checkpoint'\n",
    "model_path2 = 'C:/Users/macro/Desktop/UCLA Class/ECE 209AS ML/TimeAwareness/Baseline Models/imu_audio_combined_model_shift_checkpoint'\n",
    "\n",
    "from keras.models import load_model\n",
    "model1 = load_model(model_path1)\n",
    "model2 = load_model(model_path2)"
   ]
  },
  {
   "cell_type": "code",
   "execution_count": 27,
   "metadata": {},
   "outputs": [],
   "source": [
    "def get_shifted_data(file,path=path):\n",
    "    Train_data = np.load(path+file)\n",
    "    Labels = Train_data['arr_1']\n",
    "    Features_imu = np.asarray(Train_data['arr_0'],dtype=np.float64)\n",
    "    Features_audio = Train_data['arr_2']\n",
    "    \n",
    "    return Labels,Features_imu,Features_audio"
   ]
  },
  {
   "cell_type": "code",
   "execution_count": 28,
   "metadata": {
    "scrolled": true
   },
   "outputs": [
    {
     "name": "stdout",
     "output_type": "stream",
     "text": [
      "44/44 [==============================] - 0s 2ms/step - loss: 0.1477 - accuracy: 0.9441\n",
      "44/44 [==============================] - 0s 2ms/step - loss: 0.2865 - accuracy: 0.9288\n",
      "Shift is: 0 0.9440813064575195 0.9288308024406433\n",
      "43/43 [==============================] - 0s 2ms/step - loss: 0.1492 - accuracy: 0.9448\n",
      "43/43 [==============================] - 0s 2ms/step - loss: 0.3042 - accuracy: 0.9244\n",
      "Shift is: 1 0.944767415523529 0.9244186282157898\n",
      "43/43 [==============================] - 0s 2ms/step - loss: 0.1756 - accuracy: 0.9331\n",
      "43/43 [==============================] - 0s 2ms/step - loss: 0.3449 - accuracy: 0.9201\n",
      "Shift is: 2 0.9331395626068115 0.9200581312179565\n",
      "43/43 [==============================] - 0s 2ms/step - loss: 0.2345 - accuracy: 0.9302\n",
      "43/43 [==============================] - 0s 2ms/step - loss: 0.3669 - accuracy: 0.9172\n",
      "Shift is: 3 0.930232584476471 0.917151153087616\n",
      "43/43 [==============================] - 0s 2ms/step - loss: 0.2617 - accuracy: 0.9281\n",
      "43/43 [==============================] - 0s 2ms/step - loss: 0.3709 - accuracy: 0.9193\n",
      "Shift is: 4 0.9280523061752319 0.9193313717842102\n",
      "43/43 [==============================] - 0s 2ms/step - loss: 0.3174 - accuracy: 0.9186\n",
      "43/43 [==============================] - 0s 2ms/step - loss: 0.4506 - accuracy: 0.9106\n",
      "Shift is: 5 0.9186046719551086 0.9106104373931885\n",
      "43/43 [==============================] - 0s 2ms/step - loss: 0.3336 - accuracy: 0.9193\n",
      "43/43 [==============================] - 0s 2ms/step - loss: 0.4614 - accuracy: 0.9150\n",
      "Shift is: 6 0.9193313717842102 0.9149709343910217\n",
      "43/43 [==============================] - 0s 2ms/step - loss: 0.3620 - accuracy: 0.9244\n",
      "43/43 [==============================] - 0s 2ms/step - loss: 0.5148 - accuracy: 0.9092\n",
      "Shift is: 7 0.9244186282157898 0.9091569781303406\n",
      "43/43 [==============================] - 0s 2ms/step - loss: 0.3901 - accuracy: 0.9193\n",
      "43/43 [==============================] - 0s 2ms/step - loss: 0.5041 - accuracy: 0.9070\n",
      "Shift is: 8 0.9193313717842102 0.9069767594337463\n",
      "43/43 [==============================] - 0s 2ms/step - loss: 0.4239 - accuracy: 0.9172\n",
      "43/43 [==============================] - 0s 2ms/step - loss: 0.6279 - accuracy: 0.9055\n",
      "Shift is: 9 0.917151153087616 0.9055232405662537\n",
      "43/43 [==============================] - 0s 2ms/step - loss: 0.3902 - accuracy: 0.9193\n",
      "43/43 [==============================] - 0s 2ms/step - loss: 0.7001 - accuracy: 0.8953\n",
      "Shift is: 10 0.9193313717842102 0.895348846912384\n",
      "43/43 [==============================] - 0s 2ms/step - loss: 0.3869 - accuracy: 0.9157\n",
      "43/43 [==============================] - 0s 2ms/step - loss: 0.7357 - accuracy: 0.8874\n",
      "Shift is: 11 0.9156976938247681 0.8873546719551086\n",
      "43/43 [==============================] - 0s 2ms/step - loss: 0.4551 - accuracy: 0.9055\n",
      "43/43 [==============================] - 0s 2ms/step - loss: 0.7973 - accuracy: 0.8939\n",
      "Shift is: 12 0.9055232405662537 0.8938953280448914\n",
      "43/43 [==============================] - 0s 2ms/step - loss: 0.4611 - accuracy: 0.9055\n",
      "43/43 [==============================] - 0s 2ms/step - loss: 0.8930 - accuracy: 0.8874\n",
      "Shift is: 13 0.9055232405662537 0.8873546719551086\n",
      "43/43 [==============================] - 0s 2ms/step - loss: 0.4686 - accuracy: 0.9041\n",
      "43/43 [==============================] - 0s 2ms/step - loss: 0.9211 - accuracy: 0.8794\n",
      "Shift is: 14 0.9040697813034058 0.8793604373931885\n",
      "43/43 [==============================] - 0s 2ms/step - loss: 0.4824 - accuracy: 0.9004\n",
      "43/43 [==============================] - 0s 2ms/step - loss: 1.0363 - accuracy: 0.8743\n",
      "Shift is: 15 0.9004360437393188 0.8742732405662537\n",
      "43/43 [==============================] - 0s 2ms/step - loss: 0.5897 - accuracy: 0.8910\n",
      "43/43 [==============================] - 0s 2ms/step - loss: 1.0576 - accuracy: 0.8714\n",
      "Shift is: 16 0.8909883499145508 0.8713662624359131\n",
      "43/43 [==============================] - 0s 2ms/step - loss: 0.6447 - accuracy: 0.8910\n",
      "43/43 [==============================] - 0s 2ms/step - loss: 1.2495 - accuracy: 0.8619\n",
      "Shift is: 17 0.8909883499145508 0.8619186282157898\n",
      "43/43 [==============================] - 0s 2ms/step - loss: 0.7052 - accuracy: 0.8837\n",
      "43/43 [==============================] - 0s 2ms/step - loss: 1.3668 - accuracy: 0.8626\n",
      "Shift is: 18 0.8837209343910217 0.8626453280448914\n",
      "43/43 [==============================] - 0s 2ms/step - loss: 0.7399 - accuracy: 0.8888\n",
      "43/43 [==============================] - 0s 2ms/step - loss: 1.4269 - accuracy: 0.8634\n",
      "Shift is: 19 0.8888081312179565 0.8633720874786377\n",
      "43/43 [==============================] - 0s 2ms/step - loss: 0.8115 - accuracy: 0.8881\n",
      "43/43 [==============================] - 0s 2ms/step - loss: 1.5364 - accuracy: 0.8532\n",
      "Shift is: 20 0.8880813717842102 0.8531976938247681\n",
      "43/43 [==============================] - 0s 2ms/step - loss: 0.8580 - accuracy: 0.8837\n",
      "43/43 [==============================] - 0s 2ms/step - loss: 1.7724 - accuracy: 0.8459\n",
      "Shift is: 21 0.8837209343910217 0.8459302186965942\n",
      "43/43 [==============================] - 0s 2ms/step - loss: 0.9277 - accuracy: 0.8786\n",
      "43/43 [==============================] - 0s 2ms/step - loss: 1.9417 - accuracy: 0.8358\n",
      "Shift is: 22 0.8786337375640869 0.8357558250427246\n",
      "43/43 [==============================] - 0s 2ms/step - loss: 0.9972 - accuracy: 0.8706\n",
      "43/43 [==============================] - 0s 2ms/step - loss: 2.0288 - accuracy: 0.8358\n",
      "Shift is: 23 0.8706395626068115 0.8357558250427246\n",
      "43/43 [==============================] - 0s 2ms/step - loss: 1.0031 - accuracy: 0.8692\n",
      "43/43 [==============================] - 0s 2ms/step - loss: 2.1786 - accuracy: 0.8198\n",
      "Shift is: 24 0.8691860437393188 0.819767415523529\n",
      "43/43 [==============================] - 0s 2ms/step - loss: 1.0951 - accuracy: 0.8525\n",
      "43/43 [==============================] - 0s 2ms/step - loss: 2.3858 - accuracy: 0.8089\n",
      "Shift is: 25 0.8524709343910217 0.8088662624359131\n",
      "43/43 [==============================] - 0s 2ms/step - loss: 1.2039 - accuracy: 0.8597\n",
      "43/43 [==============================] - 0s 2ms/step - loss: 2.6220 - accuracy: 0.8081\n",
      "Shift is: 26 0.8597383499145508 0.8081395626068115\n",
      "43/43 [==============================] - 0s 2ms/step - loss: 1.2105 - accuracy: 0.8561\n",
      "43/43 [==============================] - 0s 2ms/step - loss: 2.7556 - accuracy: 0.7951\n",
      "Shift is: 27 0.8561046719551086 0.7950581312179565\n",
      "43/43 [==============================] - 0s 2ms/step - loss: 1.2650 - accuracy: 0.8547\n",
      "43/43 [==============================] - 0s 2ms/step - loss: 2.9218 - accuracy: 0.7951\n",
      "Shift is: 28 0.854651153087616 0.7950581312179565\n",
      "43/43 [==============================] - 0s 2ms/step - loss: 1.3544 - accuracy: 0.8539\n",
      "43/43 [==============================] - 0s 2ms/step - loss: 3.2404 - accuracy: 0.7900\n",
      "Shift is: 29 0.8539243936538696 0.7899709343910217\n",
      "43/43 [==============================] - 0s 2ms/step - loss: 1.3611 - accuracy: 0.8481\n",
      "43/43 [==============================] - 0s 2ms/step - loss: 3.4803 - accuracy: 0.7776\n",
      "Shift is: 30 0.8481104373931885 0.7776162624359131\n",
      "43/43 [==============================] - 0s 2ms/step - loss: 1.3640 - accuracy: 0.8474\n",
      "43/43 [==============================] - 0s 2ms/step - loss: 3.5480 - accuracy: 0.7812\n",
      "Shift is: 31 0.8473837375640869 0.78125\n",
      "43/43 [==============================] - 0s 2ms/step - loss: 1.4755 - accuracy: 0.8474\n",
      "43/43 [==============================] - 0s 2ms/step - loss: 3.6154 - accuracy: 0.7827\n",
      "Shift is: 32 0.8473837375640869 0.7827034592628479\n",
      "43/43 [==============================] - 0s 2ms/step - loss: 1.5184 - accuracy: 0.8394\n",
      "43/43 [==============================] - 0s 2ms/step - loss: 3.8535 - accuracy: 0.7711\n",
      "Shift is: 33 0.8393895626068115 0.7710756063461304\n",
      "43/43 [==============================] - 0s 2ms/step - loss: 1.5226 - accuracy: 0.8358\n",
      "43/43 [==============================] - 0s 2ms/step - loss: 4.0085 - accuracy: 0.7733\n",
      "Shift is: 34 0.8357558250427246 0.7732558250427246\n",
      "43/43 [==============================] - 0s 2ms/step - loss: 1.5740 - accuracy: 0.8343\n",
      "43/43 [==============================] - 0s 2ms/step - loss: 4.1085 - accuracy: 0.7754\n",
      "Shift is: 35 0.8343023061752319 0.7754360437393188\n",
      "43/43 [==============================] - 0s 2ms/step - loss: 1.6278 - accuracy: 0.8270\n"
     ]
    },
    {
     "name": "stdout",
     "output_type": "stream",
     "text": [
      "43/43 [==============================] - 0s 2ms/step - loss: 4.2651 - accuracy: 0.7783\n",
      "Shift is: 36 0.8270348906517029 0.7783430218696594\n",
      "43/43 [==============================] - 0s 2ms/step - loss: 1.7422 - accuracy: 0.8227\n",
      "43/43 [==============================] - 0s 2ms/step - loss: 4.6274 - accuracy: 0.7733\n",
      "Shift is: 37 0.8226743936538696 0.7732558250427246\n",
      "43/43 [==============================] - 0s 2ms/step - loss: 1.7742 - accuracy: 0.8285\n",
      "43/43 [==============================] - 0s 2ms/step - loss: 4.9270 - accuracy: 0.7689\n",
      "Shift is: 38 0.8284883499145508 0.7688953280448914\n",
      "43/43 [==============================] - 0s 2ms/step - loss: 1.8002 - accuracy: 0.8278\n",
      "43/43 [==============================] - 0s 2ms/step - loss: 5.0246 - accuracy: 0.7791\n",
      "Shift is: 39 0.8277616500854492 0.7790697813034058\n",
      "43/43 [==============================] - 0s 2ms/step - loss: 1.8739 - accuracy: 0.8328\n",
      "43/43 [==============================] - 0s 2ms/step - loss: 5.1190 - accuracy: 0.7842\n",
      "Shift is: 40 0.832848846912384 0.7841569781303406\n"
     ]
    }
   ],
   "source": [
    "for shift in range(41):\n",
    "    Features_sound, IMU ,Labels =  get_data_sample_shift(shift_samples = shift)\n",
    "    evaluation1 = model1.evaluate([Features_sound,IMU],Labels)\n",
    "    Accuracy_vanilla.append(evaluation1[1])\n",
    "    \n",
    "    evaluation2 = model2.evaluate([Features_sound,IMU],Labels)\n",
    "    Accuracy_1000ms.append(evaluation2[1])\n",
    "    \n",
    "    print(\"Shift is:\",shift,evaluation1[1],evaluation2[1])\n",
    "\n",
    "#for i in range(1,40):\n",
    "#    shift_path='E:/augmented_data/'\n",
    "#    file='test_data_'+str(i)+'_shift.npz'\n",
    "\n",
    "#    shiftLabels,shiftFeatures_imu,shiftFeatures_audio = get_shifted_data(file,shift_path)\n",
    "\n",
    "#    evaluation1 = model.evaluate([shiftFeatures_audio,shiftFeatures_imu],shiftLabels)\n",
    "#    Accuracy_vanilla.append(evaluation1[1])\n",
    "    \n",
    "#    evaluation2 = model2.evaluate([shiftFeatures_audio,shiftFeatures_imu],shiftLabels)\n",
    "#    Accuracy_1000ms.append(evaluation2[1])"
   ]
  },
  {
   "cell_type": "code",
   "execution_count": 29,
   "metadata": {},
   "outputs": [
    {
     "data": {
      "text/plain": [
       "[0.9440813064575195,\n",
       " 0.944767415523529,\n",
       " 0.9331395626068115,\n",
       " 0.930232584476471,\n",
       " 0.9280523061752319,\n",
       " 0.9186046719551086,\n",
       " 0.9193313717842102,\n",
       " 0.9244186282157898,\n",
       " 0.9193313717842102,\n",
       " 0.917151153087616,\n",
       " 0.9193313717842102,\n",
       " 0.9156976938247681,\n",
       " 0.9055232405662537,\n",
       " 0.9055232405662537,\n",
       " 0.9040697813034058,\n",
       " 0.9004360437393188,\n",
       " 0.8909883499145508,\n",
       " 0.8909883499145508,\n",
       " 0.8837209343910217,\n",
       " 0.8888081312179565,\n",
       " 0.8880813717842102,\n",
       " 0.8837209343910217,\n",
       " 0.8786337375640869,\n",
       " 0.8706395626068115,\n",
       " 0.8691860437393188,\n",
       " 0.8524709343910217,\n",
       " 0.8597383499145508,\n",
       " 0.8561046719551086,\n",
       " 0.854651153087616,\n",
       " 0.8539243936538696,\n",
       " 0.8481104373931885,\n",
       " 0.8473837375640869,\n",
       " 0.8473837375640869,\n",
       " 0.8393895626068115,\n",
       " 0.8357558250427246,\n",
       " 0.8343023061752319,\n",
       " 0.8270348906517029,\n",
       " 0.8226743936538696,\n",
       " 0.8284883499145508,\n",
       " 0.8277616500854492,\n",
       " 0.832848846912384]"
      ]
     },
     "execution_count": 29,
     "metadata": {},
     "output_type": "execute_result"
    }
   ],
   "source": [
    "Accuracy_vanilla"
   ]
  },
  {
   "cell_type": "code",
   "execution_count": 30,
   "metadata": {
    "scrolled": false
   },
   "outputs": [
    {
     "data": {
      "text/plain": [
       "[0.9288308024406433,\n",
       " 0.9244186282157898,\n",
       " 0.9200581312179565,\n",
       " 0.917151153087616,\n",
       " 0.9193313717842102,\n",
       " 0.9106104373931885,\n",
       " 0.9149709343910217,\n",
       " 0.9091569781303406,\n",
       " 0.9069767594337463,\n",
       " 0.9055232405662537,\n",
       " 0.895348846912384,\n",
       " 0.8873546719551086,\n",
       " 0.8938953280448914,\n",
       " 0.8873546719551086,\n",
       " 0.8793604373931885,\n",
       " 0.8742732405662537,\n",
       " 0.8713662624359131,\n",
       " 0.8619186282157898,\n",
       " 0.8626453280448914,\n",
       " 0.8633720874786377,\n",
       " 0.8531976938247681,\n",
       " 0.8459302186965942,\n",
       " 0.8357558250427246,\n",
       " 0.8357558250427246,\n",
       " 0.819767415523529,\n",
       " 0.8088662624359131,\n",
       " 0.8081395626068115,\n",
       " 0.7950581312179565,\n",
       " 0.7950581312179565,\n",
       " 0.7899709343910217,\n",
       " 0.7776162624359131,\n",
       " 0.78125,\n",
       " 0.7827034592628479,\n",
       " 0.7710756063461304,\n",
       " 0.7732558250427246,\n",
       " 0.7754360437393188,\n",
       " 0.7783430218696594,\n",
       " 0.7732558250427246,\n",
       " 0.7688953280448914,\n",
       " 0.7790697813034058,\n",
       " 0.7841569781303406]"
      ]
     },
     "execution_count": 30,
     "metadata": {},
     "output_type": "execute_result"
    }
   ],
   "source": [
    "Accuracy_1000ms"
   ]
  },
  {
   "cell_type": "code",
   "execution_count": 31,
   "metadata": {},
   "outputs": [
    {
     "data": {
      "image/png": "[encoded data removed]",
      "text/plain": [
       "<Figure size 720x360 with 1 Axes>"
      ]
     },
     "metadata": {
      "needs_background": "light"
     },
     "output_type": "display_data"
    }
   ],
   "source": [
    "from matplotlib import pyplot as plt\n",
    "\n",
    "plt.figure(figsize=(10,5))\n",
    "plt.rcParams.update({'font.size': 18})\n",
    "\n",
    "y = np.arange(len(Accuracy_vanilla[:41]))\n",
    "\n",
    "y = y * 50\n",
    "\n",
    "plt.plot(y,(np.array(Accuracy_1000ms[:41])*100))\n",
    "plt.plot(y,(np.array(Accuracy_vanilla[:41])*100))\n",
    "\n",
    "#plt.title('Fused Model Accuracy')\n",
    "plt.ylabel('Accuracy')\n",
    "plt.xlabel('Time Synchronization Error (ms)')\n",
    "plt.legend(['Augmentation 1000ms','No Augmentation'], loc='lower left')\n",
    "plt.show()"
   ]
  },
  {
   "cell_type": "code",
   "execution_count": null,
   "metadata": {},
   "outputs": [],
   "source": []
  },
  {
   "cell_type": "code",
   "execution_count": null,
   "metadata": {},
   "outputs": [],
   "source": []
  }
 ],
 "metadata": {
  "kernelspec": {
   "display_name": "Python 3",
   "language": "python",
   "name": "python3"
  },
  "language_info": {
   "codemirror_mode": {
    "name": "ipython",
    "version": 3
   },
   "file_extension": ".py",
   "mimetype": "text/x-python",
   "name": "python",
   "nbconvert_exporter": "python",
   "pygments_lexer": "ipython3",
   "version": "3.7.9"
  }
 },
 "nbformat": 4,
 "nbformat_minor": 2
}
