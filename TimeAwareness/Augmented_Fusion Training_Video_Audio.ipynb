{
 "cells": [
  {
   "cell_type": "markdown",
   "metadata": {},
   "source": [
    "# Fusion of Video and Audio Features\n",
    "## With Time Shifting\n",
    "## Training on Synchronized Video and Shifted Audio Data"
   ]
  },
  {
   "cell_type": "markdown",
   "metadata": {},
   "source": [
    "## Video and Audio data is concatenated at an intermediate layer and then prediction is made"
   ]
  },
  {
   "cell_type": "code",
   "execution_count": 1,
   "metadata": {},
   "outputs": [],
   "source": [
    "import numpy as np\n",
    "import scipy.io\n",
    "\n",
    "# random seed.\n",
    "rand_seed = 1\n",
    "\n",
    "from numpy.random import seed\n",
    "from numpy import random\n",
    "\n",
    "seed(rand_seed)\n",
    "from tqdm.keras import TqdmCallback\n",
    "import tensorflow\n",
    "tensorflow.random.set_seed(rand_seed)\n",
    "\n",
    "import keras\n",
    "from keras.models import Sequential\n",
    "from keras.layers import Conv3D, MaxPooling3D, LSTM, Dense, Dropout, Flatten, Activation, BatchNormalization, GlobalAveragePooling3D, TimeDistributed, ConvLSTM2D\n",
    "from keras.layers.core import Permute, Reshape\n",
    "from keras import backend as K\n"
   ]
  },
  {
   "cell_type": "code",
   "execution_count": 2,
   "metadata": {},
   "outputs": [],
   "source": [
    "def one_hot_encoding(y_data):\n",
    "    Mapping=dict()\n",
    "    sub_dirs=['downstair','upstair','run','jump','walk','handwashing','exercise']\n",
    "\n",
    "    categories=10\n",
    "\n",
    "\n",
    "    count=0\n",
    "    for i in sub_dirs:\n",
    "        Mapping[i]=count\n",
    "        count=count+1\n",
    "\n",
    "    y_features2=[]\n",
    "    for i in range(len(y_data)):\n",
    "        Type=y_data[i]\n",
    "        lab=Mapping[Type]\n",
    "        y_features2.append(lab)\n",
    "\n",
    "    y_features=np.array(y_features2)\n",
    "    y_features=y_features.reshape(y_features.shape[0],1)\n",
    "    from keras.utils import to_categorical\n",
    "    y_features = to_categorical(y_features)\n",
    "\n",
    "    return y_features"
   ]
  },
  {
   "cell_type": "code",
   "execution_count": 23,
   "metadata": {},
   "outputs": [],
   "source": [
    "path='C:/Users/macro/Desktop/UCLA Class/ECE 209AS ML/TimeAwareness/data/'\n",
    "\n",
    "def get_train_and_validate_data(path=path):\n",
    "    Train_data = np.load(path+'Data_train_all.npz')\n",
    "    Labels = Train_data['arr_1']\n",
    "    Features_audio = Train_data['arr_2']\n",
    "    Features_video = Train_data['arr_3']\n",
    "\n",
    "    Labels = one_hot_encoding(Labels)\n",
    "    \n",
    "    randomize = np.arange(len(Labels))\n",
    "    np.random.shuffle(randomize)\n",
    "    \n",
    "    Labels = Labels[randomize]\n",
    "    Features_audio = Features_audio[randomize]\n",
    "    Features_video = Features_video[randomize]\n",
    "    \n",
    "    #Features_video = Features_video.astype('float32')\n",
    "    #Features_video /= 255\n",
    "    \n",
    "    new_Labels = np.split(Labels,[Labels.shape[0] - 1000])\n",
    "    new_Features_audio = np.split(Features_audio,[Features_audio.shape[0] - 1000])\n",
    "    new_Features_video = np.split(Features_video,[Features_video.shape[0] - 1000])\n",
    "    \n",
    "    pickSamplesTrainShift = np.arange(len(new_Features_audio[0]))\n",
    "    np.random.shuffle(pickSamplesTrainShift)\n",
    "    \n",
    "    pickSamplesValidateShift = np.arange(len(new_Features_audio[1]))\n",
    "    np.random.shuffle(pickSamplesValidateShift)\n",
    "    \n",
    "    for i in range((int)(len(pickSamplesTrainShift)/4)):\n",
    "        shiftFrames = random.randint(1,96)\n",
    "        new_Features_audio[0][pickSamplesTrainShift[i]] = np.roll(new_Features_audio[0][pickSamplesTrainShift[i]],shiftFrames)\n",
    "        \n",
    "    for i in range((int)(len(pickSamplesValidateShift)/4)):\n",
    "        shiftFrames = random.randint(1,96)\n",
    "        new_Features_audio[1][pickSamplesValidateShift[i]] = np.roll(new_Features_audio[1][pickSamplesValidateShift[i]],shiftFrames)\n",
    "    \n",
    "    return new_Labels[0],new_Features_audio[0],new_Features_video[0],new_Labels[1],new_Features_audio[1],new_Features_video[1]\n",
    "\n",
    "\n",
    "def get_test_data(path=path):\n",
    "    Train_data = np.load(path+'Data_test_71.pkl',allow_pickle=True)\n",
    "    Labels = Train_data[1]\n",
    "    Features_audio = Train_data[2]\n",
    "    Features_audio_no_shift = np.copy(Features_audio)\n",
    "    Features_video = Train_data[3]\n",
    "    statsShift = []\n",
    "    statsShiftDistribution = np.empty((0,0))\n",
    "    \n",
    "    Labels = one_hot_encoding(Labels)\n",
    "    \n",
    "    pickSamplesTestShift = np.arange(len(Features_audio))\n",
    "    np.random.shuffle(pickSamplesTestShift)\n",
    "    \n",
    "    for i in range((int)(len(pickSamplesTestShift)/4)):\n",
    "        shiftFrames = random.randint(1,150)\n",
    "        Features_audio[pickSamplesTestShift[i]] = np.roll(Features_audio[pickSamplesTestShift[i]],shiftFrames)\n",
    "        statsShift.append((pickSamplesTestShift[i],shiftFrames))\n",
    "        statsShiftDistribution = np.append(statsShiftDistribution,shiftFrames)\n",
    "        \n",
    "    statsShift = dict(statsShift)\n",
    "\n",
    "    return Labels,Features_audio,Features_audio_no_shift,Features_video,statsShift,statsShiftDistribution"
   ]
  },
  {
   "cell_type": "code",
   "execution_count": 24,
   "metadata": {},
   "outputs": [
    {
     "name": "stdout",
     "output_type": "stream",
     "text": [
      "(10976, 7) (10976, 193) (10976, 45, 64, 64, 3)\n",
      "Train Classes distribution:  [1691. 2178. 1186. 1694. 1139. 1628. 1460.]\n",
      "(1000, 7) (1000, 193) (1000, 45, 64, 64, 3)\n",
      "Validate Classes distribution:  [142. 182. 122. 154. 133. 151. 116.]\n",
      "(1377, 7) (1377, 193) (1377, 45, 64, 64, 3)\n",
      "Test Classes distribution:  [219. 268. 124. 146. 143. 234. 243.]\n"
     ]
    }
   ],
   "source": [
    "Labels,Features_audio,Features_video,Labels2,Features_audio2,Features_video2 = get_train_and_validate_data()\n",
    "print(Labels.shape,Features_audio.shape,Features_video.shape)\n",
    "print('Train Classes distribution: ',np.sum(Labels, axis = 0))\n",
    "\n",
    "print(Labels2.shape,Features_audio2.shape,Features_video2.shape)\n",
    "print('Validate Classes distribution: ',np.sum(Labels2, axis = 0))\n",
    "\n",
    "Labels3,Features_audio3,Features_audio_no_shift3,Features_video3,statsShift,statsShiftDistribution = get_test_data()\n",
    "print(Labels3.shape,Features_audio3.shape,Features_video3.shape)\n",
    "print('Test Classes distribution: ',np.sum(Labels3, axis = 0))"
   ]
  },
  {
   "cell_type": "markdown",
   "metadata": {},
   "source": [
    "# Combined Model: Video + Audio"
   ]
  },
  {
   "cell_type": "code",
   "execution_count": 5,
   "metadata": {},
   "outputs": [],
   "source": [
    "num_classes = 7\n",
    "\n",
    "def combined_video_audio_model():\n",
    "    input_audio = keras.layers.Input(shape=(193,))\n",
    "    A1 = keras.layers.Dense(256, activation='relu')(input_audio)\n",
    "    A2 = keras.layers.Dense(256, activation='relu')(A1)\n",
    "    A3 = keras.layers.Dropout(0.3)(A2)\n",
    "\n",
    "\n",
    "    input_video = keras.layers.Input(shape=(45, 64, 64, 3))\n",
    "    V1 = keras.layers.Conv3D(32, kernel_size=(3,3,3), strides=(1,1,1), activation='relu', padding='same', name='conv1', input_shape=(45, 64, 64, 3))(input_video)\n",
    "    V2 = keras.layers.MaxPooling3D(pool_size=(1,2,2), strides=(1,2,2), padding='valid', name='pool1')(V1)\n",
    "\n",
    "    V3 = keras.layers.Conv3D(64, kernel_size=(3,3,3), strides=(1,1,1), activation='relu', padding='same', name='conv2', input_shape=(45, 64, 64, 3))(V2)\n",
    "    V4 = keras.layers.MaxPooling3D(pool_size=(2,2,2), strides=(2,2,2), padding='valid', name='pool2')(V3)\n",
    "\n",
    "    V5 = keras.layers.Conv3D(64, kernel_size=(3,3,3), strides=(1,1,1), activation='relu', padding='same', name='conv3a')(V4)\n",
    "    V6 = keras.layers.Conv3D(64, kernel_size=(3,3,3), strides=(1,1,1), activation='relu', padding='same', name='conv3b')(V5)\n",
    "    V7 = keras.layers.MaxPooling3D(pool_size=(2,2,2), strides=(2,2,2), padding='valid', name='pool3')(V6)\n",
    "\n",
    "    V8 = keras.layers.Conv3D(128, kernel_size=(3,3,3), strides=(1,1,1), activation='relu', padding='same', name='conv4a')(V7)\n",
    "    V9 = keras.layers.Conv3D(128, kernel_size=(3,3,3), strides=(1,1,1), activation='relu', padding='same', name='conv4b')(V8)\n",
    "    V10 = keras.layers.MaxPooling3D(pool_size=(2,2,2), strides=(2,2,2), padding='valid', name='pool4')(V9)\n",
    "\n",
    "    V11 = keras.layers.Flatten()(V10)\n",
    "    V12 = keras.layers.Dense(1024, activation='relu', name='fc1')(V11)\n",
    "    V13 = keras.layers.Dropout(0.5)(V12)\n",
    "\n",
    "    V14 = keras.layers.Dense(1024, activation='relu', name='fc2')(V13)\n",
    "    V15 = keras.layers.Dropout(0.5)(V14)\n",
    "\n",
    "\n",
    "    # equivalent to added = keras.layers.add([x1, x2])\n",
    "    C1 = keras.layers.concatenate([A3, V15], axis=-1)\n",
    "    C2 = keras.layers.Dense(128, activation='relu', name='combined_fc')(C1)\n",
    "\n",
    "    out = keras.layers.Dense(num_classes, activation='softmax')(C2)\n",
    "\n",
    "    model = keras.models.Model(inputs=[input_audio, input_video], outputs=out)\n",
    "    \n",
    "    return model\n"
   ]
  },
  {
   "cell_type": "code",
   "execution_count": 6,
   "metadata": {},
   "outputs": [],
   "source": [
    "combined_model = combined_video_audio_model()"
   ]
  },
  {
   "cell_type": "code",
   "execution_count": 7,
   "metadata": {},
   "outputs": [
    {
     "name": "stdout",
     "output_type": "stream",
     "text": [
      "Model: \"functional_1\"\n",
      "__________________________________________________________________________________________________\n",
      "Layer (type)                    Output Shape         Param #     Connected to                     \n",
      "==================================================================================================\n",
      "input_2 (InputLayer)            [(None, 45, 64, 64,  0                                            \n",
      "__________________________________________________________________________________________________\n",
      "conv1 (Conv3D)                  (None, 45, 64, 64, 3 2624        input_2[0][0]                    \n",
      "__________________________________________________________________________________________________\n",
      "pool1 (MaxPooling3D)            (None, 45, 32, 32, 3 0           conv1[0][0]                      \n",
      "__________________________________________________________________________________________________\n",
      "conv2 (Conv3D)                  (None, 45, 32, 32, 6 55360       pool1[0][0]                      \n",
      "__________________________________________________________________________________________________\n",
      "pool2 (MaxPooling3D)            (None, 22, 16, 16, 6 0           conv2[0][0]                      \n",
      "__________________________________________________________________________________________________\n",
      "conv3a (Conv3D)                 (None, 22, 16, 16, 6 110656      pool2[0][0]                      \n",
      "__________________________________________________________________________________________________\n",
      "conv3b (Conv3D)                 (None, 22, 16, 16, 6 110656      conv3a[0][0]                     \n",
      "__________________________________________________________________________________________________\n",
      "pool3 (MaxPooling3D)            (None, 11, 8, 8, 64) 0           conv3b[0][0]                     \n",
      "__________________________________________________________________________________________________\n",
      "conv4a (Conv3D)                 (None, 11, 8, 8, 128 221312      pool3[0][0]                      \n",
      "__________________________________________________________________________________________________\n",
      "conv4b (Conv3D)                 (None, 11, 8, 8, 128 442496      conv4a[0][0]                     \n",
      "__________________________________________________________________________________________________\n",
      "pool4 (MaxPooling3D)            (None, 5, 4, 4, 128) 0           conv4b[0][0]                     \n",
      "__________________________________________________________________________________________________\n",
      "flatten (Flatten)               (None, 10240)        0           pool4[0][0]                      \n",
      "__________________________________________________________________________________________________\n",
      "input_1 (InputLayer)            [(None, 193)]        0                                            \n",
      "__________________________________________________________________________________________________\n",
      "fc1 (Dense)                     (None, 1024)         10486784    flatten[0][0]                    \n",
      "__________________________________________________________________________________________________\n",
      "dense (Dense)                   (None, 256)          49664       input_1[0][0]                    \n",
      "__________________________________________________________________________________________________\n",
      "dropout_1 (Dropout)             (None, 1024)         0           fc1[0][0]                        \n",
      "__________________________________________________________________________________________________\n",
      "dense_1 (Dense)                 (None, 256)          65792       dense[0][0]                      \n",
      "__________________________________________________________________________________________________\n",
      "fc2 (Dense)                     (None, 1024)         1049600     dropout_1[0][0]                  \n",
      "__________________________________________________________________________________________________\n",
      "dropout (Dropout)               (None, 256)          0           dense_1[0][0]                    \n",
      "__________________________________________________________________________________________________\n",
      "dropout_2 (Dropout)             (None, 1024)         0           fc2[0][0]                        \n",
      "__________________________________________________________________________________________________\n",
      "concatenate (Concatenate)       (None, 1280)         0           dropout[0][0]                    \n",
      "                                                                 dropout_2[0][0]                  \n",
      "__________________________________________________________________________________________________\n",
      "combined_fc (Dense)             (None, 128)          163968      concatenate[0][0]                \n",
      "__________________________________________________________________________________________________\n",
      "dense_2 (Dense)                 (None, 7)            903         combined_fc[0][0]                \n",
      "==================================================================================================\n",
      "Total params: 12,759,815\n",
      "Trainable params: 12,759,815\n",
      "Non-trainable params: 0\n",
      "__________________________________________________________________________________________________\n"
     ]
    }
   ],
   "source": [
    "combined_model.summary()"
   ]
  },
  {
   "cell_type": "code",
   "execution_count": 8,
   "metadata": {},
   "outputs": [],
   "source": [
    "model_path = 'C:/Users/macro/Desktop/UCLA Class/ECE 209AS ML/TimeAwareness/Baseline Models/combined_model_shift_checkpoint'\n",
    "\n",
    "from keras.callbacks import ReduceLROnPlateau\n",
    "from keras.callbacks import Callback\n",
    "from keras.callbacks import ModelCheckpoint\n",
    "from keras.callbacks import EarlyStopping\n",
    "\n",
    "checkpointer = ModelCheckpoint(filepath=model_path, verbose=1,monitor='val_accuracy' ,save_best_only=True, save_weights_only=False)\n",
    "earlystopper = EarlyStopping(monitor='val_accuracy',patience=5)"
   ]
  },
  {
   "cell_type": "code",
   "execution_count": 9,
   "metadata": {
    "scrolled": true
   },
   "outputs": [
    {
     "data": {
      "application/vnd.jupyter.widget-view+json": {
       "model_id": "983429705f5743118e0a2609e5376353",
       "version_major": 2,
       "version_minor": 0
      },
      "text/plain": [
       "0epoch [00:00, ?epoch/s]"
      ]
     },
     "metadata": {},
     "output_type": "display_data"
    },
    {
     "data": {
      "application/vnd.jupyter.widget-view+json": {
       "model_id": "ee245c22cfe94f24b1ed5007fa7531a7",
       "version_major": 2,
       "version_minor": 0
      },
      "text/plain": [
       "  0%|          | 0.00/172 [00:00<?, ?batch/s]"
      ]
     },
     "metadata": {},
     "output_type": "display_data"
    },
    {
     "name": "stdout",
     "output_type": "stream",
     "text": [
      "WARNING:tensorflow:Callbacks method `on_train_batch_end` is slow compared to the batch time (batch time: 0.2171s vs `on_train_batch_end` time: 0.3598s). Check your callbacks.\n",
      "\n",
      "Epoch 00001: val_accuracy improved from -inf to 0.57300, saving model to C:/Users/macro/Desktop/UCLA Class/ECE 209AS ML/TimeAwareness/Baseline Models\\combined_model_shift_checkpoint\n",
      "WARNING:tensorflow:From E:\\Anaconda\\envs\\GPUEnv\\lib\\site-packages\\tensorflow\\python\\training\\tracking\\tracking.py:111: Model.state_updates (from tensorflow.python.keras.engine.training) is deprecated and will be removed in a future version.\n",
      "Instructions for updating:\n",
      "This property should not be used in TensorFlow 2.0, as updates are applied automatically.\n",
      "WARNING:tensorflow:From E:\\Anaconda\\envs\\GPUEnv\\lib\\site-packages\\tensorflow\\python\\training\\tracking\\tracking.py:111: Layer.updates (from tensorflow.python.keras.engine.base_layer) is deprecated and will be removed in a future version.\n",
      "Instructions for updating:\n",
      "This property should not be used in TensorFlow 2.0, as updates are applied automatically.\n",
      "INFO:tensorflow:Assets written to: C:/Users/macro/Desktop/UCLA Class/ECE 209AS ML/TimeAwareness/Baseline Models\\combined_model_shift_checkpoint\\assets\n"
     ]
    },
    {
     "data": {
      "application/vnd.jupyter.widget-view+json": {
       "model_id": "e5c22fd76c6f4adaa821a89f77581135",
       "version_major": 2,
       "version_minor": 0
      },
      "text/plain": [
       "  0%|          | 0.00/172 [00:00<?, ?batch/s]"
      ]
     },
     "metadata": {},
     "output_type": "display_data"
    },
    {
     "name": "stdout",
     "output_type": "stream",
     "text": [
      "\n",
      "Epoch 00002: val_accuracy improved from 0.57300 to 0.87400, saving model to C:/Users/macro/Desktop/UCLA Class/ECE 209AS ML/TimeAwareness/Baseline Models\\combined_model_shift_checkpoint\n",
      "INFO:tensorflow:Assets written to: C:/Users/macro/Desktop/UCLA Class/ECE 209AS ML/TimeAwareness/Baseline Models\\combined_model_shift_checkpoint\\assets\n"
     ]
    },
    {
     "data": {
      "application/vnd.jupyter.widget-view+json": {
       "model_id": "7d905eb067e84688959cfbf6853eb479",
       "version_major": 2,
       "version_minor": 0
      },
      "text/plain": [
       "  0%|          | 0.00/172 [00:00<?, ?batch/s]"
      ]
     },
     "metadata": {},
     "output_type": "display_data"
    },
    {
     "name": "stdout",
     "output_type": "stream",
     "text": [
      "\n",
      "Epoch 00003: val_accuracy improved from 0.87400 to 0.93900, saving model to C:/Users/macro/Desktop/UCLA Class/ECE 209AS ML/TimeAwareness/Baseline Models\\combined_model_shift_checkpoint\n",
      "INFO:tensorflow:Assets written to: C:/Users/macro/Desktop/UCLA Class/ECE 209AS ML/TimeAwareness/Baseline Models\\combined_model_shift_checkpoint\\assets\n"
     ]
    },
    {
     "data": {
      "application/vnd.jupyter.widget-view+json": {
       "model_id": "13360f44660b4cc3b116b059350a07e7",
       "version_major": 2,
       "version_minor": 0
      },
      "text/plain": [
       "  0%|          | 0.00/172 [00:00<?, ?batch/s]"
      ]
     },
     "metadata": {},
     "output_type": "display_data"
    },
    {
     "name": "stdout",
     "output_type": "stream",
     "text": [
      "\n",
      "Epoch 00004: val_accuracy improved from 0.93900 to 0.97500, saving model to C:/Users/macro/Desktop/UCLA Class/ECE 209AS ML/TimeAwareness/Baseline Models\\combined_model_shift_checkpoint\n",
      "INFO:tensorflow:Assets written to: C:/Users/macro/Desktop/UCLA Class/ECE 209AS ML/TimeAwareness/Baseline Models\\combined_model_shift_checkpoint\\assets\n"
     ]
    },
    {
     "data": {
      "application/vnd.jupyter.widget-view+json": {
       "model_id": "91a8ea03b7e044b8af25657d9fa8c0d9",
       "version_major": 2,
       "version_minor": 0
      },
      "text/plain": [
       "  0%|          | 0.00/172 [00:00<?, ?batch/s]"
      ]
     },
     "metadata": {},
     "output_type": "display_data"
    },
    {
     "name": "stdout",
     "output_type": "stream",
     "text": [
      "\n",
      "Epoch 00005: val_accuracy improved from 0.97500 to 0.98400, saving model to C:/Users/macro/Desktop/UCLA Class/ECE 209AS ML/TimeAwareness/Baseline Models\\combined_model_shift_checkpoint\n",
      "INFO:tensorflow:Assets written to: C:/Users/macro/Desktop/UCLA Class/ECE 209AS ML/TimeAwareness/Baseline Models\\combined_model_shift_checkpoint\\assets\n"
     ]
    },
    {
     "data": {
      "application/vnd.jupyter.widget-view+json": {
       "model_id": "01644e6906304493876df0f0f5cef23e",
       "version_major": 2,
       "version_minor": 0
      },
      "text/plain": [
       "  0%|          | 0.00/172 [00:00<?, ?batch/s]"
      ]
     },
     "metadata": {},
     "output_type": "display_data"
    },
    {
     "name": "stdout",
     "output_type": "stream",
     "text": [
      "\n",
      "Epoch 00006: val_accuracy did not improve from 0.98400\n"
     ]
    },
    {
     "data": {
      "application/vnd.jupyter.widget-view+json": {
       "model_id": "7bf6b9e2814c4012a3c77109c5450bcb",
       "version_major": 2,
       "version_minor": 0
      },
      "text/plain": [
       "  0%|          | 0.00/172 [00:00<?, ?batch/s]"
      ]
     },
     "metadata": {},
     "output_type": "display_data"
    },
    {
     "name": "stdout",
     "output_type": "stream",
     "text": [
      "\n",
      "Epoch 00007: val_accuracy did not improve from 0.98400\n"
     ]
    },
    {
     "data": {
      "application/vnd.jupyter.widget-view+json": {
       "model_id": "260007695cf04ba98a95fb0d959bf36e",
       "version_major": 2,
       "version_minor": 0
      },
      "text/plain": [
       "  0%|          | 0.00/172 [00:00<?, ?batch/s]"
      ]
     },
     "metadata": {},
     "output_type": "display_data"
    },
    {
     "name": "stdout",
     "output_type": "stream",
     "text": [
      "\n",
      "Epoch 00008: val_accuracy improved from 0.98400 to 0.98700, saving model to C:/Users/macro/Desktop/UCLA Class/ECE 209AS ML/TimeAwareness/Baseline Models\\combined_model_shift_checkpoint\n",
      "INFO:tensorflow:Assets written to: C:/Users/macro/Desktop/UCLA Class/ECE 209AS ML/TimeAwareness/Baseline Models\\combined_model_shift_checkpoint\\assets\n"
     ]
    },
    {
     "data": {
      "application/vnd.jupyter.widget-view+json": {
       "model_id": "787da0bddf52439f9da567aba76f0f22",
       "version_major": 2,
       "version_minor": 0
      },
      "text/plain": [
       "  0%|          | 0.00/172 [00:00<?, ?batch/s]"
      ]
     },
     "metadata": {},
     "output_type": "display_data"
    },
    {
     "name": "stdout",
     "output_type": "stream",
     "text": [
      "\n",
      "Epoch 00009: val_accuracy did not improve from 0.98700\n"
     ]
    },
    {
     "data": {
      "application/vnd.jupyter.widget-view+json": {
       "model_id": "ed6ba7caf01a434793fed88040f9a312",
       "version_major": 2,
       "version_minor": 0
      },
      "text/plain": [
       "  0%|          | 0.00/172 [00:00<?, ?batch/s]"
      ]
     },
     "metadata": {},
     "output_type": "display_data"
    },
    {
     "name": "stdout",
     "output_type": "stream",
     "text": [
      "\n",
      "Epoch 00010: val_accuracy did not improve from 0.98700\n"
     ]
    },
    {
     "data": {
      "application/vnd.jupyter.widget-view+json": {
       "model_id": "43979477e41b461f8a02d76d1c97dacc",
       "version_major": 2,
       "version_minor": 0
      },
      "text/plain": [
       "  0%|          | 0.00/172 [00:00<?, ?batch/s]"
      ]
     },
     "metadata": {},
     "output_type": "display_data"
    },
    {
     "name": "stdout",
     "output_type": "stream",
     "text": [
      "\n",
      "Epoch 00011: val_accuracy improved from 0.98700 to 0.99000, saving model to C:/Users/macro/Desktop/UCLA Class/ECE 209AS ML/TimeAwareness/Baseline Models\\combined_model_shift_checkpoint\n",
      "INFO:tensorflow:Assets written to: C:/Users/macro/Desktop/UCLA Class/ECE 209AS ML/TimeAwareness/Baseline Models\\combined_model_shift_checkpoint\\assets\n"
     ]
    },
    {
     "data": {
      "application/vnd.jupyter.widget-view+json": {
       "model_id": "ad636d2383de4f8bbece94754ada04dd",
       "version_major": 2,
       "version_minor": 0
      },
      "text/plain": [
       "  0%|          | 0.00/172 [00:00<?, ?batch/s]"
      ]
     },
     "metadata": {},
     "output_type": "display_data"
    },
    {
     "name": "stdout",
     "output_type": "stream",
     "text": [
      "\n",
      "Epoch 00012: val_accuracy did not improve from 0.99000\n"
     ]
    },
    {
     "data": {
      "application/vnd.jupyter.widget-view+json": {
       "model_id": "79a60682cbe54d41bd25b60547a2ee5a",
       "version_major": 2,
       "version_minor": 0
      },
      "text/plain": [
       "  0%|          | 0.00/172 [00:00<?, ?batch/s]"
      ]
     },
     "metadata": {},
     "output_type": "display_data"
    },
    {
     "name": "stdout",
     "output_type": "stream",
     "text": [
      "\n",
      "Epoch 00013: val_accuracy did not improve from 0.99000\n"
     ]
    },
    {
     "data": {
      "application/vnd.jupyter.widget-view+json": {
       "model_id": "b6c4fcdc1bb949f3a8b850121a848cf5",
       "version_major": 2,
       "version_minor": 0
      },
      "text/plain": [
       "  0%|          | 0.00/172 [00:00<?, ?batch/s]"
      ]
     },
     "metadata": {},
     "output_type": "display_data"
    },
    {
     "name": "stdout",
     "output_type": "stream",
     "text": [
      "\n",
      "Epoch 00014: val_accuracy did not improve from 0.99000\n"
     ]
    },
    {
     "data": {
      "application/vnd.jupyter.widget-view+json": {
       "model_id": "13c2cb51e31e4f6785780fe4f286f187",
       "version_major": 2,
       "version_minor": 0
      },
      "text/plain": [
       "  0%|          | 0.00/172 [00:00<?, ?batch/s]"
      ]
     },
     "metadata": {},
     "output_type": "display_data"
    },
    {
     "name": "stdout",
     "output_type": "stream",
     "text": [
      "\n",
      "Epoch 00015: val_accuracy did not improve from 0.99000\n"
     ]
    },
    {
     "data": {
      "application/vnd.jupyter.widget-view+json": {
       "model_id": "3ec29d7dbf8447a0b9221fbb857779f7",
       "version_major": 2,
       "version_minor": 0
      },
      "text/plain": [
       "  0%|          | 0.00/172 [00:00<?, ?batch/s]"
      ]
     },
     "metadata": {},
     "output_type": "display_data"
    },
    {
     "name": "stdout",
     "output_type": "stream",
     "text": [
      "\n",
      "Epoch 00016: val_accuracy did not improve from 0.99000\n",
      "---Time 1646.791975736618 seconds ---\n"
     ]
    }
   ],
   "source": [
    "batch_size = 64\n",
    "epochs = 100\n",
    "from keras import optimizers\n",
    "from keras.optimizers import Adam\n",
    "\n",
    "adam = optimizers.Adam(lr=0.001, beta_1=0.9, beta_2=0.999, epsilon=None, decay=0.0, amsgrad=False)\n",
    "combined_model.compile(loss=keras.losses.categorical_crossentropy,\n",
    "              optimizer= adam,\n",
    "              metrics=['accuracy'])\n",
    "\n",
    "import time\n",
    "start_time = time.time()\n",
    "\n",
    "learning_hist = combined_model.fit([Features_audio,Features_video], Labels,\n",
    "                    verbose=0,\n",
    "                    epochs=epochs,\n",
    "                    shuffle=True,\n",
    "                    batch_size=batch_size,\n",
    "                    callbacks=[checkpointer,earlystopper,TqdmCallback(verbose=2)],\n",
    "                    validation_data=([Features_audio2,Features_video2], Labels2))\n",
    "\n",
    "end_time = time.time()\n",
    "\n",
    "print(\"---Time %s seconds ---\" % (end_time - start_time))"
   ]
  },
  {
   "cell_type": "markdown",
   "metadata": {},
   "source": [
    "# Accuracies"
   ]
  },
  {
   "cell_type": "code",
   "execution_count": 10,
   "metadata": {},
   "outputs": [],
   "source": [
    "from keras.models import load_model\n",
    "\n",
    "model_path2 = 'C:/Users/macro/Desktop/UCLA Class/ECE 209AS ML/TimeAwareness/Baseline Models/combined_model_checkpoint'\n",
    "\n",
    "model = load_model(model_path)\n",
    "model2 = load_model(model_path2)"
   ]
  },
  {
   "cell_type": "code",
   "execution_count": 11,
   "metadata": {},
   "outputs": [
    {
     "name": "stdout",
     "output_type": "stream",
     "text": [
      "  2/343 [..............................] - ETA: 39s - loss: 0.0099 - accuracy: 1.0000WARNING:tensorflow:Callbacks method `on_test_batch_end` is slow compared to the batch time (batch time: 0.0078s vs `on_test_batch_end` time: 0.1119s). Check your callbacks.\n",
      "343/343 [==============================] - 38s 111ms/step - loss: 0.0262 - accuracy: 0.9919\n",
      "  2/343 [..............................] - ETA: 39s - loss: 49.5578 - accuracy: 0.7500WARNING:tensorflow:Callbacks method `on_test_batch_end` is slow compared to the batch time (batch time: 0.0068s vs `on_test_batch_end` time: 0.1196s). Check your callbacks.\n",
      "343/343 [==============================] - 39s 113ms/step - loss: 42.7097 - accuracy: 0.7723\n"
     ]
    },
    {
     "data": {
      "text/plain": [
       "[42.70973587036133, 0.7723214030265808]"
      ]
     },
     "execution_count": 11,
     "metadata": {},
     "output_type": "execute_result"
    }
   ],
   "source": [
    "#Train Accuracy\n",
    "model.evaluate([Features_audio,Features_video],Labels)\n",
    "model2.evaluate([Features_audio,Features_video],Labels)"
   ]
  },
  {
   "cell_type": "code",
   "execution_count": 12,
   "metadata": {
    "scrolled": true
   },
   "outputs": [
    {
     "name": "stdout",
     "output_type": "stream",
     "text": [
      "32/32 [==============================] - 3s 108ms/step - loss: 0.0447 - accuracy: 0.9900\n",
      "32/32 [==============================] - 3s 106ms/step - loss: 42.7372 - accuracy: 0.7790\n"
     ]
    },
    {
     "data": {
      "text/plain": [
       "[42.7371711730957, 0.7789999842643738]"
      ]
     },
     "execution_count": 12,
     "metadata": {},
     "output_type": "execute_result"
    }
   ],
   "source": [
    "## Valid Accuracy\n",
    "model.evaluate([Features_audio2,Features_video2],Labels2)\n",
    "model2.evaluate([Features_audio2,Features_video2],Labels2)"
   ]
  },
  {
   "cell_type": "code",
   "execution_count": 25,
   "metadata": {},
   "outputs": [
    {
     "name": "stdout",
     "output_type": "stream",
     "text": [
      "44/44 [==============================] - 5s 106ms/step - loss: 0.4119 - accuracy: 0.9005\n",
      "44/44 [==============================] - 4s 101ms/step - loss: 35.7266 - accuracy: 0.7219\n",
      "False\n",
      "44/44 [==============================] - 4s 99ms/step - loss: 0.4084 - accuracy: 0.9034\n",
      "44/44 [==============================] - 4s 99ms/step - loss: 0.3246 - accuracy: 0.9063\n"
     ]
    },
    {
     "data": {
      "text/plain": [
       "[0.32464662194252014, 0.9063180685043335]"
      ]
     },
     "execution_count": 25,
     "metadata": {},
     "output_type": "execute_result"
    }
   ],
   "source": [
    "## Test Accuracy\n",
    "model.evaluate([Features_audio3,Features_video3],Labels3)\n",
    "model2.evaluate([Features_audio3,Features_video3],Labels3)\n",
    "\n",
    "model.evaluate([Features_audio_no_shift3,Features_video3],Labels3)\n",
    "model2.evaluate([Features_audio_no_shift3,Features_video3],Labels3)"
   ]
  },
  {
   "cell_type": "code",
   "execution_count": 14,
   "metadata": {},
   "outputs": [
    {
     "data": {
      "image/png": "[encoded data removed]",
      "text/plain": [
       "<Figure size 2160x720 with 2 Axes>"
      ]
     },
     "metadata": {
      "needs_background": "light"
     },
     "output_type": "display_data"
    },
    {
     "name": "stdout",
     "output_type": "stream",
     "text": [
      "Total Shifted Audio in Test Set:  344\n",
      "Model Robust misses:  35   [1 1 1 1 1 1 1 1 1 1 1 1 1 1 1 1 1 1 1 1 1 1 1 1 1 1 1 1 2 1 1 1 1 1]\n",
      "Model Non-Robust misses:  280   [2 4 3 3 3 2 2 1 2 4 2 4 5 1 1 1 2 1 1 2 1 3 2 3 2 4 2 2 2 2 3 2 4 1 3 1 2\n",
      " 2 4 2 1 4 2 3 2 6 2 1 2 1 1 1 1 4 1 2 1 4 2 2 1 1 2 5 1 1 2 3 3 3 4 3 4 4\n",
      " 2 2 2 1 1 2 4 1 1 2 2 3 1 2 1 1 2 1 3 4 4 2 2 2 1 1 3 1 1 2 5 2 2 2 1 1 1\n",
      " 1 1 4 3 2 1 3 3 3 1 3 2 1 2 1 2 3]\n"
     ]
    }
   ],
   "source": [
    "prediction = np.round(model.predict([Features_audio3,Features_video3]))\n",
    "prediction2 = np.round(model2.predict([Features_audio3,Features_video3]))\n",
    "\n",
    "from matplotlib import pyplot as plt\n",
    "\n",
    "distribution = np.empty((0,0))\n",
    "distribution2 = np.empty((0,0))\n",
    "\n",
    "for i in range(len(prediction)):\n",
    "    if (prediction[i] != Labels3[i]).any() and i in statsShift:\n",
    "        distribution = np.append(distribution,statsShift[i])\n",
    "        \n",
    "for i in range(len(prediction2)):\n",
    "    if (prediction2[i] != Labels3[i]).any() and i in statsShift:\n",
    "        distribution2 = np.append(distribution2,statsShift[i])\n",
    "\n",
    "xLabel,count = np.unique(distribution,return_counts=True)\n",
    "xLabel2,count2 = np.unique(distribution2,return_counts=True)\n",
    "xLabel3,count3 = np.unique(statsShiftDistribution,return_counts=True)\n",
    "\n",
    "plt.rcParams.update({'font.size': 32})\n",
    "fig,axes = plt.subplots(nrows=1, ncols=2, figsize=(30,10))\n",
    "fig.tight_layout()\n",
    "\n",
    "axes[0].set_title('Total Shifted Audio Samples')\n",
    "axes[0].set_xlabel('Shift Sample Amount')\n",
    "axes[0].set_ylabel('Count')\n",
    "axes[0].bar(xLabel3,count3)\n",
    "\n",
    "axes[1].set_title('Missed Predictions of Samples With Shifted Audio')\n",
    "axes[1].set_xlabel('Shift Sample Amount')\n",
    "axes[1].set_ylabel('Count')\n",
    "axes[1].bar(xLabel2,count2)\n",
    "axes[1].bar(xLabel,count)\n",
    "axes[1].legend(['Non-Robust', 'Robust'], loc='upper right')\n",
    "\n",
    "fig.subplots_adjust(wspace=0.25)\n",
    "plt.show()\n",
    "\n",
    "print(\"Total Shifted Audio in Test Set: \", len(statsShift))\n",
    "print(\"Model Robust misses: \", np.sum(count), ' ', count)\n",
    "print(\"Model Non-Robust misses: \", np.sum(count2), ' ', count2)"
   ]
  },
  {
   "cell_type": "markdown",
   "metadata": {},
   "source": [
    "# Plotting"
   ]
  },
  {
   "cell_type": "code",
   "execution_count": 15,
   "metadata": {},
   "outputs": [
    {
     "name": "stdout",
     "output_type": "stream",
     "text": [
      "dict_keys(['loss', 'accuracy', 'val_loss', 'val_accuracy'])\n"
     ]
    },
    {
     "data": {
      "image/png": "[encoded data removed]",
      "text/plain": [
       "<Figure size 720x360 with 1 Axes>"
      ]
     },
     "metadata": {
      "needs_background": "light"
     },
     "output_type": "display_data"
    }
   ],
   "source": [
    "print(learning_hist.history.keys())\n",
    "plt.rcParams.update({'font.size': 18})\n",
    "\n",
    "plt.figure(figsize=(10,5))\n",
    "\n",
    "plt.plot(learning_hist.history['accuracy'])\n",
    "plt.plot(learning_hist.history['val_accuracy'])\n",
    "plt.title('model accuracy')\n",
    "plt.ylabel('accuracy')\n",
    "plt.xlabel('epoch')\n",
    "plt.legend(['train', 'Valid'], loc='upper right')\n",
    "plt.show()"
   ]
  },
  {
   "cell_type": "code",
   "execution_count": 16,
   "metadata": {},
   "outputs": [
    {
     "data": {
      "image/png": "[encoded data removed]",
      "text/plain": [
       "<Figure size 720x360 with 1 Axes>"
      ]
     },
     "metadata": {
      "needs_background": "light"
     },
     "output_type": "display_data"
    }
   ],
   "source": [
    "# summarize history for loss\n",
    "\n",
    "from matplotlib import pyplot as plt\n",
    "\n",
    "plt.figure(figsize=(10,5))\n",
    "plt.rcParams.update({'font.size': 18})\n",
    "\n",
    "\n",
    "plt.plot(learning_hist.history['loss'])\n",
    "plt.plot(learning_hist.history['val_loss'])\n",
    "plt.title('model loss')\n",
    "plt.ylabel('loss')\n",
    "plt.xlabel('epoch')\n",
    "plt.legend(['train', 'Valid'], loc='upper right')\n",
    "plt.show()"
   ]
  },
  {
   "cell_type": "code",
   "execution_count": null,
   "metadata": {},
   "outputs": [],
   "source": []
  }
 ],
 "metadata": {
  "kernelspec": {
   "display_name": "Python 3",
   "language": "python",
   "name": "python3"
  },
  "language_info": {
   "codemirror_mode": {
    "name": "ipython",
    "version": 3
   },
   "file_extension": ".py",
   "mimetype": "text/x-python",
   "name": "python",
   "nbconvert_exporter": "python",
   "pygments_lexer": "ipython3",
   "version": "3.7.9"
  }
 },
 "nbformat": 4,
 "nbformat_minor": 2
}
