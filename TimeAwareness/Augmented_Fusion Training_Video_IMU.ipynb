{
 "cells": [
  {
   "cell_type": "markdown",
   "metadata": {},
   "source": [
    "# Fusion of Video and IMU Features\n",
    "## With Time Shifting\n",
    "## Training on Synchronized Video and Shifted IMU Data"
   ]
  },
  {
   "cell_type": "markdown",
   "metadata": {},
   "source": [
    "## Video and IMU data is concatenated at an intermediate layer and then prediction is made"
   ]
  },
  {
   "cell_type": "code",
   "execution_count": 1,
   "metadata": {},
   "outputs": [],
   "source": [
    "import numpy as np\n",
    "import scipy.io\n",
    "\n",
    "# random seed.\n",
    "rand_seed = 1\n",
    "\n",
    "from numpy.random import seed\n",
    "from numpy import random\n",
    "\n",
    "seed(rand_seed)\n",
    "from tqdm.keras import TqdmCallback\n",
    "import tensorflow\n",
    "tensorflow.random.set_seed(rand_seed)\n",
    "\n",
    "import keras\n",
    "from keras.models import Sequential\n",
    "from keras.layers import Conv3D, MaxPooling3D, LSTM, Dense, Dropout, Flatten, Activation, BatchNormalization, GlobalAveragePooling3D, TimeDistributed, ConvLSTM2D\n",
    "from keras.layers.core import Permute, Reshape\n",
    "from keras import backend as K\n"
   ]
  },
  {
   "cell_type": "code",
   "execution_count": 2,
   "metadata": {},
   "outputs": [],
   "source": [
    "def one_hot_encoding(y_data):\n",
    "    Mapping=dict()\n",
    "    sub_dirs=['downstair','upstair','run','jump','walk','handwashing','exercise']\n",
    "\n",
    "    categories=10\n",
    "\n",
    "\n",
    "    count=0\n",
    "    for i in sub_dirs:\n",
    "        Mapping[i]=count\n",
    "        count=count+1\n",
    "\n",
    "    y_features2=[]\n",
    "    for i in range(len(y_data)):\n",
    "        Type=y_data[i]\n",
    "        lab=Mapping[Type]\n",
    "        y_features2.append(lab)\n",
    "\n",
    "    y_features=np.array(y_features2)\n",
    "    y_features=y_features.reshape(y_features.shape[0],1)\n",
    "    from keras.utils import to_categorical\n",
    "    y_features = to_categorical(y_features)\n",
    "\n",
    "    return y_features"
   ]
  },
  {
   "cell_type": "code",
   "execution_count": 3,
   "metadata": {},
   "outputs": [],
   "source": [
    "path='C:/Users/macro/Desktop/UCLA Class/ECE 209AS ML/TimeAwareness/data/'\n",
    "\n",
    "def get_train_and_validate_data(path=path):\n",
    "    Train_data = np.load(path+'Data_train_all.npz')\n",
    "    Labels = Train_data['arr_1']\n",
    "    Features_imu = np.asarray(Train_data['arr_0'],dtype=np.float64)\n",
    "    Features_video = Train_data['arr_3']\n",
    "\n",
    "    Labels = one_hot_encoding(Labels)\n",
    "    \n",
    "    randomize = np.arange(len(Labels))\n",
    "    np.random.shuffle(randomize)\n",
    "    \n",
    "    Labels = Labels[randomize]\n",
    "    Features_imu = Features_imu[randomize]\n",
    "    Features_video = Features_video[randomize]\n",
    "    \n",
    "    Features_imu = Features_imu.reshape(Features_imu.shape[0],1, Features_imu.shape[1], Features_imu.shape[2]) \n",
    "    \n",
    "    new_Labels = np.split(Labels,[Labels.shape[0] - 2000])\n",
    "    new_Features_imu = np.split(Features_imu,[Features_imu.shape[0] - 2000])\n",
    "    new_Features_video = np.split(Features_video,[Features_video.shape[0] - 2000])\n",
    "    \n",
    "    return new_Labels[0],new_Features_imu[0],new_Features_video[0],new_Labels[1],new_Features_imu[1],new_Features_video[1]\n",
    "\n",
    "def get_test_data(path=path):\n",
    "    Train_data = np.load(path+'Data_test_71.pkl',allow_pickle=True)\n",
    "    Labels = Train_data[1]\n",
    "    Features_imu = np.asarray(Train_data[0],dtype=np.float64)\n",
    "    Features_video = Train_data[3]\n",
    "    \n",
    "    Features_imu = Features_imu.reshape(Features_imu.shape[0],1, Features_imu.shape[1], Features_imu.shape[2]) \n",
    "    Labels = one_hot_encoding(Labels)\n",
    "\n",
    "    return Labels,Features_imu,Features_video"
   ]
  },
  {
   "cell_type": "code",
   "execution_count": 4,
   "metadata": {},
   "outputs": [
    {
     "name": "stdout",
     "output_type": "stream",
     "text": [
      "(9976, 7) (9976, 1, 40, 12) (9976, 45, 64, 64, 3)\n",
      "Train Classes distribution:  [1535. 1970. 1105. 1533. 1057. 1490. 1286.]\n",
      "(2000, 7) (2000, 1, 40, 12) (2000, 45, 64, 64, 3)\n",
      "Validate Classes distribution:  [298. 390. 203. 315. 215. 289. 290.]\n",
      "(1377, 7) (1377, 1, 40, 12) (1377, 45, 64, 64, 3)\n",
      "Test Classes distribution:  [219. 268. 124. 146. 143. 234. 243.]\n"
     ]
    }
   ],
   "source": [
    "Labels,Features_imu,Features_video,Labels2,Features_imu2,Features_video2 = get_train_and_validate_data()\n",
    "print(Labels.shape,Features_imu.shape,Features_video.shape)\n",
    "print('Train Classes distribution: ',np.sum(Labels, axis = 0))\n",
    "\n",
    "print(Labels2.shape,Features_imu2.shape,Features_video2.shape)\n",
    "print('Validate Classes distribution: ',np.sum(Labels2, axis = 0))\n",
    "\n",
    "Labels3,Features_imu3,Features_video3 = get_test_data()\n",
    "print(Labels3.shape,Features_imu3.shape,Features_video3.shape)\n",
    "print('Test Classes distribution: ',np.sum(Labels3, axis = 0))"
   ]
  },
  {
   "cell_type": "code",
   "execution_count": 5,
   "metadata": {},
   "outputs": [],
   "source": [
    "def get_shifted_data(file,path=path):\n",
    "    Train_data = np.load(path+file)\n",
    "    Labels = Train_data['arr_1']\n",
    "    Features_imu = np.asarray(Train_data['arr_0'],dtype=np.float64)\n",
    "    Features_video = Train_data['arr_3']\n",
    "    \n",
    "    return Labels,Features_imu,Features_video"
   ]
  },
  {
   "cell_type": "code",
   "execution_count": 6,
   "metadata": {},
   "outputs": [
    {
     "name": "stdout",
     "output_type": "stream",
     "text": [
      "(29926, 7) (29926, 1, 40, 12) (29926, 45, 64, 64, 3)\n"
     ]
    }
   ],
   "source": [
    "shift_path='E:/augmented_data/'\n",
    "file='train_data_10_shift.npz'\n",
    "\n",
    "shiftLabels,shiftFeatures_imu,shiftFeatures_video = get_shifted_data(file,shift_path)\n",
    "\n",
    "Labels = np.concatenate((Labels,shiftLabels),axis=0)\n",
    "Features_imu = np.concatenate((Features_imu,shiftFeatures_imu),axis=0)\n",
    "Features_video = np.concatenate((Features_video,shiftFeatures_video),axis=0)\n",
    "\n",
    "file='train_data_20_shift.npz'\n",
    "\n",
    "shiftLabels,shiftFeatures_imu,shiftFeatures_video = get_shifted_data(file,shift_path)\n",
    "\n",
    "Labels = np.concatenate((Labels,shiftLabels),axis=0)\n",
    "Features_imu = np.concatenate((Features_imu,shiftFeatures_imu),axis=0)\n",
    "Features_video = np.concatenate((Features_video,shiftFeatures_video),axis=0)\n",
    "\n",
    "print(Labels.shape,Features_imu.shape,Features_video.shape)"
   ]
  },
  {
   "cell_type": "code",
   "execution_count": 7,
   "metadata": {},
   "outputs": [
    {
     "name": "stdout",
     "output_type": "stream",
     "text": [
      "(9996, 7) (9996, 1, 40, 12) (9996, 45, 64, 64, 3)\n"
     ]
    }
   ],
   "source": [
    "file='validate_data_1_shift.npz'\n",
    "\n",
    "shiftLabels,shiftFeatures_imu,shiftFeatures_video = get_shifted_data(file,shift_path)\n",
    "\n",
    "Labels2 = np.concatenate((Labels2,shiftLabels),axis=0)\n",
    "Features_imu2 = np.concatenate((Features_imu2,shiftFeatures_imu),axis=0)\n",
    "Features_video2 = np.concatenate((Features_video2,shiftFeatures_video),axis=0)\n",
    "\n",
    "file='validate_data_2_shift.npz'\n",
    "\n",
    "shiftLabels,shiftFeatures_imu,shiftFeatures_video = get_shifted_data(file,shift_path)\n",
    "\n",
    "Labels2 = np.concatenate((Labels2,shiftLabels),axis=0)\n",
    "Features_imu2 = np.concatenate((Features_imu2,shiftFeatures_imu),axis=0)\n",
    "Features_video2 = np.concatenate((Features_video2,shiftFeatures_video),axis=0)\n",
    "\n",
    "file='validate_data_10_shift.npz'\n",
    "\n",
    "shiftLabels,shiftFeatures_imu,shiftFeatures_video = get_shifted_data(file,shift_path)\n",
    "\n",
    "Labels2 = np.concatenate((Labels2,shiftLabels),axis=0)\n",
    "Features_imu2 = np.concatenate((Features_imu2,shiftFeatures_imu),axis=0)\n",
    "Features_video2 = np.concatenate((Features_video2,shiftFeatures_video),axis=0)\n",
    "\n",
    "file='validate_data_20_shift.npz'\n",
    "\n",
    "shiftLabels,shiftFeatures_imu,shiftFeatures_video = get_shifted_data(file,shift_path)\n",
    "\n",
    "Labels2 = np.concatenate((Labels2,shiftLabels),axis=0)\n",
    "Features_imu2 = np.concatenate((Features_imu2,shiftFeatures_imu),axis=0)\n",
    "Features_video2 = np.concatenate((Features_video2,shiftFeatures_video),axis=0)\n",
    "\n",
    "print(Labels2.shape,Features_imu2.shape,Features_video2.shape)"
   ]
  },
  {
   "cell_type": "markdown",
   "metadata": {},
   "source": [
    "# Combined Model: Video + IMU"
   ]
  },
  {
   "cell_type": "code",
   "execution_count": 8,
   "metadata": {},
   "outputs": [],
   "source": [
    "def combined_video_imu_model():\n",
    "    num_classes = 7\n",
    "    num_feat_map=32\n",
    "    _, dim, win_len, _, = Features_imu.shape\n",
    "    input_imu = keras.layers.Input(shape=(dim, win_len, 12))\n",
    "\n",
    "    I1 = keras.layers.Conv2D(num_feat_map, kernel_size=(1, 5), activation='relu', padding='same')(input_imu)\n",
    "    I2 = keras.layers.MaxPooling2D(pool_size=(1, 2))(I1)\n",
    "\n",
    "    I3 = keras.layers.Conv2D(num_feat_map, kernel_size=(1, 5), activation='relu', padding='same')(I2)\n",
    "    I4 = keras.layers.MaxPooling2D(pool_size=(1, 2))(I3)\n",
    "    I5 = keras.layers.Flatten()(I4)\n",
    "\n",
    "    I6 = keras.layers.Dense(256, activation='relu')(I5)\n",
    "    I7 = keras.layers.Dropout(0.3)(I6)\n",
    "\n",
    "    input_video = keras.layers.Input(shape=(45, 64, 64, 3))\n",
    "    V1 = keras.layers.Conv3D(32, kernel_size=(3,3,3), strides=(1,1,1), activation='relu', padding='same', name='conv1', input_shape=(45, 64, 64, 3))(input_video)\n",
    "    V2 = keras.layers.MaxPooling3D(pool_size=(1,2,2), strides=(1,2,2), padding='valid', name='pool1')(V1)\n",
    "\n",
    "    V3 = keras.layers.Conv3D(64, kernel_size=(3,3,3), strides=(1,1,1), activation='relu', padding='same', name='conv2', input_shape=(45, 64, 64, 3))(V2)\n",
    "    V4 = keras.layers.MaxPooling3D(pool_size=(2,2,2), strides=(2,2,2), padding='valid', name='pool2')(V3)\n",
    "\n",
    "    V5 = keras.layers.Conv3D(64, kernel_size=(3,3,3), strides=(1,1,1), activation='relu', padding='same', name='conv3a')(V4)\n",
    "    V6 = keras.layers.Conv3D(64, kernel_size=(3,3,3), strides=(1,1,1), activation='relu', padding='same', name='conv3b')(V5)\n",
    "    V7 = keras.layers.MaxPooling3D(pool_size=(2,2,2), strides=(2,2,2), padding='valid', name='pool3')(V6)\n",
    "\n",
    "    V8 = keras.layers.Conv3D(128, kernel_size=(3,3,3), strides=(1,1,1), activation='relu', padding='same', name='conv4a')(V7)\n",
    "    V9 = keras.layers.Conv3D(128, kernel_size=(3,3,3), strides=(1,1,1), activation='relu', padding='same', name='conv4b')(V8)\n",
    "    V10 = keras.layers.MaxPooling3D(pool_size=(2,2,2), strides=(2,2,2), padding='valid', name='pool4')(V9)\n",
    "\n",
    "    V11 = keras.layers.Flatten()(V10)\n",
    "    V12 = keras.layers.Dense(1024, activation='relu', name='fc1')(V11)\n",
    "    V13 = keras.layers.Dropout(0.5)(V12)\n",
    "\n",
    "    V14 = keras.layers.Dense(1024, activation='relu', name='fc2')(V13)\n",
    "    V15 = keras.layers.Dropout(0.5)(V14)\n",
    "\n",
    "\n",
    "    # equivalent to added = keras.layers.add([x1, x2])\n",
    "    C1 = keras.layers.concatenate([I6, V15], axis=-1)\n",
    "    C2 = keras.layers.Dense(128, activation='relu', name='combined_fc')(C1)\n",
    "\n",
    "    out = keras.layers.Dense(num_classes, activation='softmax')(C2)\n",
    "\n",
    "    model = keras.models.Model(inputs=[input_imu, input_video], outputs=out)\n",
    "    \n",
    "    return model\n"
   ]
  },
  {
   "cell_type": "code",
   "execution_count": 9,
   "metadata": {},
   "outputs": [],
   "source": [
    "combined_model = combined_video_imu_model()"
   ]
  },
  {
   "cell_type": "code",
   "execution_count": 10,
   "metadata": {},
   "outputs": [
    {
     "name": "stdout",
     "output_type": "stream",
     "text": [
      "Model: \"functional_1\"\n",
      "__________________________________________________________________________________________________\n",
      "Layer (type)                    Output Shape         Param #     Connected to                     \n",
      "==================================================================================================\n",
      "input_2 (InputLayer)            [(None, 45, 64, 64,  0                                            \n",
      "__________________________________________________________________________________________________\n",
      "conv1 (Conv3D)                  (None, 45, 64, 64, 3 2624        input_2[0][0]                    \n",
      "__________________________________________________________________________________________________\n",
      "pool1 (MaxPooling3D)            (None, 45, 32, 32, 3 0           conv1[0][0]                      \n",
      "__________________________________________________________________________________________________\n",
      "conv2 (Conv3D)                  (None, 45, 32, 32, 6 55360       pool1[0][0]                      \n",
      "__________________________________________________________________________________________________\n",
      "pool2 (MaxPooling3D)            (None, 22, 16, 16, 6 0           conv2[0][0]                      \n",
      "__________________________________________________________________________________________________\n",
      "conv3a (Conv3D)                 (None, 22, 16, 16, 6 110656      pool2[0][0]                      \n",
      "__________________________________________________________________________________________________\n",
      "conv3b (Conv3D)                 (None, 22, 16, 16, 6 110656      conv3a[0][0]                     \n",
      "__________________________________________________________________________________________________\n",
      "pool3 (MaxPooling3D)            (None, 11, 8, 8, 64) 0           conv3b[0][0]                     \n",
      "__________________________________________________________________________________________________\n",
      "conv4a (Conv3D)                 (None, 11, 8, 8, 128 221312      pool3[0][0]                      \n",
      "__________________________________________________________________________________________________\n",
      "input_1 (InputLayer)            [(None, 1, 40, 12)]  0                                            \n",
      "__________________________________________________________________________________________________\n",
      "conv4b (Conv3D)                 (None, 11, 8, 8, 128 442496      conv4a[0][0]                     \n",
      "__________________________________________________________________________________________________\n",
      "conv2d (Conv2D)                 (None, 1, 40, 32)    1952        input_1[0][0]                    \n",
      "__________________________________________________________________________________________________\n",
      "pool4 (MaxPooling3D)            (None, 5, 4, 4, 128) 0           conv4b[0][0]                     \n",
      "__________________________________________________________________________________________________\n",
      "max_pooling2d (MaxPooling2D)    (None, 1, 20, 32)    0           conv2d[0][0]                     \n",
      "__________________________________________________________________________________________________\n",
      "flatten_1 (Flatten)             (None, 10240)        0           pool4[0][0]                      \n",
      "__________________________________________________________________________________________________\n",
      "conv2d_1 (Conv2D)               (None, 1, 20, 32)    5152        max_pooling2d[0][0]              \n",
      "__________________________________________________________________________________________________\n",
      "fc1 (Dense)                     (None, 1024)         10486784    flatten_1[0][0]                  \n",
      "__________________________________________________________________________________________________\n",
      "max_pooling2d_1 (MaxPooling2D)  (None, 1, 10, 32)    0           conv2d_1[0][0]                   \n",
      "__________________________________________________________________________________________________\n",
      "dropout_1 (Dropout)             (None, 1024)         0           fc1[0][0]                        \n",
      "__________________________________________________________________________________________________\n",
      "flatten (Flatten)               (None, 320)          0           max_pooling2d_1[0][0]            \n",
      "__________________________________________________________________________________________________\n",
      "fc2 (Dense)                     (None, 1024)         1049600     dropout_1[0][0]                  \n",
      "__________________________________________________________________________________________________\n",
      "dense (Dense)                   (None, 256)          82176       flatten[0][0]                    \n",
      "__________________________________________________________________________________________________\n",
      "dropout_2 (Dropout)             (None, 1024)         0           fc2[0][0]                        \n",
      "__________________________________________________________________________________________________\n",
      "concatenate (Concatenate)       (None, 1280)         0           dense[0][0]                      \n",
      "                                                                 dropout_2[0][0]                  \n",
      "__________________________________________________________________________________________________\n",
      "combined_fc (Dense)             (None, 128)          163968      concatenate[0][0]                \n",
      "__________________________________________________________________________________________________\n",
      "dense_1 (Dense)                 (None, 7)            903         combined_fc[0][0]                \n",
      "==================================================================================================\n",
      "Total params: 12,733,639\n",
      "Trainable params: 12,733,639\n",
      "Non-trainable params: 0\n",
      "__________________________________________________________________________________________________\n"
     ]
    }
   ],
   "source": [
    "combined_model.summary()"
   ]
  },
  {
   "cell_type": "code",
   "execution_count": 11,
   "metadata": {},
   "outputs": [],
   "source": [
    "model_path = 'C:/Users/macro/Desktop/UCLA Class/ECE 209AS ML/TimeAwareness/Baseline Models/imu_video_combined_model_shift_checkpoint'\n",
    "\n",
    "from keras.callbacks import ReduceLROnPlateau\n",
    "from keras.callbacks import Callback\n",
    "from keras.callbacks import ModelCheckpoint\n",
    "from keras.callbacks import EarlyStopping\n",
    "\n",
    "checkpointer = ModelCheckpoint(filepath=model_path, verbose=1,monitor='val_accuracy' ,save_best_only=True, save_weights_only=False)\n",
    "earlystopper = EarlyStopping(monitor='val_accuracy',patience=5)"
   ]
  },
  {
   "cell_type": "code",
   "execution_count": 12,
   "metadata": {
    "scrolled": true
   },
   "outputs": [
    {
     "data": {
      "application/vnd.jupyter.widget-view+json": {
       "model_id": "b6e28f74d3bf4d64ae24915f3f15302b",
       "version_major": 2,
       "version_minor": 0
      },
      "text/plain": [
       "0epoch [00:00, ?epoch/s]"
      ]
     },
     "metadata": {},
     "output_type": "display_data"
    },
    {
     "data": {
      "application/vnd.jupyter.widget-view+json": {
       "model_id": "76f1760ebcb443599eebd7c6e4ed9fc8",
       "version_major": 2,
       "version_minor": 0
      },
      "text/plain": [
       "  0%|          | 0.00/468 [00:00<?, ?batch/s]"
      ]
     },
     "metadata": {},
     "output_type": "display_data"
    },
    {
     "name": "stdout",
     "output_type": "stream",
     "text": [
      "WARNING:tensorflow:Callbacks method `on_train_batch_end` is slow compared to the batch time (batch time: 0.2015s vs `on_train_batch_end` time: 0.3448s). Check your callbacks.\n",
      "\n",
      "Epoch 00001: val_accuracy improved from -inf to 0.91607, saving model to C:/Users/macro/Desktop/UCLA Class/ECE 209AS ML/TimeAwareness/Baseline Models\\imu_video_combined_model_shift_checkpoint\n",
      "WARNING:tensorflow:From E:\\Anaconda\\envs\\GPUEnv\\lib\\site-packages\\tensorflow\\python\\training\\tracking\\tracking.py:111: Model.state_updates (from tensorflow.python.keras.engine.training) is deprecated and will be removed in a future version.\n",
      "Instructions for updating:\n",
      "This property should not be used in TensorFlow 2.0, as updates are applied automatically.\n",
      "WARNING:tensorflow:From E:\\Anaconda\\envs\\GPUEnv\\lib\\site-packages\\tensorflow\\python\\training\\tracking\\tracking.py:111: Layer.updates (from tensorflow.python.keras.engine.base_layer) is deprecated and will be removed in a future version.\n",
      "Instructions for updating:\n",
      "This property should not be used in TensorFlow 2.0, as updates are applied automatically.\n",
      "INFO:tensorflow:Assets written to: C:/Users/macro/Desktop/UCLA Class/ECE 209AS ML/TimeAwareness/Baseline Models\\imu_video_combined_model_shift_checkpoint\\assets\n"
     ]
    },
    {
     "data": {
      "application/vnd.jupyter.widget-view+json": {
       "model_id": "80431e1045dc4f0e8f96a9c74404f437",
       "version_major": 2,
       "version_minor": 0
      },
      "text/plain": [
       "  0%|          | 0.00/468 [00:00<?, ?batch/s]"
      ]
     },
     "metadata": {},
     "output_type": "display_data"
    },
    {
     "name": "stdout",
     "output_type": "stream",
     "text": [
      "\n",
      "Epoch 00002: val_accuracy improved from 0.91607 to 0.92947, saving model to C:/Users/macro/Desktop/UCLA Class/ECE 209AS ML/TimeAwareness/Baseline Models\\imu_video_combined_model_shift_checkpoint\n",
      "INFO:tensorflow:Assets written to: C:/Users/macro/Desktop/UCLA Class/ECE 209AS ML/TimeAwareness/Baseline Models\\imu_video_combined_model_shift_checkpoint\\assets\n"
     ]
    },
    {
     "data": {
      "application/vnd.jupyter.widget-view+json": {
       "model_id": "13306b92671140058d0076cc91b0a05e",
       "version_major": 2,
       "version_minor": 0
      },
      "text/plain": [
       "  0%|          | 0.00/468 [00:00<?, ?batch/s]"
      ]
     },
     "metadata": {},
     "output_type": "display_data"
    },
    {
     "name": "stdout",
     "output_type": "stream",
     "text": [
      "\n",
      "Epoch 00003: val_accuracy improved from 0.92947 to 0.94438, saving model to C:/Users/macro/Desktop/UCLA Class/ECE 209AS ML/TimeAwareness/Baseline Models\\imu_video_combined_model_shift_checkpoint\n",
      "INFO:tensorflow:Assets written to: C:/Users/macro/Desktop/UCLA Class/ECE 209AS ML/TimeAwareness/Baseline Models\\imu_video_combined_model_shift_checkpoint\\assets\n"
     ]
    },
    {
     "data": {
      "application/vnd.jupyter.widget-view+json": {
       "model_id": "d47dae06cac04993a0bfaa410c27fdae",
       "version_major": 2,
       "version_minor": 0
      },
      "text/plain": [
       "  0%|          | 0.00/468 [00:00<?, ?batch/s]"
      ]
     },
     "metadata": {},
     "output_type": "display_data"
    },
    {
     "name": "stdout",
     "output_type": "stream",
     "text": [
      "\n",
      "Epoch 00004: val_accuracy improved from 0.94438 to 0.95928, saving model to C:/Users/macro/Desktop/UCLA Class/ECE 209AS ML/TimeAwareness/Baseline Models\\imu_video_combined_model_shift_checkpoint\n",
      "INFO:tensorflow:Assets written to: C:/Users/macro/Desktop/UCLA Class/ECE 209AS ML/TimeAwareness/Baseline Models\\imu_video_combined_model_shift_checkpoint\\assets\n"
     ]
    },
    {
     "data": {
      "application/vnd.jupyter.widget-view+json": {
       "model_id": "711ddcc8c4ea4defa92087540030fb34",
       "version_major": 2,
       "version_minor": 0
      },
      "text/plain": [
       "  0%|          | 0.00/468 [00:00<?, ?batch/s]"
      ]
     },
     "metadata": {},
     "output_type": "display_data"
    },
    {
     "name": "stdout",
     "output_type": "stream",
     "text": [
      "\n",
      "Epoch 00005: val_accuracy improved from 0.95928 to 0.96759, saving model to C:/Users/macro/Desktop/UCLA Class/ECE 209AS ML/TimeAwareness/Baseline Models\\imu_video_combined_model_shift_checkpoint\n",
      "INFO:tensorflow:Assets written to: C:/Users/macro/Desktop/UCLA Class/ECE 209AS ML/TimeAwareness/Baseline Models\\imu_video_combined_model_shift_checkpoint\\assets\n"
     ]
    },
    {
     "data": {
      "application/vnd.jupyter.widget-view+json": {
       "model_id": "1de969e808ab45f78395703f88e3c1b0",
       "version_major": 2,
       "version_minor": 0
      },
      "text/plain": [
       "  0%|          | 0.00/468 [00:00<?, ?batch/s]"
      ]
     },
     "metadata": {},
     "output_type": "display_data"
    },
    {
     "name": "stdout",
     "output_type": "stream",
     "text": [
      "\n",
      "Epoch 00006: val_accuracy did not improve from 0.96759\n"
     ]
    },
    {
     "data": {
      "application/vnd.jupyter.widget-view+json": {
       "model_id": "d88b63a5342e499894909bc8fb9fc3da",
       "version_major": 2,
       "version_minor": 0
      },
      "text/plain": [
       "  0%|          | 0.00/468 [00:00<?, ?batch/s]"
      ]
     },
     "metadata": {},
     "output_type": "display_data"
    },
    {
     "name": "stdout",
     "output_type": "stream",
     "text": [
      "\n",
      "Epoch 00007: val_accuracy improved from 0.96759 to 0.97159, saving model to C:/Users/macro/Desktop/UCLA Class/ECE 209AS ML/TimeAwareness/Baseline Models\\imu_video_combined_model_shift_checkpoint\n",
      "INFO:tensorflow:Assets written to: C:/Users/macro/Desktop/UCLA Class/ECE 209AS ML/TimeAwareness/Baseline Models\\imu_video_combined_model_shift_checkpoint\\assets\n"
     ]
    },
    {
     "data": {
      "application/vnd.jupyter.widget-view+json": {
       "model_id": "94f8a85df88b40479d7178cfbf015bee",
       "version_major": 2,
       "version_minor": 0
      },
      "text/plain": [
       "  0%|          | 0.00/468 [00:00<?, ?batch/s]"
      ]
     },
     "metadata": {},
     "output_type": "display_data"
    },
    {
     "name": "stdout",
     "output_type": "stream",
     "text": [
      "\n",
      "Epoch 00008: val_accuracy improved from 0.97159 to 0.97959, saving model to C:/Users/macro/Desktop/UCLA Class/ECE 209AS ML/TimeAwareness/Baseline Models\\imu_video_combined_model_shift_checkpoint\n",
      "INFO:tensorflow:Assets written to: C:/Users/macro/Desktop/UCLA Class/ECE 209AS ML/TimeAwareness/Baseline Models\\imu_video_combined_model_shift_checkpoint\\assets\n"
     ]
    },
    {
     "data": {
      "application/vnd.jupyter.widget-view+json": {
       "model_id": "34e653cd1f9945fd91c393b497e98006",
       "version_major": 2,
       "version_minor": 0
      },
      "text/plain": [
       "  0%|          | 0.00/468 [00:00<?, ?batch/s]"
      ]
     },
     "metadata": {},
     "output_type": "display_data"
    },
    {
     "name": "stdout",
     "output_type": "stream",
     "text": [
      "\n",
      "Epoch 00009: val_accuracy did not improve from 0.97959\n"
     ]
    },
    {
     "data": {
      "application/vnd.jupyter.widget-view+json": {
       "model_id": "2b05c4a971b244eb8b78c9774dde0cf1",
       "version_major": 2,
       "version_minor": 0
      },
      "text/plain": [
       "  0%|          | 0.00/468 [00:00<?, ?batch/s]"
      ]
     },
     "metadata": {},
     "output_type": "display_data"
    },
    {
     "name": "stdout",
     "output_type": "stream",
     "text": [
      "\n",
      "Epoch 00010: val_accuracy did not improve from 0.97959\n"
     ]
    },
    {
     "data": {
      "application/vnd.jupyter.widget-view+json": {
       "model_id": "279ca7295cb7491ea3efc22fd3a747f3",
       "version_major": 2,
       "version_minor": 0
      },
      "text/plain": [
       "  0%|          | 0.00/468 [00:00<?, ?batch/s]"
      ]
     },
     "metadata": {},
     "output_type": "display_data"
    },
    {
     "name": "stdout",
     "output_type": "stream",
     "text": [
      "\n",
      "Epoch 00011: val_accuracy did not improve from 0.97959\n"
     ]
    },
    {
     "data": {
      "application/vnd.jupyter.widget-view+json": {
       "model_id": "2c6fb756d20742028e1324e655ed4585",
       "version_major": 2,
       "version_minor": 0
      },
      "text/plain": [
       "  0%|          | 0.00/468 [00:00<?, ?batch/s]"
      ]
     },
     "metadata": {},
     "output_type": "display_data"
    },
    {
     "name": "stdout",
     "output_type": "stream",
     "text": [
      "\n",
      "Epoch 00012: val_accuracy did not improve from 0.97959\n"
     ]
    },
    {
     "data": {
      "application/vnd.jupyter.widget-view+json": {
       "model_id": "57f80d2e942d4b60ae02e19ff8401d9e",
       "version_major": 2,
       "version_minor": 0
      },
      "text/plain": [
       "  0%|          | 0.00/468 [00:00<?, ?batch/s]"
      ]
     },
     "metadata": {},
     "output_type": "display_data"
    },
    {
     "name": "stdout",
     "output_type": "stream",
     "text": [
      "\n",
      "Epoch 00013: val_accuracy did not improve from 0.97959\n",
      "---Time 3608.5652606487274 seconds ---\n"
     ]
    }
   ],
   "source": [
    "batch_size = 64\n",
    "epochs = 100\n",
    "from keras import optimizers\n",
    "from keras.optimizers import Adam\n",
    "\n",
    "adam = optimizers.Adam(lr=0.001, beta_1=0.9, beta_2=0.999, epsilon=None, decay=0.0, amsgrad=False)\n",
    "combined_model.compile(loss=keras.losses.categorical_crossentropy,\n",
    "              optimizer= adam,\n",
    "              metrics=['accuracy'])\n",
    "\n",
    "import time\n",
    "start_time = time.time()\n",
    "\n",
    "learning_hist = combined_model.fit([Features_imu,Features_video], Labels,\n",
    "                    verbose=0,\n",
    "                    epochs=epochs,\n",
    "                    shuffle=True,\n",
    "                    batch_size=batch_size,\n",
    "                    callbacks=[checkpointer,earlystopper,TqdmCallback(verbose=2)],\n",
    "                    validation_data=([Features_imu2,Features_video2], Labels2))\n",
    "\n",
    "end_time = time.time()\n",
    "\n",
    "print(\"---Time %s seconds ---\" % (end_time - start_time))"
   ]
  },
  {
   "cell_type": "markdown",
   "metadata": {},
   "source": [
    "# Accuracies"
   ]
  },
  {
   "cell_type": "code",
   "execution_count": 13,
   "metadata": {},
   "outputs": [],
   "source": [
    "from keras.models import load_model\n",
    "\n",
    "model_path2 = 'C:/Users/macro/Desktop/UCLA Class/ECE 209AS ML/TimeAwareness/Baseline Models/imu_video_combined_model_checkpoint'\n",
    "\n",
    "model = load_model(model_path)\n",
    "model2 = load_model(model_path2)"
   ]
  },
  {
   "cell_type": "code",
   "execution_count": 14,
   "metadata": {},
   "outputs": [
    {
     "name": "stdout",
     "output_type": "stream",
     "text": [
      "936/936 [==============================] - 101s 108ms/step - loss: 0.0175 - accuracy: 0.9939\n",
      "936/936 [==============================] - 101s 108ms/step - loss: 2.1396 - accuracy: 0.7341\n"
     ]
    },
    {
     "data": {
      "text/plain": [
       "[2.139587163925171, 0.7340773940086365]"
      ]
     },
     "execution_count": 14,
     "metadata": {},
     "output_type": "execute_result"
    }
   ],
   "source": [
    "#Train Accuracy\n",
    "model.evaluate([Features_imu,Features_video],Labels)\n",
    "model2.evaluate([Features_imu,Features_video],Labels)"
   ]
  },
  {
   "cell_type": "code",
   "execution_count": 15,
   "metadata": {
    "scrolled": true
   },
   "outputs": [
    {
     "name": "stdout",
     "output_type": "stream",
     "text": [
      "313/313 [==============================] - 34s 108ms/step - loss: 0.0701 - accuracy: 0.9796\n",
      "313/313 [==============================] - 34s 108ms/step - loss: 2.2877 - accuracy: 0.7097\n"
     ]
    },
    {
     "data": {
      "text/plain": [
       "[2.2877140045166016, 0.709683895111084]"
      ]
     },
     "execution_count": 15,
     "metadata": {},
     "output_type": "execute_result"
    }
   ],
   "source": [
    "## Valid Accuracy\n",
    "model.evaluate([Features_imu2,Features_video2],Labels2)\n",
    "model2.evaluate([Features_imu2,Features_video2],Labels2)"
   ]
  },
  {
   "cell_type": "code",
   "execution_count": 16,
   "metadata": {},
   "outputs": [
    {
     "name": "stdout",
     "output_type": "stream",
     "text": [
      "44/44 [==============================] - 5s 105ms/step - loss: 0.3016 - accuracy: 0.9216\n",
      "44/44 [==============================] - 5s 104ms/step - loss: 0.2310 - accuracy: 0.9528\n"
     ]
    },
    {
     "data": {
      "text/plain": [
       "[0.23102375864982605, 0.9527959227561951]"
      ]
     },
     "execution_count": 16,
     "metadata": {},
     "output_type": "execute_result"
    }
   ],
   "source": [
    "## Test Accuracy\n",
    "model.evaluate([Features_imu3,Features_video3],Labels3)\n",
    "model2.evaluate([Features_imu3,Features_video3],Labels3)"
   ]
  },
  {
   "cell_type": "markdown",
   "metadata": {},
   "source": [
    "# Plotting"
   ]
  },
  {
   "cell_type": "code",
   "execution_count": 17,
   "metadata": {},
   "outputs": [
    {
     "data": {
      "image/png": "[encoded data removed]",
      "text/plain": [
       "<Figure size 720x360 with 1 Axes>"
      ]
     },
     "metadata": {
      "needs_background": "light"
     },
     "output_type": "display_data"
    }
   ],
   "source": [
    "from matplotlib import pyplot as plt\n",
    "\n",
    "plt.rcParams.update({'font.size': 18})\n",
    "\n",
    "plt.figure(figsize=(10,5))\n",
    "\n",
    "plt.plot(learning_hist.history['accuracy'])\n",
    "plt.plot(learning_hist.history['val_accuracy'])\n",
    "plt.title('model accuracy')\n",
    "plt.ylabel('accuracy')\n",
    "plt.xlabel('epoch')\n",
    "plt.legend(['train', 'Valid'], loc='upper right')\n",
    "plt.show()"
   ]
  },
  {
   "cell_type": "code",
   "execution_count": 18,
   "metadata": {},
   "outputs": [
    {
     "data": {
      "image/png": "[encoded data removed]",
      "text/plain": [
       "<Figure size 720x360 with 1 Axes>"
      ]
     },
     "metadata": {
      "needs_background": "light"
     },
     "output_type": "display_data"
    }
   ],
   "source": [
    "# summarize history for loss\n",
    "\n",
    "from matplotlib import pyplot as plt\n",
    "\n",
    "plt.figure(figsize=(10,5))\n",
    "plt.rcParams.update({'font.size': 18})\n",
    "\n",
    "\n",
    "plt.plot(learning_hist.history['loss'])\n",
    "plt.plot(learning_hist.history['val_loss'])\n",
    "plt.title('model loss')\n",
    "plt.ylabel('loss')\n",
    "plt.xlabel('epoch')\n",
    "plt.legend(['train', 'Valid'], loc='upper right')\n",
    "plt.show()"
   ]
  },
  {
   "cell_type": "code",
   "execution_count": 19,
   "metadata": {},
   "outputs": [
    {
     "name": "stdout",
     "output_type": "stream",
     "text": [
      "87/87 [==============================] - 9s 106ms/step - loss: 0.3004 - accuracy: 0.9237\n",
      "87/87 [==============================] - 9s 106ms/step - loss: 1.5641 - accuracy: 0.7948\n",
      "87/87 [==============================] - 9s 106ms/step - loss: 0.3007 - accuracy: 0.9234\n",
      "87/87 [==============================] - 9s 106ms/step - loss: 1.5468 - accuracy: 0.7911\n",
      "87/87 [==============================] - 9s 107ms/step - loss: 0.3122 - accuracy: 0.9208\n",
      "87/87 [==============================] - 9s 107ms/step - loss: 1.5746 - accuracy: 0.7868\n",
      "87/87 [==============================] - 9s 103ms/step - loss: 0.3118 - accuracy: 0.9201\n",
      "87/87 [==============================] - 9s 104ms/step - loss: 1.5724 - accuracy: 0.7846\n",
      "87/87 [==============================] - 9s 102ms/step - loss: 0.2922 - accuracy: 0.9223\n",
      "87/87 [==============================] - 9s 102ms/step - loss: 1.6472 - accuracy: 0.7824\n",
      "87/87 [==============================] - 9s 102ms/step - loss: 0.2683 - accuracy: 0.9270\n",
      "87/87 [==============================] - 9s 102ms/step - loss: 1.6403 - accuracy: 0.7792\n",
      "87/87 [==============================] - 9s 102ms/step - loss: 0.2648 - accuracy: 0.9266\n",
      "87/87 [==============================] - 9s 102ms/step - loss: 1.7324 - accuracy: 0.7781\n",
      "87/87 [==============================] - 9s 102ms/step - loss: 0.2563 - accuracy: 0.9299\n",
      "87/87 [==============================] - 9s 102ms/step - loss: 1.7223 - accuracy: 0.7744\n",
      "87/87 [==============================] - 9s 109ms/step - loss: 0.2492 - accuracy: 0.9317\n",
      "87/87 [==============================] - 9s 106ms/step - loss: 1.7499 - accuracy: 0.7773\n",
      "87/87 [==============================] - 9s 106ms/step - loss: 0.2488 - accuracy: 0.9343\n",
      "87/87 [==============================] - 9s 106ms/step - loss: 1.7736 - accuracy: 0.7704\n",
      "87/87 [==============================] - 9s 106ms/step - loss: 0.2447 - accuracy: 0.9353\n",
      "87/87 [==============================] - 9s 106ms/step - loss: 1.7976 - accuracy: 0.7737\n",
      "87/87 [==============================] - 9s 106ms/step - loss: 0.2526 - accuracy: 0.9393\n",
      "87/87 [==============================] - 9s 106ms/step - loss: 1.7568 - accuracy: 0.7821\n",
      "87/87 [==============================] - 9s 106ms/step - loss: 0.2396 - accuracy: 0.9397\n",
      "87/87 [==============================] - 9s 106ms/step - loss: 1.7231 - accuracy: 0.7744\n",
      "87/87 [==============================] - 9s 106ms/step - loss: 0.2342 - accuracy: 0.9379\n",
      "87/87 [==============================] - 9s 106ms/step - loss: 1.6619 - accuracy: 0.7788\n",
      "87/87 [==============================] - 9s 106ms/step - loss: 0.2382 - accuracy: 0.9379\n",
      "87/87 [==============================] - 9s 107ms/step - loss: 1.6782 - accuracy: 0.7741\n",
      "87/87 [==============================] - 9s 106ms/step - loss: 0.2515 - accuracy: 0.9350\n",
      "87/87 [==============================] - 9s 106ms/step - loss: 1.6710 - accuracy: 0.7712\n",
      "87/87 [==============================] - 9s 106ms/step - loss: 0.2461 - accuracy: 0.9357\n",
      "87/87 [==============================] - 9s 106ms/step - loss: 1.7618 - accuracy: 0.7628\n",
      "87/87 [==============================] - 9s 106ms/step - loss: 0.2499 - accuracy: 0.9364\n",
      "87/87 [==============================] - 9s 107ms/step - loss: 1.7604 - accuracy: 0.7693\n",
      "87/87 [==============================] - 10s 114ms/step - loss: 0.2442 - accuracy: 0.9382\n",
      "87/87 [==============================] - 10s 110ms/step - loss: 1.7935 - accuracy: 0.7653\n",
      "87/87 [==============================] - 9s 104ms/step - loss: 0.2373 - accuracy: 0.9408\n",
      "87/87 [==============================] - 10s 115ms/step - loss: 1.7619 - accuracy: 0.7643\n",
      "87/87 [==============================] - 10s 114ms/step - loss: 0.2286 - accuracy: 0.9390\n",
      "87/87 [==============================] - 10s 115ms/step - loss: 1.7940 - accuracy: 0.7650\n",
      "87/87 [==============================] - 10s 115ms/step - loss: 0.2369 - accuracy: 0.9372\n",
      "87/87 [==============================] - 11s 128ms/step - loss: 1.7709 - accuracy: 0.7679\n",
      "87/87 [==============================] - 10s 114ms/step - loss: 0.2465 - accuracy: 0.9353\n",
      "87/87 [==============================] - 10s 115ms/step - loss: 1.8165 - accuracy: 0.7624\n",
      "87/87 [==============================] - 10s 116ms/step - loss: 0.2619 - accuracy: 0.9328\n",
      "87/87 [==============================] - 10s 116ms/step - loss: 1.7234 - accuracy: 0.7675\n",
      "87/87 [==============================] - 10s 115ms/step - loss: 0.2909 - accuracy: 0.9324\n",
      "87/87 [==============================] - 10s 115ms/step - loss: 1.7377 - accuracy: 0.7617\n",
      "87/87 [==============================] - 10s 115ms/step - loss: 0.2904 - accuracy: 0.9303\n",
      "87/87 [==============================] - 10s 116ms/step - loss: 1.7190 - accuracy: 0.7722\n",
      "87/87 [==============================] - 10s 113ms/step - loss: 0.3217 - accuracy: 0.9237\n",
      "87/87 [==============================] - 11s 122ms/step - loss: 1.7511 - accuracy: 0.7668\n",
      "87/87 [==============================] - 11s 125ms/step - loss: 0.3135 - accuracy: 0.9263\n",
      "87/87 [==============================] - 10s 120ms/step - loss: 1.7751 - accuracy: 0.7701\n",
      "87/87 [==============================] - 9s 109ms/step - loss: 0.3219 - accuracy: 0.9237\n",
      "87/87 [==============================] - 9s 108ms/step - loss: 1.7564 - accuracy: 0.7733\n",
      "87/87 [==============================] - 11s 122ms/step - loss: 0.3257 - accuracy: 0.9215\n",
      "87/87 [==============================] - 10s 117ms/step - loss: 1.7765 - accuracy: 0.7777\n",
      "87/87 [==============================] - 10s 112ms/step - loss: 0.3548 - accuracy: 0.9183\n",
      "87/87 [==============================] - 10s 113ms/step - loss: 1.7561 - accuracy: 0.7730\n",
      "87/87 [==============================] - 10s 112ms/step - loss: 0.3551 - accuracy: 0.9179\n",
      "87/87 [==============================] - 10s 112ms/step - loss: 1.7209 - accuracy: 0.7788\n",
      "87/87 [==============================] - 10s 112ms/step - loss: 0.3791 - accuracy: 0.9135\n",
      "87/87 [==============================] - 10s 112ms/step - loss: 1.7126 - accuracy: 0.7726\n",
      "87/87 [==============================] - 10s 112ms/step - loss: 0.3924 - accuracy: 0.9132\n",
      "87/87 [==============================] - 10s 112ms/step - loss: 1.6743 - accuracy: 0.7799\n",
      "87/87 [==============================] - 10s 112ms/step - loss: 0.4064 - accuracy: 0.9077\n",
      "87/87 [==============================] - 10s 113ms/step - loss: 1.6570 - accuracy: 0.7831\n",
      "87/87 [==============================] - 10s 113ms/step - loss: 0.3872 - accuracy: 0.9135\n",
      "87/87 [==============================] - 10s 112ms/step - loss: 1.5665 - accuracy: 0.7871\n",
      "87/87 [==============================] - 10s 112ms/step - loss: 0.3794 - accuracy: 0.9165\n",
      "87/87 [==============================] - 10s 113ms/step - loss: 1.5462 - accuracy: 0.7890\n",
      "87/87 [==============================] - 10s 112ms/step - loss: 0.3620 - accuracy: 0.9197\n",
      "87/87 [==============================] - 10s 113ms/step - loss: 1.5518 - accuracy: 0.7871\n",
      "87/87 [==============================] - 10s 112ms/step - loss: 0.3707 - accuracy: 0.9208\n",
      "87/87 [==============================] - 10s 112ms/step - loss: 1.5248 - accuracy: 0.7959\n"
     ]
    }
   ],
   "source": [
    "accuracy_model = []\n",
    "accuracy_model2 = []\n",
    "\n",
    "for i in range(1,40):\n",
    "    shift_path='E:/augmented_data/'\n",
    "    file='test_data_'+str(i)+'_shift.npz'\n",
    "\n",
    "    shiftLabels,shiftFeatures_imu,shiftFeatures_video = get_shifted_data(file,shift_path)\n",
    "    \n",
    "    shiftLabels = np.concatenate((shiftLabels,Labels3),axis=0)\n",
    "    shiftFeatures_imu = np.concatenate((shiftFeatures_imu,Features_imu3),axis=0)\n",
    "    shiftFeatures_video = np.concatenate((shiftFeatures_video,Features_video3),axis=0)\n",
    "\n",
    "    evaluation1 = model.evaluate([shiftFeatures_imu,shiftFeatures_video],shiftLabels)\n",
    "    accuracy_model.append(evaluation1[1])\n",
    "    \n",
    "    evaluation2 = model2.evaluate([shiftFeatures_imu,shiftFeatures_video],shiftLabels)\n",
    "    accuracy_model2.append(evaluation2[1])"
   ]
  },
  {
   "cell_type": "code",
   "execution_count": 22,
   "metadata": {},
   "outputs": [
    {
     "data": {
      "image/png": "[encoded data removed]",
      "text/plain": [
       "<Figure size 720x360 with 1 Axes>"
      ]
     },
     "metadata": {
      "needs_background": "light"
     },
     "output_type": "display_data"
    }
   ],
   "source": [
    "plt.figure(figsize=(10,5))\n",
    "plt.rcParams.update({'font.size': 18})\n",
    "\n",
    "y = np.arange(len(accuracy_model[:41]))\n",
    "\n",
    "y = y * 50\n",
    "\n",
    "plt.plot(y,(np.array(accuracy_model[:41])*100))\n",
    "plt.plot(y,(np.array(accuracy_model2[:41])*100))\n",
    "\n",
    "#plt.title('Fused Model Accuracy')\n",
    "plt.ylabel('Accuracy')\n",
    "plt.xlabel('Time Synchronization Error (ms)')\n",
    "#plt.legend(['Augmentation 1000ms','No Augmentation'], loc='lower left')\n",
    "plt.show()"
   ]
  },
  {
   "cell_type": "code",
   "execution_count": null,
   "metadata": {},
   "outputs": [],
   "source": []
  }
 ],
 "metadata": {
  "kernelspec": {
   "display_name": "Python 3",
   "language": "python",
   "name": "python3"
  },
  "language_info": {
   "codemirror_mode": {
    "name": "ipython",
    "version": 3
   },
   "file_extension": ".py",
   "mimetype": "text/x-python",
   "name": "python",
   "nbconvert_exporter": "python",
   "pygments_lexer": "ipython3",
   "version": "3.7.9"
  }
 },
 "nbformat": 4,
 "nbformat_minor": 2
}
