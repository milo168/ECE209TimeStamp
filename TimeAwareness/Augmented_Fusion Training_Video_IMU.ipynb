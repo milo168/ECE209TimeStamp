{
 "cells": [
  {
   "cell_type": "markdown",
   "metadata": {},
   "source": [
    "# Fusion of Video and IMU Features\n",
    "## With Time Shifting\n",
    "## Training on Synchronized Video and Shifted IMU Data"
   ]
  },
  {
   "cell_type": "markdown",
   "metadata": {},
   "source": [
    "## Video and IMU data is concatenated at an intermediate layer and then prediction is made"
   ]
  },
  {
   "cell_type": "code",
   "execution_count": 1,
   "metadata": {},
   "outputs": [],
   "source": [
    "import numpy as np\n",
    "import scipy.io\n",
    "\n",
    "# random seed.\n",
    "rand_seed = 1\n",
    "\n",
    "from numpy.random import seed\n",
    "from numpy import random\n",
    "\n",
    "seed(rand_seed)\n",
    "from tqdm.keras import TqdmCallback\n",
    "import tensorflow\n",
    "tensorflow.random.set_seed(rand_seed)\n",
    "\n",
    "import keras\n",
    "from keras.models import Sequential\n",
    "from keras.layers import Conv3D, MaxPooling3D, LSTM, Dense, Dropout, Flatten, Activation, BatchNormalization, GlobalAveragePooling3D, TimeDistributed, ConvLSTM2D\n",
    "from keras.layers.core import Permute, Reshape\n",
    "from keras import backend as K\n"
   ]
  },
  {
   "cell_type": "code",
   "execution_count": 2,
   "metadata": {},
   "outputs": [],
   "source": [
    "def one_hot_encoding(y_data):\n",
    "    Mapping=dict()\n",
    "    sub_dirs=['downstair','upstair','run','jump','walk','handwashing','exercise']\n",
    "\n",
    "    categories=10\n",
    "\n",
    "\n",
    "    count=0\n",
    "    for i in sub_dirs:\n",
    "        Mapping[i]=count\n",
    "        count=count+1\n",
    "\n",
    "    y_features2=[]\n",
    "    for i in range(len(y_data)):\n",
    "        Type=y_data[i]\n",
    "        lab=Mapping[Type]\n",
    "        y_features2.append(lab)\n",
    "\n",
    "    y_features=np.array(y_features2)\n",
    "    y_features=y_features.reshape(y_features.shape[0],1)\n",
    "    from keras.utils import to_categorical\n",
    "    y_features = to_categorical(y_features)\n",
    "\n",
    "    return y_features"
   ]
  },
  {
   "cell_type": "code",
   "execution_count": 3,
   "metadata": {},
   "outputs": [],
   "source": [
    "path='C:/Users/macro/Desktop/UCLA Class/ECE 209AS ML/TimeAwareness/data/'\n",
    "\n",
    "def get_train_and_validate_data(path=path):\n",
    "    Train_data = np.load(path+'Data_train_all.npz')\n",
    "    Labels = Train_data['arr_1']\n",
    "    Features_imu = np.asarray(Train_data['arr_0'],dtype=np.float64)\n",
    "    Features_video = Train_data['arr_3']\n",
    "\n",
    "    Labels = one_hot_encoding(Labels)\n",
    "    \n",
    "    randomize = np.arange(len(Labels))\n",
    "    np.random.shuffle(randomize)\n",
    "    \n",
    "    Labels = Labels[randomize]\n",
    "    Features_imu = Features_imu[randomize]\n",
    "    Features_video = Features_video[randomize]\n",
    "    \n",
    "    Features_imu = Features_imu.reshape(Features_imu.shape[0],1, Features_imu.shape[1], Features_imu.shape[2]) \n",
    "    \n",
    "    new_Labels = np.split(Labels,[Labels.shape[0] - 2000])\n",
    "    new_Features_imu = np.split(Features_imu,[Features_imu.shape[0] - 2000])\n",
    "    new_Features_video = np.split(Features_video,[Features_video.shape[0] - 2000])\n",
    "    \n",
    "    return new_Labels[0][:750],new_Features_imu[0][:750],new_Features_video[0][:750],new_Labels[1],new_Features_imu[1],new_Features_video[1]\n",
    "\n",
    "def get_test_data(path=path):\n",
    "    Train_data = np.load(path+'Data_test_71.pkl',allow_pickle=True)\n",
    "    Labels = Train_data[1]\n",
    "    Features_imu = np.asarray(Train_data[0],dtype=np.float64)\n",
    "    Features_video = Train_data[3]\n",
    "    \n",
    "    Features_imu = Features_imu.reshape(Features_imu.shape[0],1, Features_imu.shape[1], Features_imu.shape[2]) \n",
    "    Labels = one_hot_encoding(Labels)\n",
    "\n",
    "    return Labels,Features_imu,Features_video"
   ]
  },
  {
   "cell_type": "code",
   "execution_count": 4,
   "metadata": {},
   "outputs": [
    {
     "name": "stdout",
     "output_type": "stream",
     "text": [
      "(750, 7) (750, 1, 40, 12) (750, 45, 64, 64, 3)\n",
      "Train Classes distribution:  [107. 134.  96. 115.  78. 111. 109.]\n",
      "(2000, 7) (2000, 1, 40, 12) (2000, 45, 64, 64, 3)\n",
      "Validate Classes distribution:  [298. 390. 203. 315. 215. 289. 290.]\n",
      "(1377, 7) (1377, 1, 40, 12) (1377, 45, 64, 64, 3)\n",
      "Test Classes distribution:  [219. 268. 124. 146. 143. 234. 243.]\n"
     ]
    }
   ],
   "source": [
    "Labels,Features_imu,Features_video,Labels2,Features_imu2,Features_video2 = get_train_and_validate_data()\n",
    "print(Labels.shape,Features_imu.shape,Features_video.shape)\n",
    "print('Train Classes distribution: ',np.sum(Labels, axis = 0))\n",
    "\n",
    "print(Labels2.shape,Features_imu2.shape,Features_video2.shape)\n",
    "print('Validate Classes distribution: ',np.sum(Labels2, axis = 0))\n",
    "\n",
    "Labels3,Features_imu3,Features_video3 = get_test_data()\n",
    "print(Labels3.shape,Features_imu3.shape,Features_video3.shape)\n",
    "print('Test Classes distribution: ',np.sum(Labels3, axis = 0))"
   ]
  },
  {
   "cell_type": "code",
   "execution_count": 5,
   "metadata": {},
   "outputs": [],
   "source": [
    "def get_shifted_data(file,path=path):\n",
    "    Train_data = np.load(path+file)\n",
    "    Labels = Train_data['arr_1']\n",
    "    Features_imu = np.asarray(Train_data['arr_0'],dtype=np.float64)\n",
    "    Features_video = Train_data['arr_3']\n",
    "    \n",
    "    return Labels,Features_imu,Features_video"
   ]
  },
  {
   "cell_type": "code",
   "execution_count": 6,
   "metadata": {},
   "outputs": [
    {
     "name": "stdout",
     "output_type": "stream",
     "text": [
      "(30750, 7) (30750, 1, 40, 12) (30750, 45, 64, 64, 3)\n"
     ]
    }
   ],
   "source": [
    "shift_path='E:/augmented_data/'\n",
    "\n",
    "for i in range(1,41):\n",
    "    file='train_data_'+str(i)+'_shift.npz'\n",
    "\n",
    "    shiftLabels,shiftFeatures_imu,shiftFeatures_video = get_shifted_data(file,shift_path)\n",
    "\n",
    "    Labels = np.concatenate((Labels,shiftLabels),axis=0)\n",
    "    Features_imu = np.concatenate((Features_imu,shiftFeatures_imu),axis=0)\n",
    "    Features_video = np.concatenate((Features_video,shiftFeatures_video),axis=0)\n",
    "\n",
    "print(Labels.shape,Features_imu.shape,Features_video.shape)"
   ]
  },
  {
   "cell_type": "markdown",
   "metadata": {},
   "source": [
    "# Combined Model: Video + IMU"
   ]
  },
  {
   "cell_type": "code",
   "execution_count": 7,
   "metadata": {},
   "outputs": [],
   "source": [
    "def combined_video_imu_model():\n",
    "    num_classes = 7\n",
    "    num_feat_map=32\n",
    "    _, dim, win_len, _, = Features_imu.shape\n",
    "    input_imu = keras.layers.Input(shape=(dim, win_len, 12))\n",
    "\n",
    "    I1 = keras.layers.Conv2D(num_feat_map, kernel_size=(1, 5), activation='relu', padding='same')(input_imu)\n",
    "    I2 = keras.layers.MaxPooling2D(pool_size=(1, 2))(I1)\n",
    "\n",
    "    I3 = keras.layers.Conv2D(num_feat_map, kernel_size=(1, 5), activation='relu', padding='same')(I2)\n",
    "    I4 = keras.layers.MaxPooling2D(pool_size=(1, 2))(I3)\n",
    "    I5 = keras.layers.Flatten()(I4)\n",
    "\n",
    "    I6 = keras.layers.Dense(256, activation='relu')(I5)\n",
    "    I7 = keras.layers.Dropout(0.3)(I6)\n",
    "\n",
    "    input_video = keras.layers.Input(shape=(45, 64, 64, 3))\n",
    "    V1 = keras.layers.Conv3D(32, kernel_size=(3,3,3), strides=(1,1,1), activation='relu', padding='same', name='conv1', input_shape=(45, 64, 64, 3))(input_video)\n",
    "    V2 = keras.layers.MaxPooling3D(pool_size=(1,2,2), strides=(1,2,2), padding='valid', name='pool1')(V1)\n",
    "\n",
    "    V3 = keras.layers.Conv3D(64, kernel_size=(3,3,3), strides=(1,1,1), activation='relu', padding='same', name='conv2', input_shape=(45, 64, 64, 3))(V2)\n",
    "    V4 = keras.layers.MaxPooling3D(pool_size=(2,2,2), strides=(2,2,2), padding='valid', name='pool2')(V3)\n",
    "\n",
    "    V5 = keras.layers.Conv3D(64, kernel_size=(3,3,3), strides=(1,1,1), activation='relu', padding='same', name='conv3a')(V4)\n",
    "    V6 = keras.layers.Conv3D(64, kernel_size=(3,3,3), strides=(1,1,1), activation='relu', padding='same', name='conv3b')(V5)\n",
    "    V7 = keras.layers.MaxPooling3D(pool_size=(2,2,2), strides=(2,2,2), padding='valid', name='pool3')(V6)\n",
    "\n",
    "    V8 = keras.layers.Conv3D(128, kernel_size=(3,3,3), strides=(1,1,1), activation='relu', padding='same', name='conv4a')(V7)\n",
    "    V9 = keras.layers.Conv3D(128, kernel_size=(3,3,3), strides=(1,1,1), activation='relu', padding='same', name='conv4b')(V8)\n",
    "    V10 = keras.layers.MaxPooling3D(pool_size=(2,2,2), strides=(2,2,2), padding='valid', name='pool4')(V9)\n",
    "\n",
    "    V11 = keras.layers.Flatten()(V10)\n",
    "    V12 = keras.layers.Dense(1024, activation='relu', name='fc1')(V11)\n",
    "    V13 = keras.layers.Dropout(0.5)(V12)\n",
    "\n",
    "    V14 = keras.layers.Dense(1024, activation='relu', name='fc2')(V13)\n",
    "    V15 = keras.layers.Dropout(0.5)(V14)\n",
    "\n",
    "\n",
    "    # equivalent to added = keras.layers.add([x1, x2])\n",
    "    C1 = keras.layers.concatenate([I6, V15], axis=-1)\n",
    "    C2 = keras.layers.Dense(128, activation='relu', name='combined_fc')(C1)\n",
    "\n",
    "    out = keras.layers.Dense(num_classes, activation='softmax')(C2)\n",
    "\n",
    "    model = keras.models.Model(inputs=[input_imu, input_video], outputs=out)\n",
    "    \n",
    "    return model\n"
   ]
  },
  {
   "cell_type": "code",
   "execution_count": 8,
   "metadata": {},
   "outputs": [],
   "source": [
    "combined_model = combined_video_imu_model()"
   ]
  },
  {
   "cell_type": "code",
   "execution_count": 9,
   "metadata": {},
   "outputs": [
    {
     "name": "stdout",
     "output_type": "stream",
     "text": [
      "Model: \"functional_1\"\n",
      "__________________________________________________________________________________________________\n",
      "Layer (type)                    Output Shape         Param #     Connected to                     \n",
      "==================================================================================================\n",
      "input_2 (InputLayer)            [(None, 45, 64, 64,  0                                            \n",
      "__________________________________________________________________________________________________\n",
      "conv1 (Conv3D)                  (None, 45, 64, 64, 3 2624        input_2[0][0]                    \n",
      "__________________________________________________________________________________________________\n",
      "pool1 (MaxPooling3D)            (None, 45, 32, 32, 3 0           conv1[0][0]                      \n",
      "__________________________________________________________________________________________________\n",
      "conv2 (Conv3D)                  (None, 45, 32, 32, 6 55360       pool1[0][0]                      \n",
      "__________________________________________________________________________________________________\n",
      "pool2 (MaxPooling3D)            (None, 22, 16, 16, 6 0           conv2[0][0]                      \n",
      "__________________________________________________________________________________________________\n",
      "conv3a (Conv3D)                 (None, 22, 16, 16, 6 110656      pool2[0][0]                      \n",
      "__________________________________________________________________________________________________\n",
      "conv3b (Conv3D)                 (None, 22, 16, 16, 6 110656      conv3a[0][0]                     \n",
      "__________________________________________________________________________________________________\n",
      "pool3 (MaxPooling3D)            (None, 11, 8, 8, 64) 0           conv3b[0][0]                     \n",
      "__________________________________________________________________________________________________\n",
      "conv4a (Conv3D)                 (None, 11, 8, 8, 128 221312      pool3[0][0]                      \n",
      "__________________________________________________________________________________________________\n",
      "input_1 (InputLayer)            [(None, 1, 40, 12)]  0                                            \n",
      "__________________________________________________________________________________________________\n",
      "conv4b (Conv3D)                 (None, 11, 8, 8, 128 442496      conv4a[0][0]                     \n",
      "__________________________________________________________________________________________________\n",
      "conv2d (Conv2D)                 (None, 1, 40, 32)    1952        input_1[0][0]                    \n",
      "__________________________________________________________________________________________________\n",
      "pool4 (MaxPooling3D)            (None, 5, 4, 4, 128) 0           conv4b[0][0]                     \n",
      "__________________________________________________________________________________________________\n",
      "max_pooling2d (MaxPooling2D)    (None, 1, 20, 32)    0           conv2d[0][0]                     \n",
      "__________________________________________________________________________________________________\n",
      "flatten_1 (Flatten)             (None, 10240)        0           pool4[0][0]                      \n",
      "__________________________________________________________________________________________________\n",
      "conv2d_1 (Conv2D)               (None, 1, 20, 32)    5152        max_pooling2d[0][0]              \n",
      "__________________________________________________________________________________________________\n",
      "fc1 (Dense)                     (None, 1024)         10486784    flatten_1[0][0]                  \n",
      "__________________________________________________________________________________________________\n",
      "max_pooling2d_1 (MaxPooling2D)  (None, 1, 10, 32)    0           conv2d_1[0][0]                   \n",
      "__________________________________________________________________________________________________\n",
      "dropout_1 (Dropout)             (None, 1024)         0           fc1[0][0]                        \n",
      "__________________________________________________________________________________________________\n",
      "flatten (Flatten)               (None, 320)          0           max_pooling2d_1[0][0]            \n",
      "__________________________________________________________________________________________________\n",
      "fc2 (Dense)                     (None, 1024)         1049600     dropout_1[0][0]                  \n",
      "__________________________________________________________________________________________________\n",
      "dense (Dense)                   (None, 256)          82176       flatten[0][0]                    \n",
      "__________________________________________________________________________________________________\n",
      "dropout_2 (Dropout)             (None, 1024)         0           fc2[0][0]                        \n",
      "__________________________________________________________________________________________________\n",
      "concatenate (Concatenate)       (None, 1280)         0           dense[0][0]                      \n",
      "                                                                 dropout_2[0][0]                  \n",
      "__________________________________________________________________________________________________\n",
      "combined_fc (Dense)             (None, 128)          163968      concatenate[0][0]                \n",
      "__________________________________________________________________________________________________\n",
      "dense_1 (Dense)                 (None, 7)            903         combined_fc[0][0]                \n",
      "==================================================================================================\n",
      "Total params: 12,733,639\n",
      "Trainable params: 12,733,639\n",
      "Non-trainable params: 0\n",
      "__________________________________________________________________________________________________\n"
     ]
    }
   ],
   "source": [
    "combined_model.summary()"
   ]
  },
  {
   "cell_type": "code",
   "execution_count": 10,
   "metadata": {},
   "outputs": [],
   "source": [
    "model_path = 'C:/Users/macro/Desktop/UCLA Class/ECE 209AS ML/TimeAwareness/Baseline Models/imu_video_combined_model_shift_checkpoint'\n",
    "\n",
    "from keras.callbacks import ReduceLROnPlateau\n",
    "from keras.callbacks import Callback\n",
    "from keras.callbacks import ModelCheckpoint\n",
    "from keras.callbacks import EarlyStopping\n",
    "\n",
    "checkpointer = ModelCheckpoint(filepath=model_path, verbose=1,monitor='val_accuracy' ,save_best_only=True, save_weights_only=False)\n",
    "earlystopper = EarlyStopping(monitor='val_accuracy',patience=5)"
   ]
  },
  {
   "cell_type": "code",
   "execution_count": 11,
   "metadata": {
    "scrolled": true
   },
   "outputs": [
    {
     "data": {
      "application/vnd.jupyter.widget-view+json": {
       "model_id": "41cbd2eb61d44364aa60fab86f53d6ab",
       "version_major": 2,
       "version_minor": 0
      },
      "text/plain": [
       "0epoch [00:00, ?epoch/s]"
      ]
     },
     "metadata": {},
     "output_type": "display_data"
    },
    {
     "data": {
      "application/vnd.jupyter.widget-view+json": {
       "model_id": "f9ea8edc65d84cc2bbda750f2f60a405",
       "version_major": 2,
       "version_minor": 0
      },
      "text/plain": [
       "  0%|          | 0.00/481 [00:00<?, ?batch/s]"
      ]
     },
     "metadata": {},
     "output_type": "display_data"
    },
    {
     "name": "stdout",
     "output_type": "stream",
     "text": [
      "WARNING:tensorflow:Callbacks method `on_train_batch_end` is slow compared to the batch time (batch time: 0.1822s vs `on_train_batch_end` time: 0.2933s). Check your callbacks.\n",
      "\n",
      "Epoch 00001: val_accuracy improved from -inf to 0.97350, saving model to C:/Users/macro/Desktop/UCLA Class/ECE 209AS ML/TimeAwareness/Baseline Models\\imu_video_combined_model_shift_checkpoint\n",
      "WARNING:tensorflow:From E:\\Anaconda\\envs\\GPUEnv\\lib\\site-packages\\tensorflow\\python\\training\\tracking\\tracking.py:111: Model.state_updates (from tensorflow.python.keras.engine.training) is deprecated and will be removed in a future version.\n",
      "Instructions for updating:\n",
      "This property should not be used in TensorFlow 2.0, as updates are applied automatically.\n",
      "WARNING:tensorflow:From E:\\Anaconda\\envs\\GPUEnv\\lib\\site-packages\\tensorflow\\python\\training\\tracking\\tracking.py:111: Layer.updates (from tensorflow.python.keras.engine.base_layer) is deprecated and will be removed in a future version.\n",
      "Instructions for updating:\n",
      "This property should not be used in TensorFlow 2.0, as updates are applied automatically.\n",
      "INFO:tensorflow:Assets written to: C:/Users/macro/Desktop/UCLA Class/ECE 209AS ML/TimeAwareness/Baseline Models\\imu_video_combined_model_shift_checkpoint\\assets\n"
     ]
    },
    {
     "data": {
      "application/vnd.jupyter.widget-view+json": {
       "model_id": "8e8a76a2a1b74943bf228a2a98413496",
       "version_major": 2,
       "version_minor": 0
      },
      "text/plain": [
       "  0%|          | 0.00/481 [00:00<?, ?batch/s]"
      ]
     },
     "metadata": {},
     "output_type": "display_data"
    },
    {
     "name": "stdout",
     "output_type": "stream",
     "text": [
      "\n",
      "Epoch 00002: val_accuracy improved from 0.97350 to 0.97850, saving model to C:/Users/macro/Desktop/UCLA Class/ECE 209AS ML/TimeAwareness/Baseline Models\\imu_video_combined_model_shift_checkpoint\n",
      "INFO:tensorflow:Assets written to: C:/Users/macro/Desktop/UCLA Class/ECE 209AS ML/TimeAwareness/Baseline Models\\imu_video_combined_model_shift_checkpoint\\assets\n"
     ]
    },
    {
     "data": {
      "application/vnd.jupyter.widget-view+json": {
       "model_id": "6335337d546e4e8e968b1a6b1e6e6c96",
       "version_major": 2,
       "version_minor": 0
      },
      "text/plain": [
       "  0%|          | 0.00/481 [00:00<?, ?batch/s]"
      ]
     },
     "metadata": {},
     "output_type": "display_data"
    },
    {
     "name": "stdout",
     "output_type": "stream",
     "text": [
      "\n",
      "Epoch 00003: val_accuracy improved from 0.97850 to 0.99300, saving model to C:/Users/macro/Desktop/UCLA Class/ECE 209AS ML/TimeAwareness/Baseline Models\\imu_video_combined_model_shift_checkpoint\n",
      "INFO:tensorflow:Assets written to: C:/Users/macro/Desktop/UCLA Class/ECE 209AS ML/TimeAwareness/Baseline Models\\imu_video_combined_model_shift_checkpoint\\assets\n"
     ]
    },
    {
     "data": {
      "application/vnd.jupyter.widget-view+json": {
       "model_id": "a4653ed7603e489dbc8c599061f51336",
       "version_major": 2,
       "version_minor": 0
      },
      "text/plain": [
       "  0%|          | 0.00/481 [00:00<?, ?batch/s]"
      ]
     },
     "metadata": {},
     "output_type": "display_data"
    },
    {
     "name": "stdout",
     "output_type": "stream",
     "text": [
      "\n",
      "Epoch 00004: val_accuracy improved from 0.99300 to 0.99350, saving model to C:/Users/macro/Desktop/UCLA Class/ECE 209AS ML/TimeAwareness/Baseline Models\\imu_video_combined_model_shift_checkpoint\n",
      "INFO:tensorflow:Assets written to: C:/Users/macro/Desktop/UCLA Class/ECE 209AS ML/TimeAwareness/Baseline Models\\imu_video_combined_model_shift_checkpoint\\assets\n"
     ]
    },
    {
     "data": {
      "application/vnd.jupyter.widget-view+json": {
       "model_id": "6d5dfe3c576d425d8caa6899d21e08b0",
       "version_major": 2,
       "version_minor": 0
      },
      "text/plain": [
       "  0%|          | 0.00/481 [00:00<?, ?batch/s]"
      ]
     },
     "metadata": {},
     "output_type": "display_data"
    },
    {
     "name": "stdout",
     "output_type": "stream",
     "text": [
      "\n",
      "Epoch 00005: val_accuracy improved from 0.99350 to 0.99650, saving model to C:/Users/macro/Desktop/UCLA Class/ECE 209AS ML/TimeAwareness/Baseline Models\\imu_video_combined_model_shift_checkpoint\n",
      "INFO:tensorflow:Assets written to: C:/Users/macro/Desktop/UCLA Class/ECE 209AS ML/TimeAwareness/Baseline Models\\imu_video_combined_model_shift_checkpoint\\assets\n"
     ]
    },
    {
     "data": {
      "application/vnd.jupyter.widget-view+json": {
       "model_id": "01fcfeb47afe4bac9c1d33b777341222",
       "version_major": 2,
       "version_minor": 0
      },
      "text/plain": [
       "  0%|          | 0.00/481 [00:00<?, ?batch/s]"
      ]
     },
     "metadata": {},
     "output_type": "display_data"
    },
    {
     "name": "stdout",
     "output_type": "stream",
     "text": [
      "\n",
      "Epoch 00006: val_accuracy did not improve from 0.99650\n"
     ]
    },
    {
     "data": {
      "application/vnd.jupyter.widget-view+json": {
       "model_id": "168f567387574773b991067bdf1695ba",
       "version_major": 2,
       "version_minor": 0
      },
      "text/plain": [
       "  0%|          | 0.00/481 [00:00<?, ?batch/s]"
      ]
     },
     "metadata": {},
     "output_type": "display_data"
    },
    {
     "name": "stdout",
     "output_type": "stream",
     "text": [
      "\n",
      "Epoch 00007: val_accuracy did not improve from 0.99650\n"
     ]
    },
    {
     "data": {
      "application/vnd.jupyter.widget-view+json": {
       "model_id": "09054cd724bc44338ac0610cdba75317",
       "version_major": 2,
       "version_minor": 0
      },
      "text/plain": [
       "  0%|          | 0.00/481 [00:00<?, ?batch/s]"
      ]
     },
     "metadata": {},
     "output_type": "display_data"
    },
    {
     "name": "stdout",
     "output_type": "stream",
     "text": [
      "\n",
      "Epoch 00008: val_accuracy improved from 0.99650 to 0.99850, saving model to C:/Users/macro/Desktop/UCLA Class/ECE 209AS ML/TimeAwareness/Baseline Models\\imu_video_combined_model_shift_checkpoint\n",
      "INFO:tensorflow:Assets written to: C:/Users/macro/Desktop/UCLA Class/ECE 209AS ML/TimeAwareness/Baseline Models\\imu_video_combined_model_shift_checkpoint\\assets\n"
     ]
    },
    {
     "data": {
      "application/vnd.jupyter.widget-view+json": {
       "model_id": "e74212d23c9946e0afd5d5de0e762c15",
       "version_major": 2,
       "version_minor": 0
      },
      "text/plain": [
       "  0%|          | 0.00/481 [00:00<?, ?batch/s]"
      ]
     },
     "metadata": {},
     "output_type": "display_data"
    },
    {
     "name": "stdout",
     "output_type": "stream",
     "text": [
      "\n",
      "Epoch 00009: val_accuracy did not improve from 0.99850\n"
     ]
    },
    {
     "data": {
      "application/vnd.jupyter.widget-view+json": {
       "model_id": "d2408005aebf4edba9b83040355007db",
       "version_major": 2,
       "version_minor": 0
      },
      "text/plain": [
       "  0%|          | 0.00/481 [00:00<?, ?batch/s]"
      ]
     },
     "metadata": {},
     "output_type": "display_data"
    },
    {
     "name": "stdout",
     "output_type": "stream",
     "text": [
      "\n",
      "Epoch 00010: val_accuracy did not improve from 0.99850\n"
     ]
    },
    {
     "data": {
      "application/vnd.jupyter.widget-view+json": {
       "model_id": "95bd6ec7fb584712b7814df7a890a854",
       "version_major": 2,
       "version_minor": 0
      },
      "text/plain": [
       "  0%|          | 0.00/481 [00:00<?, ?batch/s]"
      ]
     },
     "metadata": {},
     "output_type": "display_data"
    },
    {
     "name": "stdout",
     "output_type": "stream",
     "text": [
      "\n",
      "Epoch 00011: val_accuracy did not improve from 0.99850\n"
     ]
    },
    {
     "data": {
      "application/vnd.jupyter.widget-view+json": {
       "model_id": "0028d07613cd453199c22fef7ec07359",
       "version_major": 2,
       "version_minor": 0
      },
      "text/plain": [
       "  0%|          | 0.00/481 [00:00<?, ?batch/s]"
      ]
     },
     "metadata": {},
     "output_type": "display_data"
    },
    {
     "name": "stdout",
     "output_type": "stream",
     "text": [
      "\n",
      "Epoch 00012: val_accuracy did not improve from 0.99850\n"
     ]
    },
    {
     "data": {
      "application/vnd.jupyter.widget-view+json": {
       "model_id": "3113ccf6b67640d0b3a66e2092399e32",
       "version_major": 2,
       "version_minor": 0
      },
      "text/plain": [
       "  0%|          | 0.00/481 [00:00<?, ?batch/s]"
      ]
     },
     "metadata": {},
     "output_type": "display_data"
    },
    {
     "name": "stdout",
     "output_type": "stream",
     "text": [
      "\n",
      "Epoch 00013: val_accuracy did not improve from 0.99850\n",
      "---Time 3183.227243423462 seconds ---\n"
     ]
    }
   ],
   "source": [
    "batch_size = 64\n",
    "epochs = 100\n",
    "from keras import optimizers\n",
    "from keras.optimizers import Adam\n",
    "\n",
    "adam = optimizers.Adam(lr=0.001, beta_1=0.9, beta_2=0.999, epsilon=None, decay=0.0, amsgrad=False)\n",
    "combined_model.compile(loss=keras.losses.categorical_crossentropy,\n",
    "              optimizer= adam,\n",
    "              metrics=['accuracy'])\n",
    "\n",
    "import time\n",
    "start_time = time.time()\n",
    "\n",
    "learning_hist = combined_model.fit([Features_imu,Features_video], Labels,\n",
    "                    verbose=0,\n",
    "                    epochs=epochs,\n",
    "                    shuffle=True,\n",
    "                    batch_size=batch_size,\n",
    "                    callbacks=[checkpointer,earlystopper,TqdmCallback(verbose=2)],\n",
    "                    validation_data=([Features_imu2,Features_video2], Labels2))\n",
    "\n",
    "end_time = time.time()\n",
    "\n",
    "print(\"---Time %s seconds ---\" % (end_time - start_time))"
   ]
  },
  {
   "cell_type": "markdown",
   "metadata": {},
   "source": [
    "# Accuracies"
   ]
  },
  {
   "cell_type": "code",
   "execution_count": 12,
   "metadata": {},
   "outputs": [],
   "source": [
    "from keras.models import load_model\n",
    "\n",
    "model_path2 = 'C:/Users/macro/Desktop/UCLA Class/ECE 209AS ML/TimeAwareness/Baseline Models/imu_video_combined_model_checkpoint'\n",
    "\n",
    "model = load_model(model_path)\n",
    "model2 = load_model(model_path2)"
   ]
  },
  {
   "cell_type": "code",
   "execution_count": 13,
   "metadata": {},
   "outputs": [
    {
     "name": "stdout",
     "output_type": "stream",
     "text": [
      "481/481 [==============================] - 90s 186ms/step - loss: 0.0099 - accuracy: 0.9973\n",
      "481/481 [==============================] - 90s 187ms/step - loss: 0.6212 - accuracy: 0.9473\n"
     ]
    },
    {
     "data": {
      "text/plain": [
       "[0.6212106943130493, 0.9473496079444885]"
      ]
     },
     "execution_count": 13,
     "metadata": {},
     "output_type": "execute_result"
    }
   ],
   "source": [
    "#Train Accuracy\n",
    "model.evaluate([Features_imu,Features_video],Labels,batch_size=64)\n",
    "model2.evaluate([Features_imu,Features_video],Labels,batch_size=64)"
   ]
  },
  {
   "cell_type": "code",
   "execution_count": 14,
   "metadata": {
    "scrolled": true
   },
   "outputs": [
    {
     "name": "stdout",
     "output_type": "stream",
     "text": [
      "32/32 [==============================] - 6s 177ms/step - loss: 0.0073 - accuracy: 0.9985\n",
      "32/32 [==============================] - 6s 176ms/step - loss: 0.0505 - accuracy: 0.9915\n"
     ]
    },
    {
     "data": {
      "text/plain": [
       "[0.050524331629276276, 0.9915000200271606]"
      ]
     },
     "execution_count": 14,
     "metadata": {},
     "output_type": "execute_result"
    }
   ],
   "source": [
    "## Valid Accuracy\n",
    "model.evaluate([Features_imu2,Features_video2],Labels2,batch_size=64)\n",
    "model2.evaluate([Features_imu2,Features_video2],Labels2,batch_size=64)"
   ]
  },
  {
   "cell_type": "code",
   "execution_count": 15,
   "metadata": {},
   "outputs": [
    {
     "name": "stdout",
     "output_type": "stream",
     "text": [
      "22/22 [==============================] - 4s 184ms/step - loss: 0.0968 - accuracy: 0.9666\n",
      "22/22 [==============================] - 4s 172ms/step - loss: 0.1046 - accuracy: 0.9717\n"
     ]
    },
    {
     "data": {
      "text/plain": [
       "[0.1046251580119133, 0.9716775417327881]"
      ]
     },
     "execution_count": 15,
     "metadata": {},
     "output_type": "execute_result"
    }
   ],
   "source": [
    "## Test Accuracy\n",
    "model.evaluate([Features_imu3,Features_video3],Labels3,batch_size=64)\n",
    "model2.evaluate([Features_imu3,Features_video3],Labels3,batch_size=64)"
   ]
  },
  {
   "cell_type": "markdown",
   "metadata": {},
   "source": [
    "# Plotting"
   ]
  },
  {
   "cell_type": "code",
   "execution_count": 16,
   "metadata": {},
   "outputs": [
    {
     "data": {
      "image/png": "[encoded data removed]",
      "text/plain": [
       "<Figure size 720x360 with 1 Axes>"
      ]
     },
     "metadata": {
      "needs_background": "light"
     },
     "output_type": "display_data"
    }
   ],
   "source": [
    "from matplotlib import pyplot as plt\n",
    "\n",
    "plt.rcParams.update({'font.size': 18})\n",
    "\n",
    "plt.figure(figsize=(10,5))\n",
    "\n",
    "plt.plot(learning_hist.history['accuracy'])\n",
    "plt.plot(learning_hist.history['val_accuracy'])\n",
    "plt.title('model accuracy')\n",
    "plt.ylabel('accuracy')\n",
    "plt.xlabel('epoch')\n",
    "plt.legend(['train', 'Valid'], loc='upper right')\n",
    "plt.show()"
   ]
  },
  {
   "cell_type": "code",
   "execution_count": 17,
   "metadata": {},
   "outputs": [
    {
     "data": {
      "image/png": "[encoded data removed]",
      "text/plain": [
       "<Figure size 720x360 with 1 Axes>"
      ]
     },
     "metadata": {
      "needs_background": "light"
     },
     "output_type": "display_data"
    }
   ],
   "source": [
    "# summarize history for loss\n",
    "\n",
    "from matplotlib import pyplot as plt\n",
    "\n",
    "plt.figure(figsize=(10,5))\n",
    "plt.rcParams.update({'font.size': 18})\n",
    "\n",
    "\n",
    "plt.plot(learning_hist.history['loss'])\n",
    "plt.plot(learning_hist.history['val_loss'])\n",
    "plt.title('model loss')\n",
    "plt.ylabel('loss')\n",
    "plt.xlabel('epoch')\n",
    "plt.legend(['train', 'Valid'], loc='upper right')\n",
    "plt.show()"
   ]
  },
  {
   "cell_type": "code",
   "execution_count": 18,
   "metadata": {},
   "outputs": [],
   "source": [
    "def get_test_data2(path=path):\n",
    "    Train_data=np.load(path+'Data_test_71.pkl',allow_pickle=True)\n",
    "    Features_imu=np.asarray(Train_data[0],dtype=np.float64)\n",
    "    Labels=Train_data[1]\n",
    "    Features_video=Train_data[3]\n",
    "    \n",
    "    Features_imu = Features_imu.reshape(Features_imu.shape[0],1, Features_imu.shape[1], Features_imu.shape[2]) \n",
    "\n",
    "    return Features_imu,Labels,Features_video"
   ]
  },
  {
   "cell_type": "code",
   "execution_count": 19,
   "metadata": {},
   "outputs": [],
   "source": [
    "Features_imu_t1,Labels_t1,Features_video_t1 = get_test_data2()"
   ]
  },
  {
   "cell_type": "code",
   "execution_count": 20,
   "metadata": {},
   "outputs": [],
   "source": [
    "Labels_t1 = np.array(Labels_t1)"
   ]
  },
  {
   "cell_type": "code",
   "execution_count": 21,
   "metadata": {},
   "outputs": [
    {
     "data": {
      "text/plain": [
       "array(['downstair', 'downstair', 'downstair', 'downstair', 'downstair',\n",
       "       'downstair', 'downstair', 'downstair', 'downstair', 'downstair',\n",
       "       'downstair', 'downstair', 'downstair', 'downstair', 'downstair',\n",
       "       'downstair', 'downstair', 'downstair', 'downstair', 'downstair',\n",
       "       'downstair', 'downstair', 'downstair', 'downstair', 'downstair',\n",
       "       'downstair', 'downstair', 'downstair', 'downstair', 'downstair',\n",
       "       'downstair', 'downstair', 'downstair', 'downstair', 'downstair',\n",
       "       'downstair', 'downstair', 'downstair', 'downstair', 'downstair',\n",
       "       'downstair', 'downstair', 'downstair', 'downstair', 'downstair',\n",
       "       'downstair', 'downstair', 'downstair', 'downstair', 'downstair',\n",
       "       'downstair', 'downstair', 'downstair', 'downstair', 'downstair',\n",
       "       'downstair', 'downstair', 'downstair', 'downstair', 'downstair',\n",
       "       'downstair', 'downstair', 'downstair', 'downstair', 'downstair',\n",
       "       'downstair', 'downstair', 'downstair', 'downstair', 'downstair',\n",
       "       'downstair', 'downstair', 'downstair', 'downstair', 'downstair',\n",
       "       'downstair', 'downstair', 'downstair', 'downstair', 'downstair',\n",
       "       'downstair', 'downstair', 'downstair', 'downstair', 'downstair',\n",
       "       'downstair', 'downstair', 'downstair', 'downstair', 'downstair',\n",
       "       'downstair', 'downstair', 'downstair', 'downstair', 'downstair',\n",
       "       'downstair', 'downstair', 'downstair', 'downstair', 'downstair'],\n",
       "      dtype='<U11')"
      ]
     },
     "execution_count": 21,
     "metadata": {},
     "output_type": "execute_result"
    }
   ],
   "source": [
    "Labels_t1[:100]"
   ]
  },
  {
   "cell_type": "code",
   "execution_count": 22,
   "metadata": {},
   "outputs": [],
   "source": [
    "# For 10 second together\n",
    "num_windows_together = 5\n",
    "\n",
    "curr_indx = 0\n",
    "final_indx = Features_imu_t1.shape[0]\n",
    "\n",
    "data_together = []\n",
    "\n",
    "while curr_indx <= final_indx:\n",
    "    IMU_together   = Features_imu_t1[curr_indx:curr_indx+num_windows_together]\n",
    "    video_together = Features_video_t1[curr_indx:curr_indx+num_windows_together]\n",
    "    labels_together = Labels_t1[curr_indx:curr_indx+num_windows_together]\n",
    "    \n",
    "    data_together.append([IMU_together,video_together,labels_together])\n",
    "    \n",
    "    curr_indx = curr_indx+num_windows_together"
   ]
  },
  {
   "cell_type": "code",
   "execution_count": 23,
   "metadata": {},
   "outputs": [],
   "source": [
    "rand_seed = 4\n",
    "from numpy.random import seed\n",
    "seed(rand_seed)\n",
    "\n",
    "ordering = np.arange(len(data_together))\n",
    "np.random.shuffle(ordering)"
   ]
  },
  {
   "cell_type": "code",
   "execution_count": 24,
   "metadata": {},
   "outputs": [
    {
     "data": {
      "text/plain": [
       "array([166, 225, 146, 215,  82,  46,  18, 113, 253,  47, 171, 275,   6,\n",
       "       123, 250, 232, 203, 124,  45, 133, 111,  24,   1, 159, 212, 101,\n",
       "       137, 128, 139, 256,  33,  11, 106,  68,  39,  69, 110,  43,  83,\n",
       "       108, 169,  64, 223, 189, 134,  88, 235,  93, 191, 260, 249, 271,\n",
       "       254, 100,  92,  71, 103,  63, 267, 144,  13,  42,  14, 268, 182,\n",
       "       140,  84,  48, 130,  55, 184, 152, 251, 178,  20, 175, 129, 266,\n",
       "       269, 218, 227, 193, 261,  91, 216, 162, 229, 116, 121,  34, 233,\n",
       "       112, 247, 231, 239, 153,  57,  81,  70,  26])"
      ]
     },
     "execution_count": 24,
     "metadata": {},
     "output_type": "execute_result"
    }
   ],
   "source": [
    "ordering[:100]"
   ]
  },
  {
   "cell_type": "code",
   "execution_count": 25,
   "metadata": {},
   "outputs": [],
   "source": [
    "indx = ordering[0]\n",
    "\n",
    "Features_imu_t1  = data_together[indx][0]\n",
    "Features_video_t1 = data_together[indx][1]\n",
    "Labels_t1 = data_together[indx][2]\n",
    "\n",
    "\n",
    "#print(Features_imu_t1.shape,Labels_t1.shape,Features_sound_t1.shape)\n",
    "\n",
    "for i in range(1, len(data_together)):\n",
    "    indx = ordering[i]\n",
    "    IMU_together  = data_together[indx][0]\n",
    "    video_together= data_together[indx][1]\n",
    "    labels_together=data_together[indx][2]\n",
    "    #print(indx, IMU_together.shape,sound_together.shape,labels_together.shape)\n",
    "    Features_imu_t1 = np.concatenate((Features_imu_t1,IMU_together),axis=0)\n",
    "    Labels_t1 = np.concatenate((Labels_t1,labels_together),axis=0)\n",
    "    Features_video_t1 = np.concatenate((Features_video_t1,video_together),axis=0)\n",
    "    #print(indx, IMU_together.shape,sound_together.shape,labels_together.shape)"
   ]
  },
  {
   "cell_type": "code",
   "execution_count": 26,
   "metadata": {},
   "outputs": [
    {
     "name": "stdout",
     "output_type": "stream",
     "text": [
      "(1377, 1, 40, 12) (1377,) (1377, 45, 64, 64, 3)\n"
     ]
    }
   ],
   "source": [
    "print(Features_imu_t1.shape, Labels_t1.shape, Features_video_t1.shape)"
   ]
  },
  {
   "cell_type": "code",
   "execution_count": 27,
   "metadata": {},
   "outputs": [
    {
     "data": {
      "text/plain": [
       "array(['walk', 'walk', 'walk', 'walk', 'walk', 'handwashing',\n",
       "       'handwashing', 'handwashing', 'handwashing', 'handwashing', 'jump',\n",
       "       'jump', 'jump', 'jump', 'jump', 'handwashing', 'handwashing',\n",
       "       'handwashing', 'handwashing', 'handwashing', 'upstair', 'upstair',\n",
       "       'upstair', 'upstair', 'upstair', 'upstair', 'upstair', 'upstair',\n",
       "       'upstair', 'upstair', 'downstair', 'downstair', 'downstair',\n",
       "       'downstair', 'downstair', 'run', 'run', 'run', 'run', 'run',\n",
       "       'exercise', 'exercise', 'exercise', 'exercise', 'exercise',\n",
       "       'upstair', 'upstair', 'upstair', 'upstair', 'upstair', 'walk',\n",
       "       'walk', 'walk', 'walk', 'walk', 'exercise', 'exercise',\n",
       "       'downstair', 'downstair', 'downstair', 'downstair', 'downstair',\n",
       "       'jump', 'jump', 'jump', 'jump', 'jump', 'exercise', 'exercise',\n",
       "       'exercise', 'exercise', 'exercise', 'exercise', 'exercise',\n",
       "       'exercise', 'exercise', 'exercise', 'handwashing', 'handwashing',\n",
       "       'handwashing', 'handwashing', 'handwashing', 'jump', 'jump',\n",
       "       'jump', 'jump', 'jump', 'upstair', 'upstair', 'upstair', 'upstair',\n",
       "       'upstair', 'jump', 'jump', 'jump', 'jump', 'jump', 'run', 'run',\n",
       "       'run'], dtype='<U11')"
      ]
     },
     "execution_count": 27,
     "metadata": {},
     "output_type": "execute_result"
    }
   ],
   "source": [
    "Labels_t1[:100]"
   ]
  },
  {
   "cell_type": "code",
   "execution_count": 28,
   "metadata": {},
   "outputs": [],
   "source": [
    "Labels_t1 = one_hot_encoding(Labels_t1)"
   ]
  },
  {
   "cell_type": "code",
   "execution_count": 29,
   "metadata": {},
   "outputs": [
    {
     "name": "stdout",
     "output_type": "stream",
     "text": [
      "22/22 [==============================] - 4s 174ms/step - loss: 0.0968 - accuracy: 0.9666\n"
     ]
    },
    {
     "data": {
      "text/plain": [
       "[0.0968121662735939, 0.9665940403938293]"
      ]
     },
     "execution_count": 29,
     "metadata": {},
     "output_type": "execute_result"
    }
   ],
   "source": [
    "model.evaluate([Features_imu_t1,Features_video_t1],Labels_t1,batch_size=64)"
   ]
  },
  {
   "cell_type": "code",
   "execution_count": 30,
   "metadata": {},
   "outputs": [],
   "source": [
    "acc_right=[]\n",
    "gyro_right=[]\n",
    "acc_left=[]\n",
    "gyro_left=[]\n",
    "\n",
    "for i in range(Features_imu_t1.shape[0]):\n",
    "    acc_right.append([Features_imu_t1[i,0,:,0],Features_imu_t1[i,0,:,1],Features_imu_t1[i,0,:,2]])\n",
    "    gyro_right.append([Features_imu_t1[i,0,:,3],Features_imu_t1[i,0,:,4],Features_imu_t1[i,0,:,5]])\n",
    "    acc_left.append([Features_imu_t1[i,0,:,6],Features_imu_t1[i,0,:,7],Features_imu_t1[i,0,:,8]])\n",
    "    gyro_left.append([Features_imu_t1[i,0,:,9],Features_imu_t1[i,0,:,10],Features_imu_t1[i,0,:,11]])\n",
    "        "
   ]
  },
  {
   "cell_type": "code",
   "execution_count": 31,
   "metadata": {},
   "outputs": [],
   "source": [
    "acc_right=np.array(acc_right)\n",
    "gyro_right=np.array(gyro_right)\n",
    "acc_left=np.array(acc_left)\n",
    "gyro_left=np.array(gyro_left)"
   ]
  },
  {
   "cell_type": "code",
   "execution_count": 32,
   "metadata": {},
   "outputs": [
    {
     "name": "stdout",
     "output_type": "stream",
     "text": [
      "(1377, 3, 40)\n",
      "(1377, 3, 40)\n",
      "(1377, 3, 40)\n",
      "(1377, 3, 40)\n"
     ]
    }
   ],
   "source": [
    "print(acc_right.shape)\n",
    "print(gyro_right.shape)\n",
    "print(acc_left.shape)\n",
    "print(gyro_left.shape)"
   ]
  },
  {
   "cell_type": "code",
   "execution_count": 33,
   "metadata": {},
   "outputs": [],
   "source": [
    "acc_right_cont= acc_right[0,]\n",
    "gyro_right_cont= gyro_right[0,]\n",
    "\n",
    "acc_left_cont= acc_left[0,]\n",
    "gyro_left_cont= gyro_left[0,]\n",
    "\n",
    "\n",
    "for i in range(1, Features_imu_t1.shape[0]):\n",
    "    #print(i)\n",
    "    acc_right_cont=np.hstack((acc_right_cont,acc_right[i,]))\n",
    "    gyro_right_cont=np.hstack((gyro_right_cont,gyro_right[i,]))\n",
    "    acc_left_cont=np.hstack((acc_left_cont,acc_left[i,]))\n",
    "    gyro_left_cont=np.hstack((gyro_left_cont,gyro_left[i,]))"
   ]
  },
  {
   "cell_type": "code",
   "execution_count": 34,
   "metadata": {},
   "outputs": [
    {
     "name": "stdout",
     "output_type": "stream",
     "text": [
      "(3, 55080)\n",
      "(3, 55080)\n",
      "(3, 55080)\n",
      "(3, 55080)\n"
     ]
    }
   ],
   "source": [
    "print(acc_right_cont.shape)\n",
    "print(gyro_right_cont.shape)\n",
    "print(acc_left_cont.shape)\n",
    "print(gyro_left_cont.shape)\n"
   ]
  },
  {
   "cell_type": "code",
   "execution_count": 35,
   "metadata": {},
   "outputs": [],
   "source": [
    "def get_data_sample_shift(shift_samples = 1):\n",
    "    sample_size = 40 #need to be 40, as decided during training\n",
    "    total_samples = acc_right_cont.shape[1]\n",
    "    \n",
    "    #print(total_samples)\n",
    "    \n",
    "    current_cursor = shift_samples\n",
    "\n",
    "    i = 0\n",
    "\n",
    "    acc_right_pro= np.array(acc_right_cont[np.newaxis,:,current_cursor:current_cursor+sample_size])\n",
    "\n",
    "    #print(acc_right_pro.shape)\n",
    "\n",
    "    gyro_right_pro= np.array(gyro_right_cont[np.newaxis,:,current_cursor:current_cursor+sample_size])\n",
    "\n",
    "    acc_left_pro= np.array(acc_left_cont[np.newaxis,:,current_cursor:current_cursor+sample_size])\n",
    "\n",
    "    gyro_left_pro= np.array(gyro_left_cont[np.newaxis,:,current_cursor:current_cursor+sample_size])\n",
    "\n",
    "    #print(np.array(acc_right_cont[np.newaxis,:,current_cursor:current_cursor+sample_size]).shape)\n",
    "\n",
    "    while current_cursor<=(total_samples-2*sample_size):\n",
    "        current_cursor = current_cursor + sample_size\n",
    "        #print(current_cursor,\" : \", i)\n",
    "        a=acc_right_pro\n",
    "        b=np.array(acc_right_cont[np.newaxis,:,current_cursor:current_cursor+sample_size])\n",
    "        acc_right_pro = np.concatenate((a,b),axis=0)\n",
    "\n",
    "\n",
    "        a=gyro_right_pro\n",
    "        b=np.array(gyro_right_cont[np.newaxis,:,current_cursor:current_cursor+sample_size])\n",
    "        gyro_right_pro = np.concatenate((a,b),axis=0)\n",
    "\n",
    "\n",
    "        a=acc_left_pro\n",
    "        b=np.array(acc_left_cont[np.newaxis,:,current_cursor:current_cursor+sample_size])\n",
    "        #print(a.shape,b.shape)\n",
    "        acc_left_pro = np.concatenate((a,b),axis=0)\n",
    "\n",
    "        a=gyro_left_pro\n",
    "        b=np.array(gyro_left_cont[np.newaxis,:,current_cursor:current_cursor+sample_size])\n",
    "        gyro_left_pro = np.concatenate((a,b),axis=0)\n",
    "        i = i+1\n",
    "        \n",
    "    IMU_processed = np.concatenate((acc_right_pro,gyro_right_pro,acc_left_pro,gyro_left_pro),axis=1)\n",
    "    IMU_processed = IMU_processed[:,np.newaxis,:,:]\n",
    "    IMU_processed = np.swapaxes(IMU_processed,2,3)\n",
    "        \n",
    "    size = IMU_processed.shape[0]\n",
    "        \n",
    "    return Features_video_t1[:size], IMU_processed ,Labels_t1[:size]\n",
    "        "
   ]
  },
  {
   "cell_type": "code",
   "execution_count": 36,
   "metadata": {},
   "outputs": [],
   "source": [
    "Accuracy_vanilla = []\n",
    "Accuracy_1000ms = []"
   ]
  },
  {
   "cell_type": "code",
   "execution_count": 37,
   "metadata": {},
   "outputs": [
    {
     "name": "stdout",
     "output_type": "stream",
     "text": [
      "22/22 [==============================] - 4s 172ms/step - loss: 0.0968 - accuracy: 0.9666\n",
      "22/22 [==============================] - 4s 175ms/step - loss: 0.1046 - accuracy: 0.9717\n",
      "Shift is: 0 0.9665940403938293 0.9716775417327881\n",
      "22/22 [==============================] - 4s 186ms/step - loss: 0.1020 - accuracy: 0.9680\n",
      "22/22 [==============================] - 4s 172ms/step - loss: 0.1457 - accuracy: 0.9680\n",
      "Shift is: 1 0.9680232405662537 0.9680232405662537\n",
      "22/22 [==============================] - 4s 193ms/step - loss: 0.0976 - accuracy: 0.9695\n",
      "22/22 [==============================] - 4s 177ms/step - loss: 0.1668 - accuracy: 0.9688\n",
      "Shift is: 2 0.9694767594337463 0.96875\n",
      "22/22 [==============================] - 4s 172ms/step - loss: 0.0968 - accuracy: 0.9666\n",
      "22/22 [==============================] - 4s 172ms/step - loss: 0.1908 - accuracy: 0.9666\n",
      "Shift is: 3 0.9665697813034058 0.9665697813034058\n",
      "22/22 [==============================] - 4s 172ms/step - loss: 0.0910 - accuracy: 0.9702\n",
      "22/22 [==============================] - 4s 172ms/step - loss: 0.2166 - accuracy: 0.9666\n",
      "Shift is: 4 0.9702034592628479 0.9665697813034058\n",
      "22/22 [==============================] - 4s 172ms/step - loss: 0.0992 - accuracy: 0.9629\n",
      "22/22 [==============================] - 4s 178ms/step - loss: 0.2375 - accuracy: 0.9608\n",
      "Shift is: 5 0.9629360437393188 0.9607558250427246\n",
      "22/22 [==============================] - 4s 174ms/step - loss: 0.0965 - accuracy: 0.9673\n",
      "22/22 [==============================] - 4s 172ms/step - loss: 0.2489 - accuracy: 0.9600\n",
      "Shift is: 6 0.9672965407371521 0.9600290656089783\n",
      "22/22 [==============================] - 4s 172ms/step - loss: 0.1013 - accuracy: 0.9680\n",
      "22/22 [==============================] - 4s 172ms/step - loss: 0.2365 - accuracy: 0.9571\n",
      "Shift is: 7 0.9680232405662537 0.9571220874786377\n",
      "22/22 [==============================] - 4s 172ms/step - loss: 0.0945 - accuracy: 0.9651\n",
      "22/22 [==============================] - 4s 172ms/step - loss: 0.3204 - accuracy: 0.9535\n",
      "Shift is: 8 0.9651162624359131 0.9534883499145508\n",
      "22/22 [==============================] - 4s 172ms/step - loss: 0.0861 - accuracy: 0.9695\n",
      "22/22 [==============================] - 4s 172ms/step - loss: 0.3698 - accuracy: 0.9419\n",
      "Shift is: 9 0.9694767594337463 0.9418604373931885\n",
      "22/22 [==============================] - 4s 172ms/step - loss: 0.0882 - accuracy: 0.9709\n",
      "22/22 [==============================] - 4s 193ms/step - loss: 0.5006 - accuracy: 0.9331\n",
      "Shift is: 10 0.9709302186965942 0.9331395626068115\n",
      "22/22 [==============================] - 5s 206ms/step - loss: 0.0923 - accuracy: 0.9731\n",
      "22/22 [==============================] - 4s 172ms/step - loss: 0.4983 - accuracy: 0.9397\n",
      "Shift is: 11 0.9731104373931885 0.9396802186965942\n",
      "22/22 [==============================] - 4s 172ms/step - loss: 0.0955 - accuracy: 0.9673\n",
      "22/22 [==============================] - 4s 172ms/step - loss: 0.5249 - accuracy: 0.9382\n",
      "Shift is: 12 0.9672965407371521 0.9382267594337463\n",
      "22/22 [==============================] - 4s 173ms/step - loss: 0.0921 - accuracy: 0.9644\n",
      "22/22 [==============================] - 4s 173ms/step - loss: 0.5635 - accuracy: 0.9339\n",
      "Shift is: 13 0.9643895626068115 0.9338662624359131\n",
      "22/22 [==============================] - 4s 172ms/step - loss: 0.1036 - accuracy: 0.9702\n",
      "22/22 [==============================] - 4s 177ms/step - loss: 0.5905 - accuracy: 0.9324\n",
      "Shift is: 14 0.9702034592628479 0.9324128031730652\n",
      "22/22 [==============================] - 4s 172ms/step - loss: 0.0905 - accuracy: 0.9702\n",
      "22/22 [==============================] - 4s 191ms/step - loss: 0.5648 - accuracy: 0.9302\n",
      "Shift is: 15 0.9702034592628479 0.930232584476471\n",
      "22/22 [==============================] - 4s 173ms/step - loss: 0.1043 - accuracy: 0.9717\n",
      "22/22 [==============================] - 4s 174ms/step - loss: 0.6008 - accuracy: 0.9251\n",
      "Shift is: 16 0.9716569781303406 0.9251453280448914\n",
      "22/22 [==============================] - 4s 173ms/step - loss: 0.0928 - accuracy: 0.9746\n",
      "22/22 [==============================] - 4s 173ms/step - loss: 0.6513 - accuracy: 0.9150\n",
      "Shift is: 17 0.9745639562606812 0.9149709343910217\n",
      "22/22 [==============================] - 4s 172ms/step - loss: 0.1050 - accuracy: 0.9702\n",
      "22/22 [==============================] - 4s 173ms/step - loss: 0.7466 - accuracy: 0.9084\n",
      "Shift is: 18 0.9702034592628479 0.9084302186965942\n",
      "22/22 [==============================] - 4s 173ms/step - loss: 0.0905 - accuracy: 0.9688\n",
      "22/22 [==============================] - 4s 173ms/step - loss: 0.8059 - accuracy: 0.9062\n",
      "Shift is: 19 0.96875 0.90625\n",
      "22/22 [==============================] - 4s 173ms/step - loss: 0.1208 - accuracy: 0.9615\n",
      "22/22 [==============================] - 4s 173ms/step - loss: 0.8609 - accuracy: 0.8968\n",
      "Shift is: 20 0.961482584476471 0.8968023061752319\n",
      "22/22 [==============================] - 4s 173ms/step - loss: 0.1064 - accuracy: 0.9637\n",
      "22/22 [==============================] - 4s 173ms/step - loss: 0.9736 - accuracy: 0.9041\n",
      "Shift is: 21 0.9636628031730652 0.9040697813034058\n",
      "22/22 [==============================] - 4s 174ms/step - loss: 0.1193 - accuracy: 0.9622\n",
      "22/22 [==============================] - 4s 173ms/step - loss: 1.1086 - accuracy: 0.8953\n",
      "Shift is: 22 0.9622092843055725 0.895348846912384\n",
      "22/22 [==============================] - 4s 172ms/step - loss: 0.1225 - accuracy: 0.9644\n",
      "22/22 [==============================] - 4s 173ms/step - loss: 1.2014 - accuracy: 0.8888\n",
      "Shift is: 23 0.9643895626068115 0.8888081312179565\n",
      "22/22 [==============================] - 4s 173ms/step - loss: 0.1359 - accuracy: 0.9586\n",
      "22/22 [==============================] - 4s 177ms/step - loss: 1.3227 - accuracy: 0.8939\n",
      "Shift is: 24 0.9585756063461304 0.8938953280448914\n",
      "22/22 [==============================] - 4s 204ms/step - loss: 0.1283 - accuracy: 0.9593\n",
      "22/22 [==============================] - 4s 184ms/step - loss: 1.3629 - accuracy: 0.8866\n",
      "Shift is: 25 0.9593023061752319 0.8866279125213623\n",
      "22/22 [==============================] - 4s 199ms/step - loss: 0.1427 - accuracy: 0.9528\n",
      "22/22 [==============================] - 4s 181ms/step - loss: 1.4468 - accuracy: 0.8801\n",
      "Shift is: 26 0.9527616500854492 0.8800871968269348\n",
      "22/22 [==============================] - 4s 181ms/step - loss: 0.1444 - accuracy: 0.9535\n",
      "22/22 [==============================] - 4s 175ms/step - loss: 1.4001 - accuracy: 0.8844\n",
      "Shift is: 27 0.9534883499145508 0.8844476938247681\n",
      "22/22 [==============================] - 4s 175ms/step - loss: 0.1559 - accuracy: 0.9520\n",
      "22/22 [==============================] - 4s 175ms/step - loss: 1.6048 - accuracy: 0.8728\n",
      "Shift is: 28 0.9520348906517029 0.8728197813034058\n",
      "22/22 [==============================] - 4s 175ms/step - loss: 0.1635 - accuracy: 0.9484\n",
      "22/22 [==============================] - 4s 176ms/step - loss: 1.6631 - accuracy: 0.8692\n",
      "Shift is: 29 0.948401153087616 0.8691860437393188\n",
      "22/22 [==============================] - 4s 175ms/step - loss: 0.1827 - accuracy: 0.9520\n",
      "22/22 [==============================] - 4s 176ms/step - loss: 1.7940 - accuracy: 0.8670\n",
      "Shift is: 30 0.9520348906517029 0.8670058250427246\n",
      "22/22 [==============================] - 4s 175ms/step - loss: 0.1956 - accuracy: 0.9411\n",
      "22/22 [==============================] - 4s 175ms/step - loss: 1.8786 - accuracy: 0.8583\n",
      "Shift is: 31 0.9411337375640869 0.8582848906517029\n",
      "22/22 [==============================] - 4s 174ms/step - loss: 0.2271 - accuracy: 0.9397\n",
      "22/22 [==============================] - 4s 176ms/step - loss: 2.0014 - accuracy: 0.8547\n",
      "Shift is: 32 0.9396802186965942 0.854651153087616\n",
      "22/22 [==============================] - 4s 178ms/step - loss: 0.2348 - accuracy: 0.9331\n",
      "22/22 [==============================] - 4s 176ms/step - loss: 2.1538 - accuracy: 0.8525\n",
      "Shift is: 33 0.9331395626068115 0.8524709343910217\n",
      "22/22 [==============================] - 4s 175ms/step - loss: 0.2726 - accuracy: 0.9346\n",
      "22/22 [==============================] - 4s 175ms/step - loss: 2.2935 - accuracy: 0.8430\n",
      "Shift is: 34 0.9345930218696594 0.8430232405662537\n",
      "22/22 [==============================] - 4s 175ms/step - loss: 0.2912 - accuracy: 0.9339\n",
      "22/22 [==============================] - 4s 175ms/step - loss: 2.3460 - accuracy: 0.8430\n",
      "Shift is: 35 0.9338662624359131 0.8430232405662537\n"
     ]
    },
    {
     "name": "stdout",
     "output_type": "stream",
     "text": [
      "22/22 [==============================] - 4s 174ms/step - loss: 0.3296 - accuracy: 0.9288\n",
      "22/22 [==============================] - 4s 175ms/step - loss: 2.5544 - accuracy: 0.8503\n",
      "Shift is: 36 0.9287790656089783 0.8502907156944275\n",
      "22/22 [==============================] - 4s 174ms/step - loss: 0.3451 - accuracy: 0.9259\n",
      "22/22 [==============================] - 4s 174ms/step - loss: 2.7287 - accuracy: 0.8481\n",
      "Shift is: 37 0.9258720874786377 0.8481104373931885\n",
      "22/22 [==============================] - 4s 174ms/step - loss: 0.3515 - accuracy: 0.9273\n",
      "22/22 [==============================] - 4s 174ms/step - loss: 2.8604 - accuracy: 0.8445\n",
      "Shift is: 38 0.9273256063461304 0.8444767594337463\n",
      "22/22 [==============================] - 4s 174ms/step - loss: 0.4097 - accuracy: 0.9230\n",
      "22/22 [==============================] - 4s 174ms/step - loss: 2.8906 - accuracy: 0.8438\n",
      "Shift is: 39 0.9229651093482971 0.84375\n",
      "22/22 [==============================] - 4s 174ms/step - loss: 0.4442 - accuracy: 0.9186\n",
      "22/22 [==============================] - 4s 174ms/step - loss: 3.0299 - accuracy: 0.8430\n",
      "Shift is: 40 0.9186046719551086 0.8430232405662537\n"
     ]
    }
   ],
   "source": [
    "for shift in range(41):\n",
    "    Features_video, IMU ,Labels =  get_data_sample_shift(shift_samples = shift)\n",
    "    evaluation1 = model.evaluate([IMU,Features_video],Labels,batch_size=64)\n",
    "    Accuracy_1000ms.append(evaluation1[1])\n",
    "    \n",
    "    evaluation2 = model2.evaluate([IMU,Features_video],Labels,batch_size=64)\n",
    "    Accuracy_vanilla.append(evaluation2[1])\n",
    "    \n",
    "    print(\"Shift is:\",shift,evaluation1[1],evaluation2[1])"
   ]
  },
  {
   "cell_type": "code",
   "execution_count": 38,
   "metadata": {},
   "outputs": [
    {
     "data": {
      "image/png": "[encoded data removed]",
      "text/plain": [
       "<Figure size 720x360 with 1 Axes>"
      ]
     },
     "metadata": {
      "needs_background": "light"
     },
     "output_type": "display_data"
    }
   ],
   "source": [
    "from matplotlib import pyplot as plt\n",
    "\n",
    "plt.figure(figsize=(10,5))\n",
    "plt.rcParams.update({'font.size': 18})\n",
    "\n",
    "y = np.arange(len(Accuracy_vanilla[:41]))\n",
    "\n",
    "y = y * 50\n",
    "\n",
    "plt.plot(y,(np.array(Accuracy_1000ms[:41])*100))\n",
    "plt.plot(y,(np.array(Accuracy_vanilla[:41])*100))\n",
    "\n",
    "#plt.title('Fused Model Accuracy')\n",
    "plt.ylabel('Accuracy')\n",
    "plt.xlabel('Time Synchronization Error (ms)')\n",
    "plt.legend(['Augmentation 1000ms','No Augmentation'], loc='lower left')\n",
    "plt.show()"
   ]
  },
  {
   "cell_type": "code",
   "execution_count": null,
   "metadata": {},
   "outputs": [],
   "source": []
  }
 ],
 "metadata": {
  "kernelspec": {
   "display_name": "Python 3",
   "language": "python",
   "name": "python3"
  },
  "language_info": {
   "codemirror_mode": {
    "name": "ipython",
    "version": 3
   },
   "file_extension": ".py",
   "mimetype": "text/x-python",
   "name": "python",
   "nbconvert_exporter": "python",
   "pygments_lexer": "ipython3",
   "version": "3.7.9"
  }
 },
 "nbformat": 4,
 "nbformat_minor": 2
}
